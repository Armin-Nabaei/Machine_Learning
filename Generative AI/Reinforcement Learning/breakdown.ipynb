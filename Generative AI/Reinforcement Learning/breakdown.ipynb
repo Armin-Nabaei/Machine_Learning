{
  "cells": [
    {
      "cell_type": "code",
      "execution_count": null,
      "metadata": {
        "id": "PxcIDpqm93f_"
      },
      "outputs": [],
      "source": [
        "#Libraries\n",
        "import cv2\n",
        "import gym\n",
        "import numpy as np\n",
        "from gym.spaces.box import Box\n",
        "from gym import wrappers\n",
        "import torch\n",
        "import torch.nn as nn\n",
        "import torch.nn.functional as F\n",
        "import math\n",
        "import torch.optim as optim\n",
        "import torch.nn.functional as F\n",
        "from torch.autograd import Variable\n",
        "import time\n",
        "from collections import deque\n",
        "from torch.autograd import Variable\n",
        "from __future__ import print_function\n",
        "import os\n",
        "import torch\n",
        "import torch.multiprocessing as mp"
      ]
    },
    {
      "cell_type": "code",
      "execution_count": null,
      "metadata": {
        "id": "6Ilu3x-fZTIW"
      },
      "outputs": [],
      "source": [
        "def create_atari_env(env_id, video=False):\n",
        "    env = gym.make(env_id)\n",
        "    if video:\n",
        "        env = wrappers.Monitor(env, 'test', force=True)\n",
        "    env =Rescale(env)\n",
        "    env = NormalizedEnv(env)\n",
        "    return env\n",
        "\n",
        "def _process_frame42(frame):\n",
        "    frame = frame[34:34 + 160, :160]\n",
        "    frame = cv2.resize(frame, (80, 80))\n",
        "    frame = cv2.resize(frame, (42, 42))\n",
        "    frame = frame.mean(2)\n",
        "    frame = frame.astype(np.float32)\n",
        "    frame *= (1.0 / 255.0)\n",
        "    return frame\n",
        "\n",
        "class Rescale(gym.ObservationWrapper):\n",
        "\n",
        "    def __init__(self, env=None):\n",
        "        super(Rescale, self).__init__(env)\n",
        "        self.observation_space = Box(0.0, 1.0, [1, 42, 42])\n",
        "\n",
        "    def _observation(self, observation):\n",
        "    \treturn _process_frame42(observation)\n",
        "\n",
        "\n",
        "class NormalizedEnv(gym.ObservationWrapper):\n",
        "\n",
        "    def __init__(self, env=None):\n",
        "        super(NormalizedEnv, self).__init__(env)\n",
        "        self.state_mean = 0\n",
        "        self.state_std = 0\n",
        "        self.alpha = 0.9999\n",
        "        self.num_steps = 0\n",
        "\n",
        "    def _observation(self, observation):\n",
        "        self.num_steps += 1\n",
        "        self.state_mean = self.state_mean * self.alpha + \\\n",
        "            observation.mean() * (1 - self.alpha)\n",
        "        self.state_std = self.state_std * self.alpha + \\\n",
        "            observation.std() * (1 - self.alpha)\n",
        "\n",
        "        unbiased_mean = self.state_mean / (1 - pow(self.alpha, self.num_steps))\n",
        "        unbiased_std = self.state_std / (1 - pow(self.alpha, self.num_steps))\n",
        "\n",
        "        ret = (observation - unbiased_mean) / (unbiased_std + 1e-8)\n",
        "        return np.expand_dims(ret, axis=0)\n"
      ]
    },
    {
      "cell_type": "markdown",
      "metadata": {
        "id": "wd2gXII2ZfrM"
      },
      "source": [
        "# Model"
      ]
    },
    {
      "cell_type": "code",
      "execution_count": null,
      "metadata": {
        "colab": {
          "base_uri": "https://localhost:8080/"
        },
        "id": "27yFWWimZisI",
        "outputId": "7f432c4a-12fe-4927-d43b-e9d9b3f369de"
      },
      "outputs": [
        {
          "name": "stderr",
          "output_type": "stream",
          "text": [
            "/usr/local/lib/python3.10/dist-packages/ipykernel/ipkernel.py:283: DeprecationWarning: `should_run_async` will not call `transform_cell` automatically in the future. Please pass the result to `transformed_cell` argument and any exception that happen during thetransform in `preprocessing_exc_tuple` in IPython 7.17 and above.\n",
            "  and should_run_async(code)\n"
          ]
        }
      ],
      "source": [
        "def normalized_columns_initializer(weights, std=1.0):\n",
        "    out = torch.randn(weights.size())\n",
        "    out *= std / torch.sqrt(out.pow(2).sum(1).expand_as(out))\n",
        "    print (out.shape)\n",
        "    return out\n",
        "\n",
        "def weights_init(m):\n",
        "    classname = m.__class__.__name__\n",
        "    if classname.find('Conv') != -1:\n",
        "        weight_shape = list(m.weight.data.size())\n",
        "        fan_in = np.prod(weight_shape[1:4])\n",
        "        fan_out = np.prod(weight_shape[2:4]) * weight_shape[0]\n",
        "        w_bound = np.sqrt(6. / (fan_in + fan_out))\n",
        "        m.weight.data.uniform_(-w_bound, w_bound)\n",
        "        m.bias.data.fill_(0)\n",
        "    elif classname.find('Linear') != -1:\n",
        "        weight_shape = list(m.weight.data.size())\n",
        "        fan_in = weight_shape[1]\n",
        "        fan_out = weight_shape[0]\n",
        "        w_bound = np.sqrt(6. / (fan_in + fan_out))\n",
        "        m.weight.data.uniform_(-w_bound, w_bound)\n",
        "        m.bias.data.fill_(0)\n",
        "\n",
        "class ActorCritic(torch.nn.Module):\n",
        "\n",
        "    def __init__(self, num_inputs, action_space):\n",
        "        super(ActorCritic, self).__init__()\n",
        "        self.conv1 = nn.Conv2d(num_inputs, 32, 3, stride=2, padding=1)\n",
        "        self.conv2 = nn.Conv2d(32, 32, 3, stride=2, padding=1)\n",
        "        self.conv3 = nn.Conv2d(32, 32, 3, stride=2, padding=1)\n",
        "        self.conv4 = nn.Conv2d(32, 32, 3, stride=2, padding=1)\n",
        "        self.lstm = nn.LSTMCell(32 * 3 * 3, 256)\n",
        "        num_outputs = action_space.n\n",
        "        self.critic_linear = nn.Linear(256, 1)\n",
        "        self.actor_linear = nn.Linear(256, num_outputs)\n",
        "        self.apply(weights_init)\n",
        "        self.actor_linear.weight.data = normalized_columns_initializer(self.actor_linear.weight.data, 0.01)\n",
        "        self.actor_linear.bias.data.fill_(0)\n",
        "        self.critic_linear.weight.data = normalized_columns_initializer(self.critic_linear.weight.data, 1.0)\n",
        "        self.critic_linear.bias.data.fill_(0)\n",
        "        self.lstm.bias_ih.data.fill_(0)\n",
        "        self.lstm.bias_hh.data.fill_(0)\n",
        "        self.train()\n",
        "\n",
        "    def forward(self, inputs):\n",
        "        inputs, (hx, cx) = inputs\n",
        "        x = F.elu(self.conv1(inputs))\n",
        "        x = F.elu(self.conv2(x))\n",
        "        x = F.elu(self.conv3(x))\n",
        "        x = F.elu(self.conv4(x))\n",
        "        x = x.view(-1, 32 * 3 * 3)\n",
        "        hx, cx = self.lstm(x, (hx, cx))\n",
        "        x = hx\n",
        "        return self.critic_linear(x), self.actor_linear(x), (hx, cx)\n"
      ]
    },
    {
      "cell_type": "markdown",
      "metadata": {
        "id": "3npXC7NEZmV9"
      },
      "source": [
        "# Optimizer"
      ]
    },
    {
      "cell_type": "code",
      "execution_count": null,
      "metadata": {
        "colab": {
          "base_uri": "https://localhost:8080/"
        },
        "id": "oHMbsSS-ZlxT",
        "outputId": "8d1bf758-83b6-4253-c427-1103c7af82ab"
      },
      "outputs": [
        {
          "name": "stderr",
          "output_type": "stream",
          "text": [
            "/usr/local/lib/python3.10/dist-packages/ipykernel/ipkernel.py:283: DeprecationWarning: `should_run_async` will not call `transform_cell` automatically in the future. Please pass the result to `transformed_cell` argument and any exception that happen during thetransform in `preprocessing_exc_tuple` in IPython 7.17 and above.\n",
            "  and should_run_async(code)\n"
          ]
        }
      ],
      "source": [
        "class Optimizer(optim.Adam):\n",
        "\n",
        "    def __init__(self, params, lr=1e-3, betas=(0.9, 0.999), eps=1e-8, weight_decay=0):\n",
        "        super(Optimizer, self).__init__(params, lr, betas, eps, weight_decay)\n",
        "        for group in self.param_groups:\n",
        "            for p in group['params']:\n",
        "                state = self.state[p]\n",
        "                state['step'] = torch.zeros(1)\n",
        "                state['exp_avg'] = p.data.new().resize_as_(p.data).zero_()\n",
        "                state['exp_avg_sq'] = p.data.new().resize_as_(p.data).zero_()\n",
        "\n",
        "    def share_memory(self):\n",
        "        for group in self.param_groups:\n",
        "            for p in group['params']:\n",
        "                state = self.state[p]\n",
        "                state['step'].share_memory_()\n",
        "                state['exp_avg'].share_memory_()\n",
        "                state['exp_avg_sq'].share_memory_()\n",
        "\n",
        "    def step(self):\n",
        "        loss = None\n",
        "        for group in self.param_groups:\n",
        "            for p in group['params']:\n",
        "                if p.grad is None:\n",
        "                    continue\n",
        "                grad = p.grad.data\n",
        "                state = self.state[p]\n",
        "                exp_avg, exp_avg_sq = state['exp_avg'], state['exp_avg_sq']\n",
        "                beta1, beta2 = group['betas']\n",
        "                state['step'] += 1\n",
        "                if group['weight_decay'] != 0:\n",
        "                    grad = grad.add(group['weight_decay'], p.data)\n",
        "                exp_avg.mul_(beta1).add_(1 - beta1, grad)\n",
        "                exp_avg_sq.mul_(beta2).addcmul_(1 - beta2, grad, grad)\n",
        "                denom = exp_avg_sq.sqrt().add_(group['eps'])\n",
        "                bias_correction1 = 1 - beta1 ** state['step'][0]\n",
        "                bias_correction2 = 1 - beta2 ** state['step'][0]\n",
        "                step_size = group['lr'] * math.sqrt(bias_correction2) / bias_correction1\n",
        "                p.data.addcdiv_(-step_size, exp_avg, denom)\n",
        "        return loss"
      ]
    },
    {
      "cell_type": "markdown",
      "metadata": {
        "id": "5Mac6YYzZrY-"
      },
      "source": [
        "# test"
      ]
    },
    {
      "cell_type": "code",
      "execution_count": null,
      "metadata": {
        "id": "AGp3fJitZtbc"
      },
      "outputs": [],
      "source": [
        "def test(rank, params, shared_model):\n",
        "    torch.manual_seed(params.seed + rank)\n",
        "    env = create_atari_env(params.env_name, video=True)\n",
        "    env.seed(params.seed + rank)\n",
        "    model = ActorCritic(env.observation_space.shape[0], env.action_space)\n",
        "    model.eval()\n",
        "    state = env.reset()\n",
        "    state = torch.from_numpy(state)\n",
        "    reward_sum = 0\n",
        "    done = True\n",
        "    start_time = time.time()\n",
        "    actions = deque(maxlen=100)\n",
        "    episode_length = 0\n",
        "    while True:\n",
        "        episode_length += 1\n",
        "        if done:\n",
        "            model.load_state_dict(shared_model.state_dict())\n",
        "            cx = Variable(torch.zeros(1, 256), volatile=True)\n",
        "            hx = Variable(torch.zeros(1, 256), volatile=True)\n",
        "        else:\n",
        "            cx = Variable(cx.data, volatile=True)\n",
        "            hx = Variable(hx.data, volatile=True)\n",
        "        value, action_value, (hx, cx) = model((Variable(state.unsqueeze(0), volatile=True), (hx, cx)))\n",
        "        prob = F.softmax(action_value)\n",
        "        action = prob.max(1)[1].data.numpy()\n",
        "        state, reward, done, _ = env.step(action[0, 0])\n",
        "        reward_sum += reward\n",
        "        if done:\n",
        "            print(\"Time {}, episode reward {}, episode length {}\".format(time.strftime(\"%Hh %Mm %Ss\", time.gmtime(time.time() - start_time)), reward_sum, episode_length))\n",
        "            reward_sum = 0\n",
        "            episode_length = 0\n",
        "            actions.clear()\n",
        "            state = env.reset()\n",
        "            time.sleep(60)\n",
        "        state = torch.from_numpy(state)\n"
      ]
    },
    {
      "cell_type": "markdown",
      "metadata": {
        "id": "2DAjvbvqZyIN"
      },
      "source": [
        "# train"
      ]
    },
    {
      "cell_type": "code",
      "execution_count": null,
      "metadata": {
        "id": "KKvW8-7fZzln"
      },
      "outputs": [],
      "source": [
        "def ensure_shared_grads(model, shared_model):\n",
        "    for param, shared_param in zip(model.parameters(), shared_model.parameters()):\n",
        "        if shared_param.grad is not None:\n",
        "            return\n",
        "        shared_param._grad = param.grad\n",
        "\n",
        "def train(rank, params, shared_model, optimizer):\n",
        "    torch.manual_seed(params.seed + rank)\n",
        "    env = create_atari_env(params.env_name)\n",
        "    env.seed(params.seed + rank)\n",
        "    model = ActorCritic(env.observation_space.shape[0], env.action_space)\n",
        "    state = env.reset()\n",
        "    state = torch.from_numpy(state)\n",
        "    done = True\n",
        "    episode_length = 0\n",
        "    while True:\n",
        "        episode_length += 1\n",
        "        model.load_state_dict(shared_model.state_dict())\n",
        "        if done:\n",
        "            cx = Variable(torch.zeros(1, 256))\n",
        "            hx = Variable(torch.zeros(1, 256))\n",
        "        else:\n",
        "            cx = Variable(cx.data)\n",
        "            hx = Variable(hx.data)\n",
        "        values = []\n",
        "        log_probs = []\n",
        "        rewards = []\n",
        "        entropies = []\n",
        "        for step in range(params.num_steps):\n",
        "            value, action_values, (hx, cx) = model((Variable(state.unsqueeze(0)), (hx, cx)))\n",
        "            prob = F.softmax(action_values)\n",
        "            log_prob = F.log_softmax(action_values)\n",
        "            entropy = -(log_prob * prob).sum(1)\n",
        "            entropies.append(entropy)\n",
        "            action = prob.multinomial().data\n",
        "            log_prob = log_prob.gather(1, Variable(action))\n",
        "            values.append(value)\n",
        "            log_probs.append(log_prob)\n",
        "            state, reward, done, _ = env.step(action.numpy())\n",
        "            done = (done or episode_length >= params.max_episode_length)\n",
        "            reward = max(min(reward, 1), -1)\n",
        "            if done:\n",
        "                episode_length = 0\n",
        "                state = env.reset()\n",
        "            state = torch.from_numpy(state)\n",
        "            rewards.append(reward)\n",
        "            if done:\n",
        "                break\n",
        "        R = torch.zeros(1, 1)\n",
        "        if not done:\n",
        "            value, _, _ = model((Variable(state.unsqueeze(0)), (hx, cx)))\n",
        "            R = value.data\n",
        "        values.append(Variable(R))\n",
        "        policy_loss = 0\n",
        "        value_loss = 0\n",
        "        R = Variable(R)\n",
        "        gae = torch.zeros(1, 1)\n",
        "        for i in reversed(range(len(rewards))):\n",
        "            R = params.gamma * R + rewards[i]\n",
        "            advantage = R - values[i]\n",
        "            value_loss = value_loss + 0.5 * advantage.pow(2)\n",
        "            TD = rewards[i] + params.gamma * values[i + 1].data - values[i].data\n",
        "            gae = gae * params.gamma * params.tau + TD\n",
        "            policy_loss = policy_loss - log_probs[i] * Variable(gae) - 0.01 * entropies[i]\n",
        "        optimizer.zero_grad()\n",
        "        (policy_loss + 0.5 * value_loss).backward()\n",
        "        torch.nn.utils.clip_grad_norm(model.parameters(), 40)\n",
        "        ensure_shared_grads(model, shared_model)\n",
        "        optimizer.step()"
      ]
    },
    {
      "cell_type": "markdown",
      "metadata": {
        "id": "Qlpyf9O2Z0RK"
      },
      "source": [
        "# Main Run"
      ]
    },
    {
      "cell_type": "code",
      "execution_count": null,
      "metadata": {
        "id": "l1Z1_hf4YewL"
      },
      "outputs": [],
      "source": [
        "class Params():\n",
        "    def __init__(self):\n",
        "        self.lr = 0.001\n",
        "        self.gamma = 0.99\n",
        "        self.tau = 1.\n",
        "        self.seed = 1\n",
        "        self.num_processes = 16\n",
        "        self.num_steps = 20\n",
        "        self.max_episode_length = 10000\n",
        "        self.env_name = 'Breakout-v0'\n",
        "\n",
        "# Main run\n",
        "os.environ['OMP_NUM_THREADS'] = '1'\n",
        "params = Params()\n",
        "torch.manual_seed(params.seed)\n",
        "env = create_atari_env(params.env_name)\n",
        "shared_model = ActorCritic(env.observation_space.shape[0], env.action_space)\n",
        "shared_model.share_memory()\n",
        "optimizer = optim.optimizer(shared_model.parameters(), lr=params.lr)\n",
        "optimizer.share_memory()\n",
        "processes = []\n",
        "p = mp.Process(target=test, args=(params.num_processes, params, shared_model))\n",
        "p.start()\n",
        "processes.append(p)\n",
        "for rank in range(0, params.num_processes):\n",
        "    p = mp.Process(target=train, args=(rank, params, shared_model, optimizer))\n",
        "    p.start()\n",
        "    processes.append(p)\n",
        "for p in processes:\n",
        "    p.join()\n"
      ]
    }
  ],
  "metadata": {
    "accelerator": "GPU",
    "colab": {
      "collapsed_sections": [
        "Gn-PNcGVZcHf",
        "3npXC7NEZmV9",
        "5Mac6YYzZrY-",
        "2DAjvbvqZyIN"
      ],
      "gpuType": "T4",
      "provenance": []
    },
    "kernelspec": {
      "display_name": "Python 3",
      "name": "python3"
    },
    "language_info": {
      "name": "python"
    }
  },
  "nbformat": 4,
  "nbformat_minor": 0
}
