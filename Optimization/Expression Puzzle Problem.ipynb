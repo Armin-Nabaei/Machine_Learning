{
  "nbformat": 4,
  "nbformat_minor": 0,
  "metadata": {
    "colab": {
      "provenance": []
    },
    "kernelspec": {
      "name": "python3",
      "display_name": "Python 3"
    },
    "language_info": {
      "name": "python"
    }
  },
  "cells": [
    {
      "cell_type": "markdown",
      "source": [
        "# we need to find all possible ways to create the number N using the digits in\n",
        "# S and two operations {\"+\" and \"*\"}.\n",
        "#The goal is to find the shortest expression equals to N"
      ],
      "metadata": {
        "id": "p-xQpfPQWV6B"
      }
    },
    {
      "cell_type": "code",
      "execution_count": 25,
      "metadata": {
        "id": "sNpPOzTVV23l"
      },
      "outputs": [],
      "source": [
        "def Expression_Puzzle_Problem(S, N):\n",
        "\n",
        "    if N == 0:\n",
        "        return \"N\"\n",
        "\n",
        "    # Initialize array\n",
        "    array = {i: None for i in range(N+1)}\n",
        "\n",
        "    # Fill corresponding key unit of array equals to digits from S by its values\n",
        "    for num in S:\n",
        "        if num <= N:\n",
        "            array[num] = str(num)\n",
        "\n",
        "    # Comparison Function to update array with a new candidate expression\n",
        "    def update_array(value, new_value):\n",
        "        if value <= N:\n",
        "            if  array[value] is None or len(new_value) < len(array[value]):\n",
        "\n",
        "                array[value] = new_value\n",
        "\n",
        "    # Fill the  array with optimal expressions\n",
        "    for i in range(1, N + 1):\n",
        "        if array[i] is not None:\n",
        "            for num in S:\n",
        "\n",
        "                if i + num <= N:\n",
        "                    new_expr = array[i] + \"+\" + str(num)\n",
        "                    update_array(i + num, new_expr)\n",
        "\n",
        "                if i * num <= N:\n",
        "                    new_expr = array[i] + \"*\" + str(num)\n",
        "                    update_array(i * num, new_expr)\n",
        "\n",
        "    return array[N]\n",
        "\n",
        "\n"
      ]
    },
    {
      "cell_type": "code",
      "source": [
        "S = [2,2,9]\n",
        "N = 229\n",
        "print(f\"The optimal expression for {N} is: {Expression_Puzzle_Problem(S, N)}\")\n",
        "S = [2,2,9]\n",
        "N = 11\n",
        "print(f\"The optimal expression for {N} is: {Expression_Puzzle_Problem(S, N)}\")\n",
        "S = [2,2,9]\n",
        "N = 729\n",
        "print(f\"The optimal expression for {N} is: {Expression_Puzzle_Problem(S, N)}\")\n",
        "S = [2,2,9]\n",
        "N = 49\n",
        "print(f\"The optimal expression for {N} is: {Expression_Puzzle_Problem(S, N)}\")\n",
        "S = [3,1,4,7]\n",
        "N = 21\n",
        "print(f\"The optimal expression for {N} is: {Expression_Puzzle_Problem(S, N)}\")\n",
        "S = [2,4,7,6]\n",
        "N = 0\n",
        "print(f\"The optimal expression for {N} is: {Expression_Puzzle_Problem(S, N)}\")"
      ],
      "metadata": {
        "colab": {
          "base_uri": "https://localhost:8080/"
        },
        "id": "Vi8ORjsXWB5p",
        "outputId": "7c0e06e1-0761-4f15-eac3-8e690c627d7d"
      },
      "execution_count": 28,
      "outputs": [
        {
          "output_type": "stream",
          "name": "stdout",
          "text": [
            "The optimal expression for 229 is: 2+9*9+2+9*2+9\n",
            "The optimal expression for 11 is: 2+9\n",
            "The optimal expression for 729 is: 9*9*9\n",
            "The optimal expression for 49 is: 2+9+9*2+9\n",
            "The optimal expression for 21 is: 3*7\n",
            "The optimal expression for 0 is: N\n"
          ]
        }
      ]
    }
  ]
}