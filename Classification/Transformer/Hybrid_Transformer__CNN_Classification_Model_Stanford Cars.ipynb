{
  "cells": [
    {
      "cell_type": "markdown",
      "source": [
        "# Image classification with Vision Transformer\n",
        "This example implements for image classification,and demonstrates it on the CIFAR-10 and CIFAR-100 datasetS.\n",
        "The HYBRID MODEL consists of a modified ViT and attentive modules.\n",
        "\n",
        "**!pip install -U tensorflow-addons**\n"
      ],
      "metadata": {
        "id": "Z0dW15yxwZ9F"
      }
    },
    {
      "cell_type": "markdown",
      "metadata": {
        "id": "Em_vCIvsWgol"
      },
      "source": [
        "# LIBRARIES\n"
      ]
    },
    {
      "cell_type": "code",
      "execution_count": null,
      "metadata": {
        "id": "5QGAEnuJ8WHd"
      },
      "outputs": [],
      "source": [
        "import tensorflow as tf\n",
        "from tensorflow.keras.datasets import cifar10,cifar100\n",
        "from tensorflow.keras import layers, models\n",
        "from tensorflow.keras.preprocessing.image import ImageDataGenerator\n",
        "from tensorflow.keras.utils import to_categorical\n",
        "import matplotlib.pyplot as plt\n",
        "from tensorflow.keras.preprocessing.image import ImageDataGenerator\n",
        "import pandas as pd\n",
        "import time\n",
        "from keras.applications.nasnet import NASNetMobile, preprocess_input\n",
        "from sklearn.compose import ColumnTransformer\n",
        "from sklearn.preprocessing import Normalizer\n",
        "from __future__ import print_function, division, absolute_import\n",
        "import timeit\n",
        "import numpy as np\n",
        "from tensorflow.keras.models import Sequential,Model\n",
        "from tensorflow.keras.layers import BatchNormalization\n",
        "from tensorflow.keras.layers import Conv2D, MaxPooling2D,GlobalMaxPooling2D,AveragePooling2D,UpSampling2D,Conv2DTranspose,DepthwiseConv2D,Conv1D,Add\n",
        "from tensorflow.keras.layers import ELU,SeparableConv2D,DepthwiseConv1D\n",
        "from tensorflow.keras.layers import Activation, Flatten, Dropout, Dense,ZeroPadding2D,Concatenate,AveragePooling1D\n",
        "from tensorflow.keras.optimizers import RMSprop, SGD, Adam,Adadelta,Adamax\n",
        "from tensorflow.keras.callbacks import ModelCheckpoint, EarlyStopping, ReduceLROnPlateau,LearningRateScheduler\n",
        "from keras.models import load_model\n",
        "import os\n",
        "from PIL import Image\n",
        "import requests\n",
        "from tensorflow import keras\n",
        "import tensorflow as tf\n",
        "import tensorflow_hub as hub\n",
        "import tensorflow_datasets as tfds\n",
        "tfds.disable_progress_bar()\n",
        "import matplotlib.pyplot as plt\n",
        "from keras.activations import *\n",
        "from tensorflow.python.keras.utils.generic_utils import deserialize_keras_object\n",
        "from tensorflow.python.keras.utils.generic_utils import serialize_keras_object\n",
        "from tensorflow.python.ops import math_ops\n",
        "from tensorflow.python.ops import nn\n",
        "from numpy.core.fromnumeric import transpose\n",
        "import math"
      ]
    },
    {
      "cell_type": "markdown",
      "source": [
        "#Load data"
      ],
      "metadata": {
        "id": "ra0K4ju7uU-P"
      }
    },
    {
      "cell_type": "code",
      "execution_count": null,
      "metadata": {
        "id": "4AV9a-EGIaKu"
      },
      "outputs": [],
      "source": [
        "BATCH_SIZE = 64\n",
        "AUTO = tf.data.AUTOTUNE"
      ]
    },
    {
      "cell_type": "code",
      "execution_count": null,
      "metadata": {
        "id": "CmI7dgf3Gr0n"
      },
      "outputs": [],
      "source": [
        "def make_dataset(dataset: tf.data.Dataset, train: bool, image_size: int = 224):\n",
        "    def preprocess(image, label):\n",
        "        if train:\n",
        "            channels = image.shape[-1]\n",
        "            begin, size, _ = tf.image.sample_distorted_bounding_box(\n",
        "                tf.shape(image),\n",
        "                tf.zeros([0, 0, 4], tf.float32),\n",
        "                area_range=(0.05, 1.0),\n",
        "                min_object_covered=0,\n",
        "                use_image_if_no_bounding_boxes=True,\n",
        "            )\n",
        "            image = tf.slice(image, begin, size)\n",
        "\n",
        "            image.set_shape([None, None, channels])\n",
        "            image = tf.image.resize(image, [image_size, image_size])\n",
        "            if tf.random.uniform(shape=[]) > 0.5:\n",
        "                image = tf.image.flip_left_right(image)\n",
        "\n",
        "        else:\n",
        "            image = tf.image.resize(image, [image_size, image_size])\n",
        "\n",
        "        image = (image - 127.5) / 127.5\n",
        "        return image, label\n",
        "\n",
        "    if train:\n",
        "        dataset = dataset.shuffle(BATCH_SIZE * 10)\n",
        "\n",
        "    return dataset.map(preprocess, AUTO).batch(BATCH_SIZE).prefetch(AUTO)"
      ]
    },
    {
      "cell_type": "code",
      "execution_count": null,
      "metadata": {
        "id": "clPUF-s9G3md",
        "colab": {
          "base_uri": "https://localhost:8080/"
        },
        "outputId": "94c097b0-33fa-409f-fb62-48e2e330a897"
      },
      "outputs": [
        {
          "output_type": "stream",
          "name": "stdout",
          "text": [
            "Downloading and preparing dataset 160.71 MiB (download: 160.71 MiB, generated: 132.03 MiB, total: 292.74 MiB) to /root/tensorflow_datasets/cifar100/3.0.2...\n",
            "Dataset cifar100 downloaded and prepared to /root/tensorflow_datasets/cifar100/3.0.2. Subsequent calls will reuse this data.\n"
          ]
        }
      ],
      "source": [
        "train_dataset, val_dataset = tfds.load('cars196', split=['train','test'], as_supervised=True)"
      ]
    },
    {
      "cell_type": "code",
      "execution_count": null,
      "metadata": {
        "colab": {
          "base_uri": "https://localhost:8080/"
        },
        "id": "I-zBXdg8H9me",
        "outputId": "87c10f20-be7e-4b5a-8341-fb9f418c884f"
      },
      "outputs": [
        {
          "output_type": "stream",
          "name": "stdout",
          "text": [
            "Number of training examples: 8144\n",
            "Number of validation examples: 8041\n"
          ]
        }
      ],
      "source": [
        "num_train = tf.data.experimental.cardinality(train_dataset)\n",
        "num_val = tf.data.experimental.cardinality(val_dataset)\n",
        "print(f\"Number of training examples: {num_train}\")\n",
        "print(f\"Number of validation examples: {num_val}\")"
      ]
    },
    {
      "cell_type": "code",
      "execution_count": null,
      "metadata": {
        "id": "vvtOJlvRITU6"
      },
      "outputs": [],
      "source": [
        "train_dataset = make_dataset(train_dataset, True)\n",
        "val_dataset = make_dataset(val_dataset, False)"
      ]
    },
    {
      "cell_type": "markdown",
      "source": [
        "## Labe Encoding"
      ],
      "metadata": {
        "id": "9p71BI9kITx2"
      }
    },
    {
      "cell_type": "code",
      "source": [
        "y_train = tf.cast(y_train,tf.int32)\n",
        "y_test = tf.cast(y_test,tf.int32)\n",
        "y_train = tf.one_hot(y_train,depth=10)\n",
        "y_test = tf.one_hot(y_test, depth=10)\n",
        "y_train = tf.cast(y_train,tf.float32)\n",
        "y_test = tf.cast(y_test,tf.float32)"
      ],
      "metadata": {
        "id": "FSzTfs7SKcPi"
      },
      "execution_count": null,
      "outputs": []
    },
    {
      "cell_type": "markdown",
      "source": [
        "## Lr warm up"
      ],
      "metadata": {
        "id": "9iJKlP4OUxTP"
      }
    },
    {
      "cell_type": "code",
      "execution_count": null,
      "metadata": {
        "id": "MmLvpwaCIkUr"
      },
      "outputs": [],
      "source": [
        "BATCH_SIZE = 64\n",
        "AUTO = tf.data.AUTOTUNE\n",
        "\n",
        "import random\n",
        "class WarmUpCosine(tf.keras.optimizers.schedules.LearningRateSchedule):\n",
        "    def __init__(\n",
        "        self, learning_rate_base, total_steps, warmup_learning_rate, warmup_steps\n",
        "    ):\n",
        "        super(WarmUpCosine, self).__init__()\n",
        "\n",
        "        self.learning_rate_base = learning_rate_base\n",
        "        self.total_steps = total_steps\n",
        "        self.warmup_learning_rate = warmup_learning_rate\n",
        "        self.warmup_steps = warmup_steps\n",
        "        self.pi = tf.constant(np.pi)\n",
        "\n",
        "    def __call__(self, step):\n",
        "        if self.total_steps < self.warmup_steps:\n",
        "            raise ValueError(\"Total_steps must be larger or equal to warmup_steps.\")\n",
        "        learning_rate = (\n",
        "            0.5\n",
        "            * self.learning_rate_base\n",
        "            * (\n",
        "                1\n",
        "                + tf.cos(\n",
        "                    self.pi\n",
        "                    * (tf.cast(step, tf.float32) - self.warmup_steps)\n",
        "                    / float(self.total_steps - self.warmup_steps)\n",
        "                )\n",
        "            )\n",
        "        )\n",
        "\n",
        "        if self.warmup_steps > 0:\n",
        "            if self.learning_rate_base < self.warmup_learning_rate:\n",
        "                raise ValueError(\n",
        "                    \"Learning_rate_base must be larger or equal to \"\n",
        "                    \"warmup_learning_rate.\"\n",
        "                )\n",
        "            slope = (\n",
        "                self.learning_rate_base - self.warmup_learning_rate\n",
        "            ) / self.warmup_steps\n",
        "            warmup_rate = slope * tf.cast(step, tf.float32) + self.warmup_learning_rate\n",
        "            learning_rate = tf.where(\n",
        "                step < self.warmup_steps, warmup_rate, learning_rate\n",
        "            )\n",
        "        return tf.where(\n",
        "            step > self.total_steps, 0.0, learning_rate, name=\"learning_rate\"\n",
        "        )\n",
        "    def get_config(self):\n",
        "        config = {\n",
        "                'learning_rate_base': self.learning_rate_base,\n",
        "                'total_steps': self.total_steps,\n",
        "                'warmup_learning_rate': self.warmup_learning_rate,\n",
        "                'warmup_steps': self.warmup_steps,\n",
        "\n",
        "                 }\n",
        "        return config"
      ]
    },
    {
      "cell_type": "code",
      "execution_count": null,
      "metadata": {
        "colab": {
          "base_uri": "https://localhost:8080/"
        },
        "id": "pet4gNehIuAV",
        "outputId": "9f64ce72-07ab-438d-cf2f-ad0c7e3b7fe0"
      },
      "outputs": [
        {
          "output_type": "stream",
          "name": "stdout",
          "text": [
            "39062\n"
          ]
        }
      ],
      "source": [
        "EPOCHS = 50\n",
        "TOTAL_STEPS = int((50000 / BATCH_SIZE) * EPOCHS)\n",
        "WARMUP_STEPS = 10\n",
        "INIT_LR = 0.03\n",
        "WAMRUP_LR = 0.006\n",
        "\n",
        "print(TOTAL_STEPS)"
      ]
    },
    {
      "cell_type": "code",
      "execution_count": null,
      "metadata": {
        "colab": {
          "base_uri": "https://localhost:8080/",
          "height": 454
        },
        "id": "IvPpu6HeI0Mp",
        "outputId": "4740062d-4c1c-4306-8dcb-d4fa65a0794e"
      },
      "outputs": [
        {
          "output_type": "display_data",
          "data": {
            "text/plain": [
              "<Figure size 640x480 with 1 Axes>"
            ],
            "image/png": "[encoded data removed]"
          },
          "metadata": {}
        }
      ],
      "source": [
        "scheduled_lrs = WarmUpCosine(\n",
        "    learning_rate_base=INIT_LR,\n",
        "    total_steps=TOTAL_STEPS,\n",
        "    warmup_learning_rate=WAMRUP_LR,\n",
        "    warmup_steps=WARMUP_STEPS,\n",
        ")\n",
        "\n",
        "lrs = [scheduled_lrs(step) for step in range(TOTAL_STEPS)]\n",
        "plt.plot(lrs)\n",
        "plt.xlabel(\"Step\", fontsize=14)\n",
        "plt.ylabel(\"LR\", fontsize=14)\n",
        "plt.show()"
      ]
    },
    {
      "cell_type": "markdown",
      "metadata": {
        "id": "wMKcSVz1tItl"
      },
      "source": [
        "# hyperparameter setting"
      ]
    },
    {
      "cell_type": "code",
      "execution_count": null,
      "metadata": {
        "id": "dBMBuc_D9yyt"
      },
      "outputs": [],
      "source": [
        "learning_rate = 0.001\n",
        "weight_decay = 0.0001\n",
        "num_classes=196\n",
        "batch_size = 64\n",
        "num_epochs = 100\n",
        "image_size = 224  # We'll resize input images to this size\n",
        "patch_size = 64 # Size of the patches to be extract from the input images\n",
        "num_patches = (image_size // patch_size) ** 2\n",
        "projection_dim = 64\n",
        "num_heads = 4\n",
        "transformer_units = [\n",
        "    projection_dim * 2,\n",
        "    projection_dim,\n",
        "]  # Size of the transformer layers\n",
        "transformer_layers = 2\n",
        "mlp_head_units = [1024,512]  # Size of the dense layers of the final classifier"
      ]
    },
    {
      "cell_type": "markdown",
      "metadata": {
        "id": "8pQrnYlUtIto"
      },
      "source": [
        "## data augmentation"
      ]
    },
    {
      "cell_type": "code",
      "execution_count": null,
      "metadata": {
        "id": "e4Ob6X6ptItp"
      },
      "outputs": [],
      "source": [
        "data_augmentation = tf.keras.Sequential(\n",
        "    [\n",
        "        #layers.Normalization(),\n",
        "        layers.Resizing(image_size, image_size),\n",
        "        #layers.RandomFlip(\"horizontal\"),\n",
        "        #layers.RandomRotation(factor=0.02),\n",
        "        #layers.RandomZoom(\n",
        "         #   height_factor=0.2, width_factor=0.2\n",
        "        #),\n",
        "    ],\n",
        "    name=\"data_augmentation\",\n",
        ")\n"
      ]
    },
    {
      "cell_type": "markdown",
      "metadata": {
        "id": "z9KveLojtItq"
      },
      "source": [
        "## Implement multilayer perceptron (MLP)"
      ]
    },
    {
      "cell_type": "code",
      "execution_count": null,
      "metadata": {
        "id": "ZVShQ_4XtItq"
      },
      "outputs": [],
      "source": [
        "def mlp(x, hidden_units, dropout_rate):\n",
        "    for units in hidden_units:\n",
        "        x = layers.Dense(units, activation=tf.nn.gelu)(x)\n",
        "        x = layers.Dropout(dropout_rate)(x)\n",
        "    return x\n"
      ]
    },
    {
      "cell_type": "markdown",
      "metadata": {
        "id": "FcOq3beitItv"
      },
      "source": [
        "## patch encoding layer\n"
      ]
    },
    {
      "cell_type": "code",
      "execution_count": null,
      "metadata": {
        "id": "CAFgXj74VOvl"
      },
      "outputs": [],
      "source": [
        "\n",
        "class Patches(layers.Layer):\n",
        "    def __init__(self, patch_size):\n",
        "        super(Patches, self).__init__()\n",
        "        self.patch_size = patch_size\n",
        "\n",
        "    def call(self, images):\n",
        "        batch_size = tf.shape(images)[0]\n",
        "\n",
        "        patches = tf.image.extract_patches(\n",
        "            images=images,\n",
        "            sizes=[1, self.patch_size, self.patch_size, 1],\n",
        "            strides=[1, self.patch_size, self.patch_size, 1],\n",
        "            rates=[1, 1, 1, 1],\n",
        "            padding=\"SAME\",\n",
        "        )\n",
        "        patch_dims = patches.shape[-1]\n",
        "        patches = tf.reshape(patches, [batch_size, -1, patch_dims])\n",
        "        return patches\n",
        "##############\n",
        "class PatchEncoder(layers.Layer):\n",
        "    def __init__(self, num_patches, projection_dim):\n",
        "        super(PatchEncoder, self).__init__()\n",
        "        self.num_patches = num_patches\n",
        "        self.projection = layers.Dense(units=projection_dim)\n",
        "        self.position_embedding = layers.Embedding(\n",
        "            input_dim=num_patches, output_dim=projection_dim\n",
        "        ) #produce a table to map inputs to embedding vectors\n",
        "\n",
        "    def call(self, patch):\n",
        "        positions = tf.range(start=0, limit=self.num_patches, delta=1)\n",
        "        encoded = self.projection(patch) + self.position_embedding(positions)\n",
        "        return encoded\n",
        "\n",
        "\n"
      ]
    },
    {
      "cell_type": "markdown",
      "metadata": {
        "id": "gaR5YSPftItw"
      },
      "source": [
        "# Bottlneck_Channelmix Functions\n"
      ]
    },
    {
      "cell_type": "code",
      "execution_count": null,
      "metadata": {
        "id": "G3cvCNX_PQwX"
      },
      "outputs": [],
      "source": [
        "def channel_mix(l,imgs):\n",
        "\n",
        "    channel_r=imgs[:,:,0:1]\n",
        "    channel_g=imgs[:,:,1:2]\n",
        "    channel_b=imgs[:,:,2:3]\n",
        "\n",
        "    channel1_r=l[:,:,0:21]\n",
        "    channel1_g=l[:,:,21:41]\n",
        "    channel1_b=l[:,:,43:63]\n",
        "\n",
        "    l1 = tf.concat([channel1_r, channel_r],axis=2)\n",
        "    l2 = tf.concat([channel1_g, channel_g],axis=2)\n",
        "    l3 = tf.concat([channel1_b, channel_b],axis=2)\n",
        "\n",
        "    l = tf.concat([l1,l2,l3],axis=2)\n",
        "\n",
        "    return l"
      ]
    },
    {
      "cell_type": "code",
      "execution_count": null,
      "metadata": {
        "id": "inb_AvviE3YS"
      },
      "outputs": [],
      "source": [
        "\n",
        "def bottleneck(input,layers):\n",
        "    for _ in range(layers):\n",
        "        print(\"INPUT SHAPE\",input.shape)\n",
        "        x=Conv1D(64, 5, padding = \"same\", kernel_initializer=\"he_normal\")(input)\n",
        "        x=Activation('elu')(x)\n",
        "        print(\"First CONV SHAPE \",x.shape)\n",
        "        x2= DepthwiseConv1D( 1, padding = 'same', kernel_initializer=\"he_normal\",depth_multiplier=2)(input)\n",
        "        print(\"input increased dimension Shape\",x2.shape)\n",
        "        x = Add()([input,x])\n",
        "        x=Conv1D(64, 1, padding = \"same\", groups=4 , kernel_initializer=\"he_normal\")(x)\n",
        "        x=Activation('elu')(x)\n",
        "        print(\"Decreased dimension shape\",x.shape)\n",
        "        x= channel_mix (x, input)\n",
        "        print(\"OUTPUT x SHAPE\",x.shape)\n",
        "        return x"
      ]
    },
    {
      "cell_type": "code",
      "execution_count": null,
      "metadata": {
        "id": "KEz4wIBMPNcP"
      },
      "outputs": [],
      "source": [
        "#@under_name_scope()\n",
        "def channel_shuffle(l, group):\n",
        "    in_shape = l.get_shape().as_list()\n",
        "    in_channel = in_shape[2]\n",
        "    assert in_channel % group == 0, in_channel\n",
        "    l = tf.reshape(l, [-1, in_channel // group, group] + in_shape[-1:])\n",
        "    l = tf.transpose(l, [0, 2, 1, 3])\n",
        "    l = tf.reshape(l, [-1, in_channel] + in_shape[-1:])\n",
        "    print('shuffle output',l.shape)\n",
        "    return l\n"
      ]
    },
    {
      "cell_type": "code",
      "execution_count": null,
      "metadata": {
        "id": "ZTSK0diR1VBv"
      },
      "outputs": [],
      "source": [
        "mobilenet_v2 = \"https://tfhub.dev/google/tf2-preview/mobilenet_v2/feature_vector/4\"\n",
        "inception_v3 = \"https://tfhub.dev/google/tf2-preview/inception_v3/feature_vector/4\"\n",
        "handle=\"https://tfhub.dev/sayakpaul/vit_s16_fe/1\"\n",
        "b1_vit=\"https://tfhub.dev/sayakpaul/vit_b8_classification/1\"\n",
        "mixer_1 = \"https://tfhub.dev/sayakpaul/mixer_b16_sam_classification/1\"\n",
        "feature_extractor_model = mixer_1\n",
        "mixer_2 = \"https://tfhub.dev/sayakpaul/mixer_b16_sam_fe/1\"\n",
        "feature_extractor_model2 = mixer_2\n",
        "#https://tfhub.dev/google/tf2-preview/mobilenet_v2/feature_vector/4\n",
        "feature_3 = \"https://tfhub.dev/google/tf2-preview/mobilenet_v2/feature_vector/4\"\n",
        "feature_extractor_model3 = feature_3\n"
      ]
    },
    {
      "cell_type": "markdown",
      "source": [
        "# Modified Vit"
      ],
      "metadata": {
        "id": "LIqpvjSCiHhn"
      }
    },
    {
      "cell_type": "code",
      "source": [
        "inputs_primary = layers.Input(shape=(224,224, 3))\n",
        "\n",
        "inputs_vit_rescaled=rescale_layer_vit (inputs_primary)\n",
        "inputs_vit_resized = rescale_resize_vit (inputs_vit_rescaled)\n",
        "print (inputs_vit_resized.shape)\n",
        "input_augmented_vit = data_augmentation_vit (inputs_vit_resized)\n",
        "\n",
        "#################################\n",
        "\n",
        "mixer_3 = \"https://tfhub.dev/sayakpaul/vit_b8_classification/1\"\n",
        "feature_extractor_model2 = mixer_3\n",
        "feature_extractor_layer = hub.KerasLayer(feature_extractor_model2,input_shape=(224,224 ,3),trainable=False)\n",
        "augmented1 = feature_extractor_layer(input_augmented_vit)\n",
        "print('feature_extractor output:',augmented1.shape)\n",
        "augmented12 = tf.expand_dims(augmented1, axis=1)\n",
        "print('12:',augmented12.shape)\n",
        "augmented13 = tf.expand_dims(augmented12, axis=2)\n",
        "print('13:',augmented13.shape)\n",
        "#######################################################\n",
        "# Create patches.\n",
        "patches = Patches(patch_size)(augmented13)\n",
        "# Encode patches.\n",
        "print(' patches:',patches.shape)\n",
        "encoded_patches = PatchEncoder(num_patches, projection_dim)(patches)\n",
        "print(' encoded_patches output :',encoded_patches.shape)\n",
        "\n",
        "for _ in range(transformer_layers):\n",
        "    attention_output = layers.MultiHeadAttention(\n",
        "        num_heads=num_heads, key_dim=projection_dim, dropout=0.0\n",
        "    )(encoded_patches, encoded_patches)\n",
        "\n",
        "    # Bottlneck for odd layers\n",
        "    if _  <= (1):\n",
        "       attention_output = bottleneck(attention_output,1)\n",
        "\n",
        "    # Skip connection 1.\n",
        "    x2 = layers.Add()([attention_output, encoded_patches])\n",
        "\n",
        "    # MLP.\n",
        "    x3 = mlp(x2, hidden_units=transformer_units, dropout_rate=0.0)\n",
        "\n",
        "    # Skip connection 2.\n",
        "    encoded_patches = layers.Add()([x3, x2])\n",
        "\n",
        "    ##################\n",
        "representation2 = layers.Flatten()(encoded_patches)\n",
        "representation = layers.Dropout(0.2)(representation2)\n",
        "model_vit = Model(inputs=inputs_primary, outputs=representation)"
      ],
      "metadata": {
        "colab": {
          "base_uri": "https://localhost:8080/"
        },
        "id": "fdDiVccYiQ67",
        "outputId": "e60e015c-cbdf-41b9-b2f8-1b13110bfe93"
      },
      "execution_count": null,
      "outputs": [
        {
          "output_type": "stream",
          "name": "stdout",
          "text": [
            "(None, 224, 224, 3)\n",
            "feature_extractor output: (None, 1000)\n",
            "12: (None, 1, 1000)\n",
            "13: (None, 1, 1, 1000)\n",
            " patches: (None, None, 4096000)\n",
            " encoded_patches output : (None, 9, 64)\n",
            "INPUT SHAPE (None, 9, 64)\n",
            "First CONV SHAPE  (None, 9, 64)\n",
            "input increased dimension Shape (None, 9, 128)\n",
            "Decreased dimension shape (None, 9, 64)\n",
            "OUTPUT x SHAPE (None, 9, 64)\n",
            "INPUT SHAPE (None, 9, 64)\n",
            "First CONV SHAPE  (None, 9, 64)\n",
            "input increased dimension Shape (None, 9, 128)\n",
            "Decreased dimension shape (None, 9, 64)\n",
            "OUTPUT x SHAPE (None, 9, 64)\n"
          ]
        }
      ]
    },
    {
      "cell_type": "markdown",
      "source": [
        "# Attention Module 1"
      ],
      "metadata": {
        "id": "B79pvsRbirs0"
      }
    },
    {
      "cell_type": "code",
      "source": [
        "# MODEL 0\n",
        "inputs_primary = layers.Input(shape=(32,32, 3))\n",
        "##########\n",
        "inputs_cnn_rescaled=rescale_layer_cnn (inputs_primary)\n",
        "inputs_cnn_resized = rescale_resize_cnn (inputs_cnn_rescaled)\n",
        "print (inputs_cnn_resized.shape)\n",
        "input_augmented_cnn = data_augmentation_cnn (inputs_cnn_resized)\n",
        "###################################################################\n",
        "mixer_32 = \"https://tfhub.dev/sayakpaul/vit_b8_classification/1\"\n",
        "feature_extractor_model3 = mixer_32\n",
        "feature_extractor_layer2 = hub.KerasLayer(feature_extractor_model3,input_shape=(224,224 ,3),trainable=False)\n",
        "augmented123 = feature_extractor_layer2(input_augmented_cnn)\n",
        "print('feature_extractor out:',augmented123.shape)\n",
        "#############\n",
        "augmented123=tf.expand_dims(augmented123,axis=2)\n",
        "ave1 = AveragePooling1D(pool_size=(2), padding='valid', strides=2, name='Avg_pool_1')(augmented123)\n",
        "print('pool first',ave1.shape)\n",
        "ave2 = AveragePooling1D(pool_size=(3), padding='valid', strides=3, name='Avg_pool_2')(augmented123)\n",
        "print('pool second',ave2.shape)\n",
        "ave3 = AveragePooling1D(pool_size=(5), padding='valid', strides=5, name='Avg_pool_3')(augmented123)\n",
        "print('pool third',ave3.shape)\n",
        "ave_concate = Concatenate(axis=1) ([ave1,ave2,ave3])\n",
        "print('ave_pool concate',ave_concate.shape)\n",
        "max1 = AveragePooling1D(pool_size=(2), padding='valid', strides=2, name='max_pool_1')(augmented123)\n",
        "print('max first',max1.shape)\n",
        "max2 = AveragePooling1D(pool_size=(3), padding='valid', strides=3, name='max_pool_2')(augmented123)\n",
        "print('max second',max2.shape)\n",
        "max3 = AveragePooling1D(pool_size=(5), padding='valid', strides=5, name='max_pool_3')(augmented123)\n",
        "print('max third',max3.shape)\n",
        "max_concate = Concatenate(axis=1) ([max1,max2,max3])\n",
        "print('max_pool concate',ave_concate.shape)\n",
        "pool_con= Concatenate(axis=1) ([max_concate,ave_concate])\n",
        "print('pool concate',pool_con.shape)\n",
        "pool_flattend = Flatten()(pool_con)\n",
        "print('pool flattend',pool_flattend.shape)\n",
        "#####################################################################\n",
        "s0, s1 = tf.split(pool_flattend, num_or_size_splits=2, axis=1)\n",
        "print('split shape:',s0.shape)\n",
        "a1=  tf.stack([s0, s1], axis=1)\n",
        "print('concate shape:',a1.shape)\n",
        "####################################\n",
        "input_dec=Conv1D(500, (1), padding = \"same\", kernel_initializer=\"he_normal\",name='decrease_dimension_1')(a1)\n",
        "x1_branch=Conv1D(500, (3), padding = \"same\", kernel_initializer=\"he_normal\",name='conv2D_1_module_1')(a1)\n",
        "x1_branch=BatchNormalization()(x1_branch)\n",
        "x1_branch_out = Activation(\"softmax\", dtype=tf.float32, name=\"softmax_module_1\")(x1_branch)\n",
        "x1_out = tf.math.multiply(input_dec, x1_branch_out)\n",
        "####################################\n",
        "x2_branch=Conv1D(250, (1), padding = \"same\", kernel_initializer=\"he_normal\",name='conv2D_2_module_1')(x1_out)\n",
        "print(x2_branch.shape)\n",
        "x2_branch=BatchNormalization()(x2_branch)\n",
        "x2_branch=Activation('elu')(x2_branch)\n",
        "x2_branch=DepthwiseConv1D(250, (1),padding='same', depth_multiplier=2, kernel_initializer=\"he_normal\",name='conv2D_3_module_1')(x2_branch)\n",
        "print(x2_branch.shape)\n",
        "##########################\n",
        "x2_out = x2_branch\n",
        "z= tf.math.multiply(input_dec, x2_out)\n",
        "model_1 = Model(inputs_primary, outputs=z)"
      ],
      "metadata": {
        "colab": {
          "base_uri": "https://localhost:8080/"
        },
        "id": "33LwsmImiuHZ",
        "outputId": "35ce54f3-b6a3-4beb-d909-74e29c4954d5"
      },
      "execution_count": null,
      "outputs": [
        {
          "output_type": "stream",
          "name": "stdout",
          "text": [
            "(None, 224, 224, 3)\n",
            "feature_extractor out: (None, 1000)\n",
            "pool first (None, 500, 1)\n",
            "pool second (None, 333, 1)\n",
            "pool third (None, 200, 1)\n",
            "ave_pool concate (None, 1033, 1)\n",
            "max first (None, 500, 1)\n",
            "max second (None, 333, 1)\n",
            "max third (None, 200, 1)\n",
            "max_pool concate (None, 1033, 1)\n",
            "pool concate (None, 2066, 1)\n",
            "pool flattend (None, 2066)\n",
            "split shape: (None, 1033)\n",
            "concate shape: (None, 2, 1033)\n",
            "(None, 2, 250)\n",
            "(None, 2, 500)\n"
          ]
        }
      ]
    },
    {
      "cell_type": "markdown",
      "source": [
        "# Attention Module 2"
      ],
      "metadata": {
        "id": "c5S6rz0Aogt1"
      }
    },
    {
      "cell_type": "code",
      "source": [
        "inputs_primary = layers.Input(shape=(32,32, 3))\n",
        "##########\n",
        "inputs_cnn_rescaled=rescale_layer_cnn (inputs_primary)\n",
        "inputs_cnn_resized = rescale_resize_cnn (inputs_cnn_rescaled)\n",
        "print (inputs_cnn_resized.shape)\n",
        "mixer_35 = \"https://tfhub.dev/sayakpaul/vit_b8_classification/1\"\n",
        "feature_extractor_model5 = mixer_35\n",
        "feature_extractor_layer4 = hub.KerasLayer(feature_extractor_model5,input_shape=(224,224 ,3),trainable=False)\n",
        "x_resi2 = feature_extractor_layer4(inputs_cnn_resized)\n",
        "x_resi2=tf.dtypes.cast(x_resi2,tf.float32)\n",
        "model_helper_1 = Model(inputs=inputs_primary, outputs=x_resi2)"
      ],
      "metadata": {
        "colab": {
          "base_uri": "https://localhost:8080/"
        },
        "id": "ZvJNdNTvojZk",
        "outputId": "9a9690bf-f315-4111-f22d-c3e8f7eeb5dd"
      },
      "execution_count": null,
      "outputs": [
        {
          "output_type": "stream",
          "name": "stdout",
          "text": [
            "(None, 224, 224, 3)\n"
          ]
        }
      ]
    },
    {
      "cell_type": "markdown",
      "source": [
        "# Attention Module 3"
      ],
      "metadata": {
        "id": "DJy1pvBqovBA"
      }
    },
    {
      "cell_type": "code",
      "source": [
        "inputs_primary = layers.Input(shape=(32,32, 3))\n",
        "\n",
        "inputs_vit_rescaled=rescale_layer_vit (inputs_primary)\n",
        "inputs_vit_resized = rescale_resize_vit (inputs_vit_rescaled)\n",
        "print (inputs_vit_resized.shape)\n",
        "mixer_34 = \"https://tfhub.dev/sayakpaul/vit_b8_classification/1\"\n",
        "feature_extractor_model4 = mixer_34\n",
        "feature_extractor_layer3 = hub.KerasLayer(feature_extractor_model4,input_shape=(224,224 ,3),trainable=False)\n",
        "x_resi2 = feature_extractor_layer3(inputs_vit_resized)\n",
        "x_resi2=tf.dtypes.cast(x_resi2,tf.float32)\n",
        "model_helper_2 = Model(inputs=inputs_primary, outputs=x_resi2)"
      ],
      "metadata": {
        "colab": {
          "base_uri": "https://localhost:8080/"
        },
        "id": "UX5CEASio0dp",
        "outputId": "5a4473bf-c9ad-47de-81a7-a21cbdc304f1"
      },
      "execution_count": null,
      "outputs": [
        {
          "output_type": "stream",
          "name": "stdout",
          "text": [
            "(None, 224, 224, 3)\n"
          ]
        }
      ]
    },
    {
      "cell_type": "markdown",
      "source": [
        "# Main Model"
      ],
      "metadata": {
        "id": "p-JmQby_jm2a"
      }
    },
    {
      "cell_type": "code",
      "source": [
        "models = [model_1,model_vit,model_helper_1,model_helper_2]\n",
        "\n",
        "inputs_primary = layers.Input(shape=(32,32, 3))\n",
        "model_1 = [model(inputs_primary) for model in models[0:1]]\n",
        "model_vit = [model(inputs_primary) for model in models[1:2]]\n",
        "model_helper_1 = [model(inputs_primary) for model in models[2:3]]\n",
        "model_helper_2 = [model(inputs_primary) for model in models[3:4]]\n",
        "\n",
        "x3c = tf.squeeze(model_helper_1, axis=[0])\n",
        "x3c=tf.dtypes.cast(x3c,tf.float32)\n",
        "x3c = Flatten()(x3c)\n",
        "model_helper_1_out=tf.dtypes.cast(x3c,tf.float32)\n",
        "x3 = tf.squeeze(model_1, axis=[0])\n",
        "x3=tf.dtypes.cast(x3,tf.float32)\n",
        "x3 = Flatten()(x3)\n",
        "model_cnn_out=tf.dtypes.cast(x3,tf.float32)\n",
        "model_cnn_out_concatenate = Concatenate(axis=-1) ([model_cnn_out,model_helper_1_out])\n",
        "x2qx = Dense(64, activation='elu',name='dense2w')(model_cnn_out_concatenate)\n",
        "x3qx =BatchNormalization()(x2qx)\n",
        "x4qx = Dropout(0.2)(x3qx)\n",
        "x_1qx = Dense(32, activation='elu',name='dense1w')(x4qx)\n",
        "x_qx =BatchNormalization()(x_1qx)\n",
        "xq = Dropout(0.2)(x_qx)\n",
        "x_out = Dense(num_classes, dtype=tf.float32)(xq)\n",
        "x72wx = Activation(\"softmax\",name='model0')(x_out)\n",
        "##################################################################\n",
        "x3a = tf.squeeze(model_1, axis=[0])\n",
        "x3a=tf.dtypes.cast(x3a,tf.float32)\n",
        "x3a = Flatten()(x3a)\n",
        "model_cnn_outa=tf.dtypes.cast(x3a,tf.float32)\n",
        "model_cnn_out_concatenatea = Concatenate(axis=-1) ([model_cnn_out,model_helper_1_out])\n",
        "model_cnn_out_concatenatea = Flatten() (model_cnn_out_concatenatea)\n",
        "x2qxa = Dense(128, activation='elu',name='dense2w')(model_cnn_out_concatenatea)\n",
        "x3qxa =BatchNormalization()(x2qx)\n",
        "x4qxa = Dropout(0.2)(x3qx)\n",
        "x7_1qxa = Dense(64, activation='elu',name='dense1w')(x4qxa)\n",
        "x7_2qxa =BatchNormalization()(x7_1qxa)\n",
        "x7qxa = Dropout(0.2)(x7_2qxa)\n",
        "x71wxa = Dense(num_classes, dtype=tf.float32)(x7qxa)\n",
        "x72wxa = Activation(\"softmax\",name='model2')(x71wxa)\n",
        "######Model helper 2\n",
        "x3v = tf.squeeze(model_helper_2, axis=[0])\n",
        "x3v=tf.dtypes.cast(x3v,tf.float32)\n",
        "x3v = Flatten()(x3v)\n",
        "model_helper_2_out=tf.dtypes.cast(x3v,tf.float32)\n",
        "#################################\n",
        "x3v = tf.squeeze(model_vit, axis=[0])\n",
        "x3v=tf.dtypes.cast(x3v,tf.float32)\n",
        "x3v = Flatten()(x3v)\n",
        "model_vit_out=tf.dtypes.cast(x3,tf.float32)\n",
        "model_vit_out_concatenate = Concatenate(axis=-1) ([model_vit_out,model_helper_2_out])\n",
        "model_vit_out_concatenate = Flatten()(model_vit_out_concatenate)\n",
        "x2 = Dense(64, activation='elu',name='dense_vit11')(model_vit_out_concatenate)\n",
        "x3 =BatchNormalization()(x2)\n",
        "x4v = Dropout(0.2)(x3)\n",
        "x2v = Dense(32, activation='elu',name='dense_vit12')(x4v)\n",
        "x3v =BatchNormalization()(x2v)\n",
        "x4v = Dropout(0.2)(x3v)\n",
        "x_v81 = layers.Dense(num_classes)(x4v)\n",
        "x_v8 = Activation(\"softmax\",name='vit')(x_v81)\n",
        "#########################################\n",
        "avr= tf.keras.layers.Average(name='average')([x_v8,x72wx])\n",
        "model_final = Model(inputs=inputs_primary, outputs=[x_v8,x72wx,avr])"
      ],
      "metadata": {
        "id": "Ai9gyek1jpWU"
      },
      "execution_count": null,
      "outputs": []
    },
    {
      "cell_type": "markdown",
      "metadata": {
        "id": "nyNvEJ_dL0v2"
      },
      "source": [
        "# Callback function"
      ]
    },
    {
      "cell_type": "code",
      "execution_count": null,
      "metadata": {
        "colab": {
          "base_uri": "https://localhost:8080/"
        },
        "id": "hZukQsdxEXlb",
        "outputId": "3441116b-e47b-4ce8-e8fe-faec8fdb0dcb"
      },
      "outputs": [
        {
          "output_type": "stream",
          "name": "stdout",
          "text": [
            "Saving TensorBoard log files to: tensorflow_hub/ENSEMBLE Vit_Cnn_CIFAR10_Exp Apr20/20231209-000433\n"
          ]
        }
      ],
      "source": [
        "# Create tensorboard callback\n",
        "import datetime\n",
        "def create_tensorboard_callback(dir_name, experiment_name):\n",
        "  log_dir = dir_name + \"/\" + experiment_name + \"/\" + datetime.datetime.now().strftime(\"%Y%m%d-%H%M%S\")\n",
        "  tensorboard_callback = tf.keras.callbacks.TensorBoard(\n",
        "      log_dir=log_dir\n",
        "  )\n",
        "  print(f\"Saving TensorBoard log files to: {log_dir}\")\n",
        "  return tensorboard_callback\n",
        "#############################\n",
        "# Setup EarlyStopping callback to stop training if model's val_loss doesn't improve for 3 epochs\n",
        "early_stopping = tf.keras.callbacks.EarlyStopping(monitor=\"val_loss\",\n",
        "                                                  patience=3)\n",
        "# Creating learning rate reduction callback\n",
        "reduce_lr = tf.keras.callbacks.ReduceLROnPlateau(monitor=\"val_loss\",\n",
        "                                                 factor=0.2, # multiply the learning rate by 0.2 (reduce by 5x)\n",
        "                                                 patience=2,\n",
        "                                                 verbose=1, #\n",
        "                                                 min_lr=1e-7)\n",
        "\n",
        "def decay(epochs, steps=100):\n",
        "    initial_lrate = 0.0001\n",
        "    drop = 0.96\n",
        "    epochs_drop = 8\n",
        "    lrate = initial_lrate * math.pow(drop, math.floor((1+(2*epochs)/epochs_drop)))\n",
        "    return lrate\n",
        "################################\n",
        "save_dir = os.path.join(os.getcwd(), \"/save_model\")\n",
        "filepath = \"vit_cnn_20apr.{epoch:02d}-{val_model0_accuracy:.4f}.tf\"\n",
        "\n",
        "checkpoint = tf.keras.callbacks.ModelCheckpoint(os.path.join(save_dir, filepath),\n",
        "                             monitor=\"val_model0_accuracy\",\n",
        "                             save_best_only=True,\n",
        "                             mode=\"max\",\n",
        "                             verbose=0)\n",
        "##############################\n",
        "lr_sc = LearningRateScheduler(decay,verbose=1)\n",
        "mycallback = [early_stopping,lr_sc,reduce_lr,\n",
        "              create_tensorboard_callback(dir_name=\"tensorflow_hub\",\n",
        "              experiment_name=\"ENSEMBLE Vit_Cnn_CIFAR10_Exp Apr20\")]"
      ]
    },
    {
      "cell_type": "markdown",
      "source": [
        "# TRAIN"
      ],
      "metadata": {
        "id": "_gTra8G3u9JE"
      }
    },
    {
      "cell_type": "markdown",
      "source": [
        "\n",
        "## Donload weights from  [link text](https://drive.google.com/file/d/1Bn1DEB7KqOCSBmu2e0HyMW99GXfPYy92/view?usp=sharing)"
      ],
      "metadata": {
        "id": "0vO8nyEW7KFB"
      }
    },
    {
      "cell_type": "code",
      "source": [
        "model_final.load_weights(\"vitensemble_5_1.h5\",by_name=True)#"
      ],
      "metadata": {
        "id": "JUk4DxWV6E4b"
      },
      "execution_count": null,
      "outputs": []
    },
    {
      "cell_type": "markdown",
      "source": [
        "## Compile & Train"
      ],
      "metadata": {
        "id": "yz8o51lx7ViI"
      }
    },
    {
      "cell_type": "code",
      "execution_count": null,
      "metadata": {
        "colab": {
          "base_uri": "https://localhost:8080/"
        },
        "id": "kxbbZVFPgxH4",
        "outputId": "17b8ab8a-6584-4851-d9a2-6cb08f6991bd"
      },
      "outputs": [
        {
          "metadata": {
            "tags": null
          },
          "name": "stdout",
          "output_type": "stream",
          "text": [
            "WARNING:tensorflow:Model failed to serialize as JSON. Ignoring... \n",
            "Layer Patches has arguments ['self', 'patch_size']\n",
            "in `__init__` and therefore must override `get_config()`.\n",
            "\n",
            "Example:\n",
            "\n",
            "class CustomLayer(keras.layers.Layer):\n",
            "    def __init__(self, arg1, arg2):\n",
            "        super().__init__()\n",
            "        self.arg1 = arg1\n",
            "        self.arg2 = arg2\n",
            "\n",
            "    def get_config(self):\n",
            "        config = super().get_config()\n",
            "        config.update({\n",
            "            \"arg1\": self.arg1,\n",
            "            \"arg2\": self.arg2,\n",
            "        })\n",
            "        return config\n"
          ]
        },
        {
          "metadata": {
            "tags": null
          },
          "name": "stderr",
          "output_type": "stream",
          "text": [
            "WARNING:tensorflow:Model failed to serialize as JSON. Ignoring... \n",
            "Layer Patches has arguments ['self', 'patch_size']\n",
            "in `__init__` and therefore must override `get_config()`.\n",
            "\n",
            "Example:\n",
            "\n",
            "class CustomLayer(keras.layers.Layer):\n",
            "    def __init__(self, arg1, arg2):\n",
            "        super().__init__()\n",
            "        self.arg1 = arg1\n",
            "        self.arg2 = arg2\n",
            "\n",
            "    def get_config(self):\n",
            "        config = super().get_config()\n",
            "        config.update({\n",
            "            \"arg1\": self.arg1,\n",
            "            \"arg2\": self.arg2,\n",
            "        })\n",
            "        return config\n"
          ]
        },
        {
          "output_type": "stream",
          "name": "stdout",
          "text": [
            "Epoch 1/90\n",
            "782/782 [==============================] - 1214s 1s/step - loss: 10.0190 - vit_loss: 2.3351 - model0_loss: 2.3590 - average_loss: 1.9168 - vit_accuracy: 0.4714 - model0_accuracy: 0.4372 - average_accuracy: 0.5200 - val_loss: 3.6522 - val_vit_loss: 0.9100 - val_model0_loss: 0.9293 - val_average_loss: 0.6822 - val_vit_accuracy: 0.7663 - val_model0_accuracy: 0.7477 - val_average_accuracy: 0.8118\n",
            "Epoch 2/90\n",
            "782/782 [==============================] - 1138s 1s/step - loss: 7.9862 - vit_loss: 1.8363 - model0_loss: 1.7755 - average_loss: 1.5481 - vit_accuracy: 0.5457 - model0_accuracy: 0.5483 - average_accuracy: 0.6013 - val_loss: 3.0955 - val_vit_loss: 0.8027 - val_model0_loss: 0.7356 - val_average_loss: 0.5849 - val_vit_accuracy: 0.7849 - val_model0_accuracy: 0.7990 - val_average_accuracy: 0.8330\n",
            "Epoch 3/90\n",
            "782/782 [==============================] - 1138s 1s/step - loss: 7.5512 - vit_loss: 1.7425 - model0_loss: 1.6601 - average_loss: 1.4666 - vit_accuracy: 0.5628 - model0_accuracy: 0.5802 - average_accuracy: 0.6224 - val_loss: 2.8381 - val_vit_loss: 0.7681 - val_model0_loss: 0.6456 - val_average_loss: 0.5389 - val_vit_accuracy: 0.7901 - val_model0_accuracy: 0.8177 - val_average_accuracy: 0.8464\n",
            "Epoch 4/90\n",
            "782/782 [==============================] - 1138s 1s/step - loss: 7.2943 - vit_loss: 1.6810 - model0_loss: 1.6037 - average_loss: 1.4169 - vit_accuracy: 0.5758 - model0_accuracy: 0.5932 - average_accuracy: 0.6341 - val_loss: 2.7603 - val_vit_loss: 0.7454 - val_model0_loss: 0.6134 - val_average_loss: 0.5268 - val_vit_accuracy: 0.7985 - val_model0_accuracy: 0.8258 - val_average_accuracy: 0.8502\n",
            "Epoch 5/90\n",
            "782/782 [==============================] - 1138s 1s/step - loss: 7.0824 - vit_loss: 1.6504 - model0_loss: 1.5539 - average_loss: 1.3749 - vit_accuracy: 0.5856 - model0_accuracy: 0.6053 - average_accuracy: 0.6429 - val_loss: 2.6672 - val_vit_loss: 0.7244 - val_model0_loss: 0.6127 - val_average_loss: 0.5052 - val_vit_accuracy: 0.8032 - val_model0_accuracy: 0.8349 - val_average_accuracy: 0.8595\n",
            "Epoch 6/90\n",
            "782/782 [==============================] - 1138s 1s/step - loss: 7.0324 - vit_loss: 1.6366 - model0_loss: 1.5339 - average_loss: 1.3669 - vit_accuracy: 0.5858 - model0_accuracy: 0.6100 - average_accuracy: 0.6466 - val_loss: 2.5747 - val_vit_loss: 0.6814 - val_model0_loss: 0.5899 - val_average_loss: 0.4893 - val_vit_accuracy: 0.8110 - val_model0_accuracy: 0.8411 - val_average_accuracy: 0.8613\n",
            "Epoch 7/90\n",
            "782/782 [==============================] - 1138s 1s/step - loss: 6.9260 - vit_loss: 1.6139 - model0_loss: 1.5162 - average_loss: 1.3451 - vit_accuracy: 0.5950 - model0_accuracy: 0.6145 - average_accuracy: 0.6514 - val_loss: 2.5001 - val_vit_loss: 0.6855 - val_model0_loss: 0.5712 - val_average_loss: 0.4737 - val_vit_accuracy: 0.8121 - val_model0_accuracy: 0.8467 - val_average_accuracy: 0.8698\n",
            "Epoch 8/90\n",
            "782/782 [==============================] - 1139s 1s/step - loss: 6.8483 - vit_loss: 1.5918 - model0_loss: 1.5019 - average_loss: 1.3298 - vit_accuracy: 0.5960 - model0_accuracy: 0.6199 - average_accuracy: 0.6550 - val_loss: 2.5238 - val_vit_loss: 0.6882 - val_model0_loss: 0.5878 - val_average_loss: 0.4765 - val_vit_accuracy: 0.8173 - val_model0_accuracy: 0.8387 - val_average_accuracy: 0.8661\n",
            "Epoch 9/90\n",
            "782/782 [==============================] - 1138s 1s/step - loss: 6.7198 - vit_loss: 1.5667 - model0_loss: 1.4722 - average_loss: 1.3048 - vit_accuracy: 0.6004 - model0_accuracy: 0.6237 - average_accuracy: 0.6603 - val_loss: 2.4670 - val_vit_loss: 0.6750 - val_model0_loss: 0.5561 - val_average_loss: 0.4688 - val_vit_accuracy: 0.8172 - val_model0_accuracy: 0.8451 - val_average_accuracy: 0.8664\n",
            "Epoch 10/90\n",
            "782/782 [==============================] - 1138s 1s/step - loss: 6.7000 - vit_loss: 1.5670 - model0_loss: 1.4644 - average_loss: 1.3012 - vit_accuracy: 0.6033 - model0_accuracy: 0.6285 - average_accuracy: 0.6620 - val_loss: 2.3795 - val_vit_loss: 0.6668 - val_model0_loss: 0.5360 - val_average_loss: 0.4511 - val_vit_accuracy: 0.8236 - val_model0_accuracy: 0.8540 - val_average_accuracy: 0.8734\n",
            "Epoch 11/90\n",
            "782/782 [==============================] - 1138s 1s/step - loss: 6.6346 - vit_loss: 1.5522 - model0_loss: 1.4488 - average_loss: 1.2887 - vit_accuracy: 0.6074 - model0_accuracy: 0.6301 - average_accuracy: 0.6651 - val_loss: 2.4067 - val_vit_loss: 0.6527 - val_model0_loss: 0.5458 - val_average_loss: 0.4572 - val_vit_accuracy: 0.8253 - val_model0_accuracy: 0.8494 - val_average_accuracy: 0.8708\n",
            "Epoch 12/90\n",
            "782/782 [==============================] - 1139s 1s/step - loss: 6.5696 - vit_loss: 1.5368 - model0_loss: 1.4369 - average_loss: 1.2757 - vit_accuracy: 0.6082 - model0_accuracy: 0.6339 - average_accuracy: 0.6690 - val_loss: 2.3876 - val_vit_loss: 0.6656 - val_model0_loss: 0.5343 - val_average_loss: 0.4535 - val_vit_accuracy: 0.8233 - val_model0_accuracy: 0.8519 - val_average_accuracy: 0.8736\n",
            "Epoch 13/90\n",
            "782/782 [==============================] - 1139s 1s/step - loss: 6.5386 - vit_loss: 1.5277 - model0_loss: 1.4300 - average_loss: 1.2698 - vit_accuracy: 0.6139 - model0_accuracy: 0.6354 - average_accuracy: 0.6704 - val_loss: 2.3305 - val_vit_loss: 0.6510 - val_model0_loss: 0.5216 - val_average_loss: 0.4425 - val_vit_accuracy: 0.8269 - val_model0_accuracy: 0.8537 - val_average_accuracy: 0.8768\n",
            "Epoch 14/90\n",
            "782/782 [==============================] - 1139s 1s/step - loss: 6.5125 - vit_loss: 1.5230 - model0_loss: 1.4271 - average_loss: 1.2642 - vit_accuracy: 0.6149 - model0_accuracy: 0.6382 - average_accuracy: 0.6705 - val_loss: 2.3220 - val_vit_loss: 0.6503 - val_model0_loss: 0.5358 - val_average_loss: 0.4380 - val_vit_accuracy: 0.8290 - val_model0_accuracy: 0.8527 - val_average_accuracy: 0.8750\n",
            "Epoch 15/90\n",
            "782/782 [==============================] - 1139s 1s/step - loss: 6.3866 - vit_loss: 1.4987 - model0_loss: 1.4043 - average_loss: 1.2385 - vit_accuracy: 0.6209 - model0_accuracy: 0.6435 - average_accuracy: 0.6791 - val_loss: 2.2421 - val_vit_loss: 0.6386 - val_model0_loss: 0.5048 - val_average_loss: 0.4243 - val_vit_accuracy: 0.8297 - val_model0_accuracy: 0.8608 - val_average_accuracy: 0.8795\n",
            "Epoch 16/90\n",
            "782/782 [==============================] - 1138s 1s/step - loss: 6.3951 - vit_loss: 1.4962 - model0_loss: 1.3997 - average_loss: 1.2416 - vit_accuracy: 0.6220 - model0_accuracy: 0.6420 - average_accuracy: 0.6771 - val_loss: 2.2543 - val_vit_loss: 0.6510 - val_model0_loss: 0.5092 - val_average_loss: 0.4256 - val_vit_accuracy: 0.8329 - val_model0_accuracy: 0.8596 - val_average_accuracy: 0.8790\n",
            "Epoch 17/90\n",
            "782/782 [==============================] - 1138s 1s/step - loss: 6.3992 - vit_loss: 1.5042 - model0_loss: 1.4015 - average_loss: 1.2417 - vit_accuracy: 0.6185 - model0_accuracy: 0.6439 - average_accuracy: 0.6777 - val_loss: 2.2667 - val_vit_loss: 0.6462 - val_model0_loss: 0.5029 - val_average_loss: 0.4302 - val_vit_accuracy: 0.8288 - val_model0_accuracy: 0.8610 - val_average_accuracy: 0.8792\n",
            "Epoch 18/90\n",
            "782/782 [==============================] - 1137s 1s/step - loss: 6.3393 - vit_loss: 1.4881 - model0_loss: 1.3970 - average_loss: 1.2287 - vit_accuracy: 0.6240 - model0_accuracy: 0.6462 - average_accuracy: 0.6799 - val_loss: 2.2772 - val_vit_loss: 0.6467 - val_model0_loss: 0.5153 - val_average_loss: 0.4306 - val_vit_accuracy: 0.8350 - val_model0_accuracy: 0.8604 - val_average_accuracy: 0.8794\n",
            "Epoch 19/90\n",
            "782/782 [==============================] - 1137s 1s/step - loss: 6.2337 - vit_loss: 1.4686 - model0_loss: 1.3701 - average_loss: 1.2085 - vit_accuracy: 0.6291 - model0_accuracy: 0.6492 - average_accuracy: 0.6842 - val_loss: 2.2111 - val_vit_loss: 0.6433 - val_model0_loss: 0.4930 - val_average_loss: 0.4183 - val_vit_accuracy: 0.8309 - val_model0_accuracy: 0.8673 - val_average_accuracy: 0.8798\n",
            "Epoch 20/90\n",
            "782/782 [==============================] - 1137s 1s/step - loss: 6.2737 - vit_loss: 1.4714 - model0_loss: 1.3759 - average_loss: 1.2173 - vit_accuracy: 0.6250 - model0_accuracy: 0.6486 - average_accuracy: 0.6822 - val_loss: 2.2359 - val_vit_loss: 0.6273 - val_model0_loss: 0.5087 - val_average_loss: 0.4229 - val_vit_accuracy: 0.8341 - val_model0_accuracy: 0.8642 - val_average_accuracy: 0.8812\n",
            "Epoch 21/90\n",
            "782/782 [==============================] - 1137s 1s/step - loss: 6.2133 - vit_loss: 1.4635 - model0_loss: 1.3680 - average_loss: 1.2042 - vit_accuracy: 0.6296 - model0_accuracy: 0.6533 - average_accuracy: 0.6856 - val_loss: 2.2102 - val_vit_loss: 0.6497 - val_model0_loss: 0.4953 - val_average_loss: 0.4172 - val_vit_accuracy: 0.8355 - val_model0_accuracy: 0.8648 - val_average_accuracy: 0.8824\n",
            "Epoch 22/90\n",
            "782/782 [==============================] - 1137s 1s/step - loss: 6.1450 - vit_loss: 1.4422 - model0_loss: 1.3548 - average_loss: 1.1910 - vit_accuracy: 0.6341 - model0_accuracy: 0.6552 - average_accuracy: 0.6910 - val_loss: 2.2377 - val_vit_loss: 0.6350 - val_model0_loss: 0.5163 - val_average_loss: 0.4214 - val_vit_accuracy: 0.8308 - val_model0_accuracy: 0.8639 - val_average_accuracy: 0.8803\n",
            "Epoch 23/90\n",
            "782/782 [==============================] - 1138s 1s/step - loss: 6.1071 - vit_loss: 1.4432 - model0_loss: 1.3431 - average_loss: 1.1835 - vit_accuracy: 0.6345 - model0_accuracy: 0.6560 - average_accuracy: 0.6927 - val_loss: 2.2013 - val_vit_loss: 0.6453 - val_model0_loss: 0.5017 - val_average_loss: 0.4141 - val_vit_accuracy: 0.8358 - val_model0_accuracy: 0.8698 - val_average_accuracy: 0.8861\n",
            "Epoch 24/90\n",
            "782/782 [==============================] - 1138s 1s/step - loss: 6.1028 - vit_loss: 1.4421 - model0_loss: 1.3386 - average_loss: 1.1833 - vit_accuracy: 0.6348 - model0_accuracy: 0.6586 - average_accuracy: 0.6919 - val_loss: 2.1999 - val_vit_loss: 0.6208 - val_model0_loss: 0.5092 - val_average_loss: 0.4143 - val_vit_accuracy: 0.8379 - val_model0_accuracy: 0.8652 - val_average_accuracy: 0.8853\n",
            "Epoch 25/90\n",
            "782/782 [==============================] - 1138s 1s/step - loss: 6.0523 - vit_loss: 1.4252 - model0_loss: 1.3338 - average_loss: 1.1728 - vit_accuracy: 0.6384 - model0_accuracy: 0.6597 - average_accuracy: 0.6931 - val_loss: 2.1629 - val_vit_loss: 0.6316 - val_model0_loss: 0.4861 - val_average_loss: 0.4083 - val_vit_accuracy: 0.8384 - val_model0_accuracy: 0.8679 - val_average_accuracy: 0.8859\n",
            "Epoch 26/90\n",
            "782/782 [==============================] - 1138s 1s/step - loss: 5.9933 - vit_loss: 1.4140 - model0_loss: 1.3208 - average_loss: 1.1611 - vit_accuracy: 0.6402 - model0_accuracy: 0.6625 - average_accuracy: 0.6954 - val_loss: 2.1696 - val_vit_loss: 0.6371 - val_model0_loss: 0.4895 - val_average_loss: 0.4090 - val_vit_accuracy: 0.8362 - val_model0_accuracy: 0.8662 - val_average_accuracy: 0.8810\n",
            "Epoch 27/90\n",
            "782/782 [==============================] - 1138s 1s/step - loss: 5.9717 - vit_loss: 1.4163 - model0_loss: 1.3149 - average_loss: 1.1566 - vit_accuracy: 0.6417 - model0_accuracy: 0.6643 - average_accuracy: 0.6968 - val_loss: 2.1595 - val_vit_loss: 0.6397 - val_model0_loss: 0.4825 - val_average_loss: 0.4075 - val_vit_accuracy: 0.8387 - val_model0_accuracy: 0.8715 - val_average_accuracy: 0.8832\n",
            "Epoch 28/90\n",
            "782/782 [==============================] - 1138s 1s/step - loss: 5.9155 - vit_loss: 1.3942 - model0_loss: 1.3067 - average_loss: 1.1456 - vit_accuracy: 0.6461 - model0_accuracy: 0.6646 - average_accuracy: 0.7011 - val_loss: 2.1808 - val_vit_loss: 0.6706 - val_model0_loss: 0.4806 - val_average_loss: 0.4108 - val_vit_accuracy: 0.8298 - val_model0_accuracy: 0.8716 - val_average_accuracy: 0.8866\n",
            "Epoch 29/90\n",
            "782/782 [==============================] - 1137s 1s/step - loss: 5.8854 - vit_loss: 1.3919 - model0_loss: 1.2994 - average_loss: 1.1396 - vit_accuracy: 0.6457 - model0_accuracy: 0.6672 - average_accuracy: 0.7011 - val_loss: 2.1469 - val_vit_loss: 0.6353 - val_model0_loss: 0.4902 - val_average_loss: 0.4033 - val_vit_accuracy: 0.8375 - val_model0_accuracy: 0.8715 - val_average_accuracy: 0.8863\n",
            "Epoch 30/90\n",
            "782/782 [==============================] - 1138s 1s/step - loss: 5.8604 - vit_loss: 1.3877 - model0_loss: 1.2937 - average_loss: 1.1346 - vit_accuracy: 0.6478 - model0_accuracy: 0.6709 - average_accuracy: 0.7011 - val_loss: 2.1335 - val_vit_loss: 0.6220 - val_model0_loss: 0.4791 - val_average_loss: 0.4029 - val_vit_accuracy: 0.8383 - val_model0_accuracy: 0.8698 - val_average_accuracy: 0.8865\n",
            "Epoch 31/90\n",
            "782/782 [==============================] - 1137s 1s/step - loss: 5.9239 - vit_loss: 1.3928 - model0_loss: 1.2995 - average_loss: 1.1491 - vit_accuracy: 0.6465 - model0_accuracy: 0.6690 - average_accuracy: 0.7031 - val_loss: 2.1252 - val_vit_loss: 0.6339 - val_model0_loss: 0.4688 - val_average_loss: 0.4017 - val_vit_accuracy: 0.8405 - val_model0_accuracy: 0.8720 - val_average_accuracy: 0.8890\n",
            "Epoch 32/90\n",
            "782/782 [==============================] - 1137s 1s/step - loss: 5.8191 - vit_loss: 1.3670 - model0_loss: 1.2825 - average_loss: 1.1278 - vit_accuracy: 0.6521 - model0_accuracy: 0.6711 - average_accuracy: 0.7057 - val_loss: 2.1346 - val_vit_loss: 0.6257 - val_model0_loss: 0.4834 - val_average_loss: 0.4021 - val_vit_accuracy: 0.8402 - val_model0_accuracy: 0.8707 - val_average_accuracy: 0.8863\n",
            "Epoch 33/90\n",
            "782/782 [==============================] - 1138s 1s/step - loss: 5.7181 - vit_loss: 1.3547 - model0_loss: 1.2618 - average_loss: 1.1071 - vit_accuracy: 0.6525 - model0_accuracy: 0.6796 - average_accuracy: 0.7115 - val_loss: 2.0915 - val_vit_loss: 0.6150 - val_model0_loss: 0.4779 - val_average_loss: 0.3931 - val_vit_accuracy: 0.8441 - val_model0_accuracy: 0.8719 - val_average_accuracy: 0.8902\n",
            "Epoch 34/90\n",
            "782/782 [==============================] - 1137s 1s/step - loss: 5.7920 - vit_loss: 1.3585 - model0_loss: 1.2856 - average_loss: 1.1211 - vit_accuracy: 0.6536 - model0_accuracy: 0.6730 - average_accuracy: 0.7081 - val_loss: 2.1336 - val_vit_loss: 0.6319 - val_model0_loss: 0.4825 - val_average_loss: 0.4016 - val_vit_accuracy: 0.8404 - val_model0_accuracy: 0.8739 - val_average_accuracy: 0.8902\n",
            "Epoch 35/90\n",
            "782/782 [==============================] - 1138s 1s/step - loss: 5.7233 - vit_loss: 1.3520 - model0_loss: 1.2651 - average_loss: 1.1080 - vit_accuracy: 0.6543 - model0_accuracy: 0.6757 - average_accuracy: 0.7092 - val_loss: 2.0986 - val_vit_loss: 0.6225 - val_model0_loss: 0.4662 - val_average_loss: 0.3964 - val_vit_accuracy: 0.8449 - val_model0_accuracy: 0.8747 - val_average_accuracy: 0.8880\n",
            "Epoch 36/90\n",
            "782/782 [==============================] - 1138s 1s/step - loss: 5.6517 - vit_loss: 1.3345 - model0_loss: 1.2495 - average_loss: 1.0942 - vit_accuracy: 0.6577 - model0_accuracy: 0.6811 - average_accuracy: 0.7122 - val_loss: 2.0785 - val_vit_loss: 0.6229 - val_model0_loss: 0.4704 - val_average_loss: 0.3906 - val_vit_accuracy: 0.8456 - val_model0_accuracy: 0.8738 - val_average_accuracy: 0.8928\n",
            "Epoch 37/90\n",
            "782/782 [==============================] - 1137s 1s/step - loss: 5.6662 - vit_loss: 1.3395 - model0_loss: 1.2483 - average_loss: 1.0976 - vit_accuracy: 0.6595 - model0_accuracy: 0.6784 - average_accuracy: 0.7131 - val_loss: 2.0479 - val_vit_loss: 0.6164 - val_model0_loss: 0.4672 - val_average_loss: 0.3840 - val_vit_accuracy: 0.8489 - val_model0_accuracy: 0.8754 - val_average_accuracy: 0.8946\n",
            "Epoch 38/90\n",
            "782/782 [==============================] - 1155s 1s/step - loss: 5.6328 - vit_loss: 1.3210 - model0_loss: 1.2494 - average_loss: 1.0905 - vit_accuracy: 0.6620 - model0_accuracy: 0.6783 - average_accuracy: 0.7169 - val_loss: 2.0236 - val_vit_loss: 0.6072 - val_model0_loss: 0.4575 - val_average_loss: 0.3803 - val_vit_accuracy: 0.8483 - val_model0_accuracy: 0.8768 - val_average_accuracy: 0.8945\n",
            "Epoch 39/90\n",
            "782/782 [==============================] - 1138s 1s/step - loss: 5.6073 - vit_loss: 1.3135 - model0_loss: 1.2429 - average_loss: 1.0858 - vit_accuracy: 0.6646 - model0_accuracy: 0.6814 - average_accuracy: 0.7174 - val_loss: 2.0877 - val_vit_loss: 0.6114 - val_model0_loss: 0.4826 - val_average_loss: 0.3916 - val_vit_accuracy: 0.8475 - val_model0_accuracy: 0.8721 - val_average_accuracy: 0.8947\n",
            "Epoch 40/90\n",
            "782/782 [==============================] - 1138s 1s/step - loss: 5.5601 - vit_loss: 1.3145 - model0_loss: 1.2309 - average_loss: 1.0760 - vit_accuracy: 0.6636 - model0_accuracy: 0.6827 - average_accuracy: 0.7178 - val_loss: 2.0497 - val_vit_loss: 0.6085 - val_model0_loss: 0.4684 - val_average_loss: 0.3848 - val_vit_accuracy: 0.8513 - val_model0_accuracy: 0.8744 - val_average_accuracy: 0.8938\n",
            "Epoch 41/90\n",
            "782/782 [==============================] - 1137s 1s/step - loss: 5.4822 - vit_loss: 1.2971 - model0_loss: 1.2167 - average_loss: 1.0604 - vit_accuracy: 0.6692 - model0_accuracy: 0.6858 - average_accuracy: 0.7208 - val_loss: 2.0282 - val_vit_loss: 0.5961 - val_model0_loss: 0.4617 - val_average_loss: 0.3816 - val_vit_accuracy: 0.8506 - val_model0_accuracy: 0.8756 - val_average_accuracy: 0.8945\n",
            "Epoch 42/90\n",
            "782/782 [==============================] - 1137s 1s/step - loss: 5.5309 - vit_loss: 1.3112 - model0_loss: 1.2210 - average_loss: 1.0707 - vit_accuracy: 0.6678 - model0_accuracy: 0.6876 - average_accuracy: 0.7215 - val_loss: 2.0438 - val_vit_loss: 0.6047 - val_model0_loss: 0.4690 - val_average_loss: 0.3835 - val_vit_accuracy: 0.8506 - val_model0_accuracy: 0.8750 - val_average_accuracy: 0.8945\n",
            "Epoch 43/90\n",
            "782/782 [==============================] - 1137s 1s/step - loss: 5.5539 - vit_loss: 1.3027 - model0_loss: 1.2302 - average_loss: 1.0755 - vit_accuracy: 0.6669 - model0_accuracy: 0.6845 - average_accuracy: 0.7204 - val_loss: 2.0329 - val_vit_loss: 0.6085 - val_model0_loss: 0.4566 - val_average_loss: 0.3827 - val_vit_accuracy: 0.8490 - val_model0_accuracy: 0.8796 - val_average_accuracy: 0.8946\n",
            "Epoch 44/90\n",
            "782/782 [==============================] - 1137s 1s/step - loss: 5.4159 - vit_loss: 1.2759 - model0_loss: 1.2008 - average_loss: 1.0481 - vit_accuracy: 0.6741 - model0_accuracy: 0.6903 - average_accuracy: 0.7268 - val_loss: 2.0155 - val_vit_loss: 0.6102 - val_model0_loss: 0.4562 - val_average_loss: 0.3783 - val_vit_accuracy: 0.8479 - val_model0_accuracy: 0.8760 - val_average_accuracy: 0.8959\n",
            "Epoch 45/90\n",
            "782/782 [==============================] - 1137s 1s/step - loss: 5.4454 - vit_loss: 1.2803 - model0_loss: 1.2050 - average_loss: 1.0545 - vit_accuracy: 0.6729 - model0_accuracy: 0.6905 - average_accuracy: 0.7259 - val_loss: 1.9793 - val_vit_loss: 0.5873 - val_model0_loss: 0.4477 - val_average_loss: 0.3724 - val_vit_accuracy: 0.8484 - val_model0_accuracy: 0.8798 - val_average_accuracy: 0.8967\n",
            "Epoch 46/90\n",
            "782/782 [==============================] - 1138s 1s/step - loss: 5.3764 - vit_loss: 1.2681 - model0_loss: 1.1918 - average_loss: 1.0404 - vit_accuracy: 0.6763 - model0_accuracy: 0.6910 - average_accuracy: 0.7286 - val_loss: 1.9810 - val_vit_loss: 0.6031 - val_model0_loss: 0.4439 - val_average_loss: 0.3723 - val_vit_accuracy: 0.8501 - val_model0_accuracy: 0.8792 - val_average_accuracy: 0.8969\n",
            "Epoch 47/90\n",
            "782/782 [==============================] - 1138s 1s/step - loss: 5.3562 - vit_loss: 1.2672 - model0_loss: 1.1911 - average_loss: 1.0356 - vit_accuracy: 0.6755 - model0_accuracy: 0.6934 - average_accuracy: 0.7262 - val_loss: 1.9793 - val_vit_loss: 0.6062 - val_model0_loss: 0.4423 - val_average_loss: 0.3720 - val_vit_accuracy: 0.8481 - val_model0_accuracy: 0.8806 - val_average_accuracy: 0.8950\n",
            "Epoch 48/90\n",
            "782/782 [==============================] - 1136s 1s/step - loss: 5.2926 - vit_loss: 1.2432 - model0_loss: 1.1800 - average_loss: 1.0234 - vit_accuracy: 0.6804 - model0_accuracy: 0.6944 - average_accuracy: 0.7309 - val_loss: 1.9969 - val_vit_loss: 0.6051 - val_model0_loss: 0.4482 - val_average_loss: 0.3754 - val_vit_accuracy: 0.8485 - val_model0_accuracy: 0.8828 - val_average_accuracy: 0.8980\n",
            "Epoch 49/90\n",
            "782/782 [==============================] - 1136s 1s/step - loss: 5.3068 - vit_loss: 1.2478 - model0_loss: 1.1773 - average_loss: 1.0271 - vit_accuracy: 0.6807 - model0_accuracy: 0.6956 - average_accuracy: 0.7314 - val_loss: 2.0100 - val_vit_loss: 0.6133 - val_model0_loss: 0.4520 - val_average_loss: 0.3774 - val_vit_accuracy: 0.8499 - val_model0_accuracy: 0.8809 - val_average_accuracy: 0.8956\n",
            "Epoch 50/90\n",
            "782/782 [==============================] - 1137s 1s/step - loss: 5.2982 - vit_loss: 1.2532 - model0_loss: 1.1766 - average_loss: 1.0246 - vit_accuracy: 0.6812 - model0_accuracy: 0.6974 - average_accuracy: 0.7313 - val_loss: 1.9734 - val_vit_loss: 0.6028 - val_model0_loss: 0.4450 - val_average_loss: 0.3703 - val_vit_accuracy: 0.8517 - val_model0_accuracy: 0.8822 - val_average_accuracy: 0.8990\n",
            "Epoch 51/90\n",
            "782/782 [==============================] - 1137s 1s/step - loss: 5.2405 - vit_loss: 1.2391 - model0_loss: 1.1635 - average_loss: 1.0136 - vit_accuracy: 0.6836 - model0_accuracy: 0.6994 - average_accuracy: 0.7355 - val_loss: 1.9952 - val_vit_loss: 0.6094 - val_model0_loss: 0.4473 - val_average_loss: 0.3748 - val_vit_accuracy: 0.8502 - val_model0_accuracy: 0.8827 - val_average_accuracy: 0.8976\n",
            "Epoch 52/90\n",
            "782/782 [==============================] - 1137s 1s/step - loss: 5.2329 - vit_loss: 1.2318 - model0_loss: 1.1625 - average_loss: 1.0124 - vit_accuracy: 0.6839 - model0_accuracy: 0.7011 - average_accuracy: 0.7362 - val_loss: 1.9742 - val_vit_loss: 0.6059 - val_model0_loss: 0.4397 - val_average_loss: 0.3712 - val_vit_accuracy: 0.8484 - val_model0_accuracy: 0.8846 - val_average_accuracy: 0.8980\n",
            "Epoch 53/90\n",
            "782/782 [==============================] - 1137s 1s/step - loss: 5.2294 - vit_loss: 1.2378 - model0_loss: 1.1541 - average_loss: 1.0126 - vit_accuracy: 0.6839 - model0_accuracy: 0.7015 - average_accuracy: 0.7359 - val_loss: 1.9719 - val_vit_loss: 0.5970 - val_model0_loss: 0.4407 - val_average_loss: 0.3711 - val_vit_accuracy: 0.8501 - val_model0_accuracy: 0.8820 - val_average_accuracy: 0.8973\n",
            "Epoch 54/90\n",
            "782/782 [==============================] - 1135s 1s/step - loss: 5.2181 - vit_loss: 1.2281 - model0_loss: 1.1566 - average_loss: 1.0100 - vit_accuracy: 0.6832 - model0_accuracy: 0.7028 - average_accuracy: 0.7359 - val_loss: 1.9511 - val_vit_loss: 0.5947 - val_model0_loss: 0.4368 - val_average_loss: 0.3667 - val_vit_accuracy: 0.8549 - val_model0_accuracy: 0.8844 - val_average_accuracy: 0.8994\n",
            "Epoch 55/90\n",
            "782/782 [==============================] - 1135s 1s/step - loss: 5.1995 - vit_loss: 1.2230 - model0_loss: 1.1558 - average_loss: 1.0059 - vit_accuracy: 0.6864 - model0_accuracy: 0.7034 - average_accuracy: 0.7363 - val_loss: 1.9695 - val_vit_loss: 0.6011 - val_model0_loss: 0.4408 - val_average_loss: 0.3701 - val_vit_accuracy: 0.8500 - val_model0_accuracy: 0.8848 - val_average_accuracy: 0.8989\n",
            "Epoch 56/90\n",
            "782/782 [==============================] - 1135s 1s/step - loss: 5.1473 - vit_loss: 1.2121 - model0_loss: 1.1366 - average_loss: 0.9970 - vit_accuracy: 0.6876 - model0_accuracy: 0.7059 - average_accuracy: 0.7392 - val_loss: 1.9631 - val_vit_loss: 0.5990 - val_model0_loss: 0.4409 - val_average_loss: 0.3687 - val_vit_accuracy: 0.8505 - val_model0_accuracy: 0.8856 - val_average_accuracy: 0.8976\n",
            "Epoch 57/90\n",
            "782/782 [==============================] - 1136s 1s/step - loss: 5.1475 - vit_loss: 1.2157 - model0_loss: 1.1421 - average_loss: 0.9958 - vit_accuracy: 0.6884 - model0_accuracy: 0.7064 - average_accuracy: 0.7422 - val_loss: 1.9605 - val_vit_loss: 0.5948 - val_model0_loss: 0.4426 - val_average_loss: 0.3680 - val_vit_accuracy: 0.8507 - val_model0_accuracy: 0.8850 - val_average_accuracy: 0.8990\n",
            "Epoch 58/90\n",
            "782/782 [==============================] - 1136s 1s/step - loss: 5.1459 - vit_loss: 1.2153 - model0_loss: 1.1422 - average_loss: 0.9955 - vit_accuracy: 0.6905 - model0_accuracy: 0.7043 - average_accuracy: 0.7398 - val_loss: 1.9456 - val_vit_loss: 0.5908 - val_model0_loss: 0.4390 - val_average_loss: 0.3653 - val_vit_accuracy: 0.8504 - val_model0_accuracy: 0.8853 - val_average_accuracy: 0.8988\n",
            "Epoch 59/90\n",
            "782/782 [==============================] - 1136s 1s/step - loss: 5.1308 - vit_loss: 1.2069 - model0_loss: 1.1413 - average_loss: 0.9925 - vit_accuracy: 0.6909 - model0_accuracy: 0.7055 - average_accuracy: 0.7411 - val_loss: 1.9339 - val_vit_loss: 0.5880 - val_model0_loss: 0.4346 - val_average_loss: 0.3633 - val_vit_accuracy: 0.8505 - val_model0_accuracy: 0.8865 - val_average_accuracy: 0.8991\n",
            "Epoch 60/90\n",
            "782/782 [==============================] - 1136s 1s/step - loss: 5.0690 - vit_loss: 1.1976 - model0_loss: 1.1246 - average_loss: 0.9806 - vit_accuracy: 0.6918 - model0_accuracy: 0.7074 - average_accuracy: 0.7424 - val_loss: 1.9460 - val_vit_loss: 0.5984 - val_model0_loss: 0.4369 - val_average_loss: 0.3652 - val_vit_accuracy: 0.8503 - val_model0_accuracy: 0.8867 - val_average_accuracy: 0.8990\n",
            "Epoch 61/90\n",
            "782/782 [==============================] - 1137s 1s/step - loss: 5.0594 - vit_loss: 1.1891 - model0_loss: 1.1220 - average_loss: 0.9793 - vit_accuracy: 0.6936 - model0_accuracy: 0.7087 - average_accuracy: 0.7440 - val_loss: 1.9289 - val_vit_loss: 0.5911 - val_model0_loss: 0.4326 - val_average_loss: 0.3622 - val_vit_accuracy: 0.8524 - val_model0_accuracy: 0.8867 - val_average_accuracy: 0.9006\n",
            "Epoch 62/90\n",
            "782/782 [==============================] - 1137s 1s/step - loss: 5.0575 - vit_loss: 1.1902 - model0_loss: 1.1213 - average_loss: 0.9789 - vit_accuracy: 0.6924 - model0_accuracy: 0.7106 - average_accuracy: 0.7425 - val_loss: 1.9351 - val_vit_loss: 0.5930 - val_model0_loss: 0.4338 - val_average_loss: 0.3634 - val_vit_accuracy: 0.8537 - val_model0_accuracy: 0.8879 - val_average_accuracy: 0.8987\n",
            "Epoch 63/90\n",
            "782/782 [==============================] - 1137s 1s/step - loss: 5.1173 - vit_loss: 1.1991 - model0_loss: 1.1370 - average_loss: 0.9904 - vit_accuracy: 0.6934 - model0_accuracy: 0.7067 - average_accuracy: 0.7435 - val_loss: 1.9400 - val_vit_loss: 0.5920 - val_model0_loss: 0.4342 - val_average_loss: 0.3646 - val_vit_accuracy: 0.8522 - val_model0_accuracy: 0.8869 - val_average_accuracy: 0.8993\n",
            "Epoch 64/90\n",
            "782/782 [==============================] - 1137s 1s/step - loss: 5.0531 - vit_loss: 1.1823 - model0_loss: 1.1243 - average_loss: 0.9779 - vit_accuracy: 0.6934 - model0_accuracy: 0.7087 - average_accuracy: 0.7427 - val_loss: 1.9329 - val_vit_loss: 0.5884 - val_model0_loss: 0.4338 - val_average_loss: 0.3632 - val_vit_accuracy: 0.8523 - val_model0_accuracy: 0.8873 - val_average_accuracy: 0.8994\n",
            "Epoch 65/90\n",
            "782/782 [==============================] - 1138s 1s/step - loss: 4.9959 - vit_loss: 1.1746 - model0_loss: 1.1118 - average_loss: 0.9663 - vit_accuracy: 0.6975 - model0_accuracy: 0.7127 - average_accuracy: 0.7465 - val_loss: 1.9302 - val_vit_loss: 0.5929 - val_model0_loss: 0.4326 - val_average_loss: 0.3624 - val_vit_accuracy: 0.8523 - val_model0_accuracy: 0.8895 - val_average_accuracy: 0.9016\n",
            "Epoch 66/90\n",
            "782/782 [==============================] - 1138s 1s/step - loss: 5.0459 - vit_loss: 1.1823 - model0_loss: 1.1200 - average_loss: 0.9768 - vit_accuracy: 0.6955 - model0_accuracy: 0.7087 - average_accuracy: 0.7451 - val_loss: 1.9346 - val_vit_loss: 0.5926 - val_model0_loss: 0.4341 - val_average_loss: 0.3632 - val_vit_accuracy: 0.8520 - val_model0_accuracy: 0.8886 - val_average_accuracy: 0.9007\n",
            "Epoch 67/90\n",
            "380/782 [=============>................] - ETA: 8:10 - loss: 5.0311 - vit_loss: 1.1884 - model0_loss: 1.1132 - average_loss: 0.9738 - vit_accuracy: 0.6926 - model0_accuracy: 0.7138 - average_accuracy: 0.7468"
          ]
        }
      ],
      "source": [
        "optimizer = keras.optimizers.Adamax(scheduled_lrs, clipnorm=1.0)\n",
        "lossWeights = {'model0':0.7,'vit':0.3,'average':4.0}\n",
        "loss5 = tf.keras.losses.SparseCategoricalCrossentropy()\n",
        "\n",
        "model_final.compile( optimizer=optimizer1, metrics=[\"accuracy\"],loss={'model0':loss5,'vit':loss5,'average':loss5},loss_weights=lossWeights)\n",
        "\n",
        "history = model_final.fit(train_dataset, validation_data=val_dataset, epochs=90,callbacks=[mycallback])\n"
      ]
    }
  ],
  "metadata": {
    "accelerator": "GPU",
    "colab": {
      "collapsed_sections": [
        "Em_vCIvsWgol",
        "ra0K4ju7uU-P",
        "9iJKlP4OUxTP",
        "wMKcSVz1tItl",
        "8pQrnYlUtIto",
        "z9KveLojtItq",
        "gaR5YSPftItw",
        "LIqpvjSCiHhn",
        "B79pvsRbirs0",
        "c5S6rz0Aogt1",
        "DJy1pvBqovBA",
        "p-JmQby_jm2a",
        "nyNvEJ_dL0v2"
      ],
      "machine_shape": "hm",
      "provenance": [],
      "gpuClass": "premium"
    },
    "environment": {
      "name": "tf2-gpu.2-4.m61",
      "type": "gcloud",
      "uri": "gcr.io/deeplearning-platform-release/tf2-gpu.2-4:m61"
    },
    "gpuClass": "premium",
    "kernelspec": {
      "display_name": "Python 3",
      "language": "python",
      "name": "python3"
    },
    "language_info": {
      "codemirror_mode": {
        "name": "ipython",
        "version": 3
      },
      "file_extension": ".py",
      "mimetype": "text/x-python",
      "name": "python",
      "nbconvert_exporter": "python",
      "pygments_lexer": "ipython3",
      "version": "3.7.9"
    }
  },
  "nbformat": 4,
  "nbformat_minor": 0
}