{
  "cells": [
    {
      "cell_type": "markdown",
      "source": [
        "# Image classification with Vision Transformer\n",
        "This example implements for image classification,and demonstrates it on the CIFAR-10 and CIFAR-100 datasetS.\n",
        "The HYBRID MODEL consists of a modified ViT and attentive modules.\n",
        "\n",
        "**!pip install -U tensorflow-addons**\n"
      ],
      "metadata": {
        "id": "Z0dW15yxwZ9F"
      }
    },
    {
      "cell_type": "markdown",
      "metadata": {
        "id": "Em_vCIvsWgol"
      },
      "source": [
        "# LIBRARIES\n"
      ]
    },
    {
      "cell_type": "code",
      "execution_count": null,
      "metadata": {
        "id": "5QGAEnuJ8WHd"
      },
      "outputs": [],
      "source": [
        "import tensorflow as tf\n",
        "from tensorflow.keras.datasets import cifar10,cifar100\n",
        "from tensorflow.keras import layers, models\n",
        "from tensorflow.keras.preprocessing.image import ImageDataGenerator\n",
        "from tensorflow.keras.utils import to_categorical\n",
        "import matplotlib.pyplot as plt\n",
        "from tensorflow.keras.preprocessing.image import ImageDataGenerator\n",
        "import pandas as pd\n",
        "import time\n",
        "from keras.applications.nasnet import NASNetMobile, preprocess_input\n",
        "from sklearn.compose import ColumnTransformer\n",
        "from sklearn.preprocessing import Normalizer\n",
        "from __future__ import print_function, division, absolute_import\n",
        "import timeit\n",
        "import numpy as np\n",
        "from tensorflow.keras.models import Sequential,Model\n",
        "from tensorflow.keras.layers import BatchNormalization\n",
        "from tensorflow.keras.layers import Conv2D, MaxPooling2D,GlobalMaxPooling2D,AveragePooling2D,UpSampling2D,Conv2DTranspose,DepthwiseConv2D,Conv1D,Add\n",
        "from tensorflow.keras.layers import ELU,SeparableConv2D,DepthwiseConv1D\n",
        "from tensorflow.keras.layers import Activation, Flatten, Dropout, Dense,ZeroPadding2D,Concatenate,AveragePooling1D\n",
        "from tensorflow.keras.optimizers import RMSprop, SGD, Adam,Adadelta,Adamax\n",
        "from tensorflow.keras.callbacks import ModelCheckpoint, EarlyStopping, ReduceLROnPlateau,LearningRateScheduler\n",
        "from keras.models import load_model\n",
        "import os\n",
        "from PIL import Image\n",
        "import requests\n",
        "from tensorflow import keras\n",
        "import tensorflow as tf\n",
        "import tensorflow_hub as hub\n",
        "import tensorflow_datasets as tfds\n",
        "tfds.disable_progress_bar()\n",
        "import matplotlib.pyplot as plt\n",
        "from keras.activations import *\n",
        "from tensorflow.python.keras.utils.generic_utils import deserialize_keras_object\n",
        "from tensorflow.python.keras.utils.generic_utils import serialize_keras_object\n",
        "from tensorflow.python.ops import math_ops\n",
        "from tensorflow.python.ops import nn\n",
        "from numpy.core.fromnumeric import transpose\n",
        "import math"
      ]
    },
    {
      "cell_type": "markdown",
      "source": [
        "#Load data"
      ],
      "metadata": {
        "id": "ra0K4ju7uU-P"
      }
    },
    {
      "cell_type": "code",
      "source": [
        "(x_train, y_train), (x_test, y_test) = cifar10.load_data()\n",
        "\n",
        "train_lab_categorical = tf.keras.utils.to_categorical(y_train, num_classes=10, dtype='uint8')\n",
        "test_lab_categorical = tf.keras.utils.to_categorical(y_test, num_classes=10, dtype='uint8')\n",
        "\n",
        "from sklearn.model_selection import train_test_split\n",
        "\n",
        "train_im, valid_im, train_lab, valid_lab = train_test_split(x_train, train_lab_categorical, test_size=0.20,\n",
        "                                                            stratify=train_lab_categorical,\n",
        "                                                            random_state=40, shuffle = True)\n",
        "\n",
        "training_data = tf.data.Dataset.from_tensor_slices((train_im, train_lab))\n",
        "validation_data = tf.data.Dataset.from_tensor_slices((valid_im, valid_lab))\n",
        "#test_data = tf.data.Dataset.from_tensor_slices((x_test, test_lab_categorical))\n",
        "\n",
        "\n",
        "\n",
        "\n",
        "train_data = training_data.shuffle(buffer_size=50000).batch(64).prefetch(buffer_size=tf.data.experimental.AUTOTUNE)\n",
        "valid_data = validation_data.shuffle(buffer_size=10000).batch(64).prefetch(buffer_size=tf.data.experimental.AUTOTUNE)\n",
        "#test_data = test_data.shuffle(buffer_size=10000).batch(32).prefetch(buffer_size=tf.data.experimental.AUTOTUNE)"
      ],
      "metadata": {
        "id": "mqw46M--uUPE",
        "colab": {
          "base_uri": "https://localhost:8080/"
        },
        "outputId": "525f4f67-e4f5-40d1-dfee-28827e318ccc"
      },
      "execution_count": null,
      "outputs": [
        {
          "output_type": "stream",
          "name": "stdout",
          "text": [
            "Downloading data from https://www.cs.toronto.edu/~kriz/cifar-10-python.tar.gz\n",
            "170498071/170498071 [==============================] - 11s 0us/step\n"
          ]
        }
      ]
    },
    {
      "cell_type": "code",
      "source": [
        "rescale_layer_cnn = tf.keras.layers.Rescaling(1./127.5,offset=-1)\n",
        "rescale_layer_vit = tf.keras.layers.Rescaling(1./127.5,offset=-1)\n",
        "\n",
        "rescale_resize_vit = tf.keras.layers.experimental.preprocessing.Resizing(224,224, interpolation=\"lanczos5\")\n",
        "rescale_resize_cnn = tf.keras.layers.experimental.preprocessing.Resizing(224,224, interpolation=\"lanczos5\")\n",
        "\n",
        "data_augmentation_cnn = tf.keras.Sequential([\n",
        "  #layers.experimental.preprocessing.RandomFlip(\"horizontal\"),\n",
        "  #layers.experimental.preprocessing.RandomRotation(0.2),\n",
        "  #layers.experimental.preprocessing.RandomZoom(height_factor=(0.2, 0.3), width_factor=(0.2, 0.3)),\n",
        "  #layers.experimental.preprocessing.RandomTranslation(0.0, 0.0, fill_mode='reflect', interpolation='bilinear',)\n",
        "])\n",
        "\n",
        "data_augmentation_vit = tf.keras.Sequential([\n",
        "  #layers.experimental.preprocessing.RandomFlip(\"horizontal\"),\n",
        "  #layers.experimental.preprocessing.RandomRotation(0.2),\n",
        "  #layers.experimental.preprocessing.RandomZoom(height_factor=(0.2, 0.3), width_factor=(0.2, 0.3)),\n",
        "  #layers.experimental.preprocessing.RandomTranslation(0.0, 0.0, fill_mode='reflect', interpolation='bilinear',)\n",
        "])"
      ],
      "metadata": {
        "id": "b4szHazjHsm8"
      },
      "execution_count": null,
      "outputs": []
    },
    {
      "cell_type": "markdown",
      "source": [
        "## Labe Encoding"
      ],
      "metadata": {
        "id": "9p71BI9kITx2"
      }
    },
    {
      "cell_type": "code",
      "source": [
        "y_train = tf.cast(y_train,tf.int32)\n",
        "y_test = tf.cast(y_test,tf.int32)\n",
        "y_train = tf.one_hot(y_train,depth=10)\n",
        "y_test = tf.one_hot(y_test, depth=10)\n",
        "y_train = tf.cast(y_train,tf.float32)\n",
        "y_test = tf.cast(y_test,tf.float32)"
      ],
      "metadata": {
        "id": "FSzTfs7SKcPi"
      },
      "execution_count": null,
      "outputs": []
    },
    {
      "cell_type": "markdown",
      "source": [
        "## Lr warm up"
      ],
      "metadata": {
        "id": "9iJKlP4OUxTP"
      }
    },
    {
      "cell_type": "code",
      "execution_count": null,
      "metadata": {
        "id": "MmLvpwaCIkUr"
      },
      "outputs": [],
      "source": [
        "BATCH_SIZE = 64\n",
        "AUTO = tf.data.AUTOTUNE\n",
        "\n",
        "import random\n",
        "class WarmUpCosine(tf.keras.optimizers.schedules.LearningRateSchedule):\n",
        "    def __init__(\n",
        "        self, learning_rate_base, total_steps, warmup_learning_rate, warmup_steps\n",
        "    ):\n",
        "        super(WarmUpCosine, self).__init__()\n",
        "\n",
        "        self.learning_rate_base = learning_rate_base\n",
        "        self.total_steps = total_steps\n",
        "        self.warmup_learning_rate = warmup_learning_rate\n",
        "        self.warmup_steps = warmup_steps\n",
        "        self.pi = tf.constant(np.pi)\n",
        "\n",
        "    def __call__(self, step):\n",
        "        if self.total_steps < self.warmup_steps:\n",
        "            raise ValueError(\"Total_steps must be larger or equal to warmup_steps.\")\n",
        "        learning_rate = (\n",
        "            0.5\n",
        "            * self.learning_rate_base\n",
        "            * (\n",
        "                1\n",
        "                + tf.cos(\n",
        "                    self.pi\n",
        "                    * (tf.cast(step, tf.float32) - self.warmup_steps)\n",
        "                    / float(self.total_steps - self.warmup_steps)\n",
        "                )\n",
        "            )\n",
        "        )\n",
        "\n",
        "        if self.warmup_steps > 0:\n",
        "            if self.learning_rate_base < self.warmup_learning_rate:\n",
        "                raise ValueError(\n",
        "                    \"Learning_rate_base must be larger or equal to \"\n",
        "                    \"warmup_learning_rate.\"\n",
        "                )\n",
        "            slope = (\n",
        "                self.learning_rate_base - self.warmup_learning_rate\n",
        "            ) / self.warmup_steps\n",
        "            warmup_rate = slope * tf.cast(step, tf.float32) + self.warmup_learning_rate\n",
        "            learning_rate = tf.where(\n",
        "                step < self.warmup_steps, warmup_rate, learning_rate\n",
        "            )\n",
        "        return tf.where(\n",
        "            step > self.total_steps, 0.0, learning_rate, name=\"learning_rate\"\n",
        "        )\n",
        "    def get_config(self):\n",
        "        config = {\n",
        "                'learning_rate_base': self.learning_rate_base,\n",
        "                'total_steps': self.total_steps,\n",
        "                'warmup_learning_rate': self.warmup_learning_rate,\n",
        "                'warmup_steps': self.warmup_steps,\n",
        "\n",
        "                 }\n",
        "        return config"
      ]
    },
    {
      "cell_type": "code",
      "execution_count": null,
      "metadata": {
        "colab": {
          "base_uri": "https://localhost:8080/"
        },
        "id": "pet4gNehIuAV",
        "outputId": "9f64ce72-07ab-438d-cf2f-ad0c7e3b7fe0"
      },
      "outputs": [
        {
          "output_type": "stream",
          "name": "stdout",
          "text": [
            "39062\n"
          ]
        }
      ],
      "source": [
        "EPOCHS = 50\n",
        "TOTAL_STEPS = int((50000 / BATCH_SIZE) * EPOCHS)\n",
        "WARMUP_STEPS = 10\n",
        "INIT_LR = 0.03\n",
        "WAMRUP_LR = 0.006\n",
        "\n",
        "print(TOTAL_STEPS)"
      ]
    },
    {
      "cell_type": "code",
      "execution_count": null,
      "metadata": {
        "colab": {
          "base_uri": "https://localhost:8080/",
          "height": 454
        },
        "id": "IvPpu6HeI0Mp",
        "outputId": "4740062d-4c1c-4306-8dcb-d4fa65a0794e"
      },
      "outputs": [
        {
          "output_type": "display_data",
          "data": {
            "text/plain": [
              "<Figure size 640x480 with 1 Axes>"
            ],
            "image/png": "[encoded data removed]"
          },
          "metadata": {}
        }
      ],
      "source": [
        "scheduled_lrs = WarmUpCosine(\n",
        "    learning_rate_base=INIT_LR,\n",
        "    total_steps=TOTAL_STEPS,\n",
        "    warmup_learning_rate=WAMRUP_LR,\n",
        "    warmup_steps=WARMUP_STEPS,\n",
        ")\n",
        "\n",
        "lrs = [scheduled_lrs(step) for step in range(TOTAL_STEPS)]\n",
        "plt.plot(lrs)\n",
        "plt.xlabel(\"Step\", fontsize=14)\n",
        "plt.ylabel(\"LR\", fontsize=14)\n",
        "plt.show()"
      ]
    },
    {
      "cell_type": "markdown",
      "metadata": {
        "id": "wMKcSVz1tItl"
      },
      "source": [
        "# hyperparameter setting"
      ]
    },
    {
      "cell_type": "code",
      "execution_count": null,
      "metadata": {
        "id": "dBMBuc_D9yyt"
      },
      "outputs": [],
      "source": [
        "learning_rate = 0.001\n",
        "weight_decay = 0.0001\n",
        "num_classes=10\n",
        "batch_size = 64\n",
        "num_epochs = 100\n",
        "image_size = 224  # We'll resize input images to this size\n",
        "patch_size = 64 # Size of the patches to be extract from the input images\n",
        "num_patches = (image_size // patch_size) ** 2\n",
        "projection_dim = 64\n",
        "num_heads = 4\n",
        "transformer_units = [\n",
        "    projection_dim * 2,\n",
        "    projection_dim,\n",
        "]  # Size of the transformer layers\n",
        "transformer_layers =2\n",
        "mlp_head_units = [2048,1024]  # Size of the dense layers of the final classifier"
      ]
    },
    {
      "cell_type": "markdown",
      "metadata": {
        "id": "8pQrnYlUtIto"
      },
      "source": [
        "## data augmentation"
      ]
    },
    {
      "cell_type": "code",
      "execution_count": null,
      "metadata": {
        "id": "e4Ob6X6ptItp"
      },
      "outputs": [],
      "source": [
        "data_augmentation = tf.keras.Sequential(\n",
        "    [\n",
        "        #layers.Normalization(),\n",
        "        layers.Resizing(image_size, image_size),\n",
        "        #layers.RandomFlip(\"horizontal\"),\n",
        "        #layers.RandomRotation(factor=0.02),\n",
        "        #layers.RandomZoom(\n",
        "         #   height_factor=0.2, width_factor=0.2\n",
        "        #),\n",
        "    ],\n",
        "    name=\"data_augmentation\",\n",
        ")\n"
      ]
    },
    {
      "cell_type": "markdown",
      "metadata": {
        "id": "z9KveLojtItq"
      },
      "source": [
        "## Implement multilayer perceptron (MLP)"
      ]
    },
    {
      "cell_type": "code",
      "execution_count": null,
      "metadata": {
        "id": "ZVShQ_4XtItq"
      },
      "outputs": [],
      "source": [
        "def mlp(x, hidden_units, dropout_rate):\n",
        "    for units in hidden_units:\n",
        "        x = layers.Dense(units, activation=tf.nn.gelu)(x)\n",
        "        x = layers.Dropout(dropout_rate)(x)\n",
        "    return x\n"
      ]
    },
    {
      "cell_type": "markdown",
      "metadata": {
        "id": "FcOq3beitItv"
      },
      "source": [
        "## patch encoding layer\n"
      ]
    },
    {
      "cell_type": "code",
      "execution_count": null,
      "metadata": {
        "id": "CAFgXj74VOvl"
      },
      "outputs": [],
      "source": [
        "\n",
        "class Patches(layers.Layer):\n",
        "    def __init__(self, patch_size):\n",
        "        super(Patches, self).__init__()\n",
        "        self.patch_size = patch_size\n",
        "\n",
        "    def call(self, images):\n",
        "        batch_size = tf.shape(images)[0]\n",
        "\n",
        "        patches = tf.image.extract_patches(\n",
        "            images=images,\n",
        "            sizes=[1, self.patch_size, self.patch_size, 1],\n",
        "            strides=[1, self.patch_size, self.patch_size, 1],\n",
        "            rates=[1, 1, 1, 1],\n",
        "            padding=\"SAME\",\n",
        "        )\n",
        "        patch_dims = patches.shape[-1]\n",
        "        patches = tf.reshape(patches, [batch_size, -1, patch_dims])\n",
        "        return patches\n",
        "##############\n",
        "class PatchEncoder(layers.Layer):\n",
        "    def __init__(self, num_patches, projection_dim):\n",
        "        super(PatchEncoder, self).__init__()\n",
        "        self.num_patches = num_patches\n",
        "        self.projection = layers.Dense(units=projection_dim)\n",
        "        self.position_embedding = layers.Embedding(\n",
        "            input_dim=num_patches, output_dim=projection_dim\n",
        "        ) #produce a table to map inputs to embedding vectors\n",
        "\n",
        "    def call(self, patch):\n",
        "        positions = tf.range(start=0, limit=self.num_patches, delta=1)\n",
        "        encoded = self.projection(patch) + self.position_embedding(positions)\n",
        "        return encoded\n",
        "\n",
        "\n"
      ]
    },
    {
      "cell_type": "markdown",
      "metadata": {
        "id": "gaR5YSPftItw"
      },
      "source": [
        "# Bottlneck_Channelmix Functions\n"
      ]
    },
    {
      "cell_type": "code",
      "execution_count": null,
      "metadata": {
        "id": "G3cvCNX_PQwX"
      },
      "outputs": [],
      "source": [
        "def channel_mix(l,imgs):\n",
        "\n",
        "    channel_r=imgs[:,:,0:1]\n",
        "    channel_g=imgs[:,:,1:2]\n",
        "    channel_b=imgs[:,:,2:3]\n",
        "\n",
        "    channel1_r=l[:,:,0:21]\n",
        "    channel1_g=l[:,:,21:41]\n",
        "    channel1_b=l[:,:,43:63]\n",
        "\n",
        "    l1 = tf.concat([channel1_r, channel_r],axis=2)\n",
        "    l2 = tf.concat([channel1_g, channel_g],axis=2)\n",
        "    l3 = tf.concat([channel1_b, channel_b],axis=2)\n",
        "\n",
        "    l = tf.concat([l1,l2,l3],axis=2)\n",
        "\n",
        "    return l"
      ]
    },
    {
      "cell_type": "code",
      "execution_count": null,
      "metadata": {
        "id": "inb_AvviE3YS"
      },
      "outputs": [],
      "source": [
        "\n",
        "def bottleneck(input,layers):\n",
        "    for _ in range(layers):\n",
        "        print(\"INPUT SHAPE\",input.shape)\n",
        "        x=Conv1D(64, 5, padding = \"same\", kernel_initializer=\"he_normal\")(input)\n",
        "        x=Activation('elu')(x)\n",
        "        print(\"First CONV SHAPE \",x.shape)\n",
        "        x2= DepthwiseConv1D( 1, padding = 'same', kernel_initializer=\"he_normal\",depth_multiplier=2)(input)\n",
        "        print(\"input increased dimension Shape\",x2.shape)\n",
        "        x = Add()([input,x])\n",
        "        x=Conv1D(64, 1, padding = \"same\", groups=4 , kernel_initializer=\"he_normal\")(x)\n",
        "        x=Activation('elu')(x)\n",
        "        print(\"Decreased dimension shape\",x.shape)\n",
        "        x= channel_mix (x, input)\n",
        "        print(\"OUTPUT x SHAPE\",x.shape)\n",
        "        return x"
      ]
    },
    {
      "cell_type": "code",
      "execution_count": null,
      "metadata": {
        "id": "KEz4wIBMPNcP"
      },
      "outputs": [],
      "source": [
        "#@under_name_scope()\n",
        "def channel_shuffle(l, group):\n",
        "    in_shape = l.get_shape().as_list()\n",
        "    in_channel = in_shape[2]\n",
        "    assert in_channel % group == 0, in_channel\n",
        "    l = tf.reshape(l, [-1, in_channel // group, group] + in_shape[-1:])\n",
        "    l = tf.transpose(l, [0, 2, 1, 3])\n",
        "    l = tf.reshape(l, [-1, in_channel] + in_shape[-1:])\n",
        "    print('shuffle output',l.shape)\n",
        "    return l\n"
      ]
    },
    {
      "cell_type": "code",
      "execution_count": null,
      "metadata": {
        "id": "ZTSK0diR1VBv"
      },
      "outputs": [],
      "source": [
        "mobilenet_v2 = \"https://tfhub.dev/google/tf2-preview/mobilenet_v2/feature_vector/4\"\n",
        "inception_v3 = \"https://tfhub.dev/google/tf2-preview/inception_v3/feature_vector/4\"\n",
        "handle=\"https://tfhub.dev/sayakpaul/vit_s16_fe/1\"\n",
        "b1_vit=\"https://tfhub.dev/sayakpaul/vit_b8_classification/1\"\n",
        "mixer_1 = \"https://tfhub.dev/sayakpaul/mixer_b16_sam_classification/1\"\n",
        "feature_extractor_model = mixer_1\n",
        "mixer_2 = \"https://tfhub.dev/sayakpaul/mixer_b16_sam_fe/1\"\n",
        "feature_extractor_model2 = mixer_2\n",
        "\n"
      ]
    },
    {
      "cell_type": "markdown",
      "source": [
        "# Modified Vit"
      ],
      "metadata": {
        "id": "LIqpvjSCiHhn"
      }
    },
    {
      "cell_type": "code",
      "source": [
        "inputs_primary = layers.Input(shape=(32,32, 3))\n",
        "\n",
        "inputs_vit_rescaled=rescale_layer_vit (inputs_primary)\n",
        "inputs_vit_resized = rescale_resize_vit (inputs_vit_rescaled)\n",
        "print (inputs_vit_resized.shape)\n",
        "input_augmented_vit = data_augmentation_vit (inputs_vit_resized)\n",
        "\n",
        "#################################\n",
        "\n",
        "mixer_3 = \"https://tfhub.dev/sayakpaul/vit_b8_classification/1\"\n",
        "feature_extractor_model2 = mixer_3\n",
        "feature_extractor_layer = hub.KerasLayer(feature_extractor_model2,input_shape=(224,224 ,3),trainable=False)\n",
        "augmented1 = feature_extractor_layer(input_augmented_vit)\n",
        "print('feature_extractor output:',augmented1.shape)\n",
        "augmented12 = tf.expand_dims(augmented1, axis=1)\n",
        "print('12:',augmented12.shape)\n",
        "augmented13 = tf.expand_dims(augmented12, axis=2)\n",
        "print('13:',augmented13.shape)\n",
        "#######################################################\n",
        "# Create patches.\n",
        "patches = Patches(patch_size)(augmented13)\n",
        "# Encode patches.\n",
        "print(' patches:',patches.shape)\n",
        "encoded_patches = PatchEncoder(num_patches, projection_dim)(patches)\n",
        "print(' encoded_patches output :',encoded_patches.shape)\n",
        "\n",
        "for _ in range(transformer_layers):\n",
        "    attention_output = layers.MultiHeadAttention(\n",
        "        num_heads=num_heads, key_dim=projection_dim, dropout=0.0\n",
        "    )(encoded_patches, encoded_patches)\n",
        "\n",
        "    # Bottlneck for odd layers\n",
        "    if _  <= (1):\n",
        "       attention_output = bottleneck(attention_output,1)\n",
        "\n",
        "    # Skip connection 1.\n",
        "    x2 = layers.Add()([attention_output, encoded_patches])\n",
        "\n",
        "    # MLP.\n",
        "    x3 = mlp(x2, hidden_units=transformer_units, dropout_rate=0.0)\n",
        "\n",
        "    # Skip connection 2.\n",
        "    encoded_patches = layers.Add()([x3, x2])\n",
        "\n",
        "    ##################\n",
        "representation2 = layers.Flatten()(encoded_patches)\n",
        "representation = layers.Dropout(0.2)(representation2)\n",
        "# Add MLP.\n",
        "features = mlp(representation, hidden_units=mlp_head_units, dropout_rate=0.0)\n",
        "model_vit = Model(inputs=inputs_primary, outputs=features)"
      ],
      "metadata": {
        "colab": {
          "base_uri": "https://localhost:8080/"
        },
        "id": "fdDiVccYiQ67",
        "outputId": "e60e015c-cbdf-41b9-b2f8-1b13110bfe93"
      },
      "execution_count": null,
      "outputs": [
        {
          "output_type": "stream",
          "name": "stdout",
          "text": [
            "(None, 224, 224, 3)\n",
            "feature_extractor output: (None, 1000)\n",
            "12: (None, 1, 1000)\n",
            "13: (None, 1, 1, 1000)\n",
            " patches: (None, None, 4096000)\n",
            " encoded_patches output : (None, 9, 64)\n",
            "INPUT SHAPE (None, 9, 64)\n",
            "First CONV SHAPE  (None, 9, 64)\n",
            "input increased dimension Shape (None, 9, 128)\n",
            "Decreased dimension shape (None, 9, 64)\n",
            "OUTPUT x SHAPE (None, 9, 64)\n",
            "INPUT SHAPE (None, 9, 64)\n",
            "First CONV SHAPE  (None, 9, 64)\n",
            "input increased dimension Shape (None, 9, 128)\n",
            "Decreased dimension shape (None, 9, 64)\n",
            "OUTPUT x SHAPE (None, 9, 64)\n"
          ]
        }
      ]
    },
    {
      "cell_type": "markdown",
      "source": [
        "# Attention Module 1"
      ],
      "metadata": {
        "id": "B79pvsRbirs0"
      }
    },
    {
      "cell_type": "code",
      "source": [
        "# MODEL 0\n",
        "inputs_primary = layers.Input(shape=(32,32, 3))\n",
        "##########\n",
        "inputs_cnn_rescaled=rescale_layer_cnn (inputs_primary)\n",
        "inputs_cnn_resized = rescale_resize_cnn (inputs_cnn_rescaled)\n",
        "print (inputs_cnn_resized.shape)\n",
        "input_augmented_cnn = data_augmentation_cnn (inputs_cnn_resized)\n",
        "###################################################################\n",
        "mixer_32 = \"https://tfhub.dev/sayakpaul/vit_b8_classification/1\"\n",
        "feature_extractor_model3 = mixer_32\n",
        "feature_extractor_layer2 = hub.KerasLayer(feature_extractor_model3,input_shape=(224,224 ,3),trainable=False)\n",
        "augmented123 = feature_extractor_layer2(input_augmented_cnn)\n",
        "print('feature_extractor out:',augmented123.shape)\n",
        "#############\n",
        "augmented123=tf.expand_dims(augmented123,axis=2)\n",
        "ave1 = AveragePooling1D(pool_size=(2), padding='valid', strides=2, name='Avg_pool_1')(augmented123)\n",
        "print('pool first',ave1.shape)\n",
        "ave2 = AveragePooling1D(pool_size=(3), padding='valid', strides=3, name='Avg_pool_2')(augmented123)\n",
        "print('pool second',ave2.shape)\n",
        "ave3 = AveragePooling1D(pool_size=(5), padding='valid', strides=5, name='Avg_pool_3')(augmented123)\n",
        "print('pool third',ave3.shape)\n",
        "ave_concate = Concatenate(axis=1) ([ave1,ave2,ave3])\n",
        "print('ave_pool concate',ave_concate.shape)\n",
        "max1 = AveragePooling1D(pool_size=(2), padding='valid', strides=2, name='max_pool_1')(augmented123)\n",
        "print('max first',max1.shape)\n",
        "max2 = AveragePooling1D(pool_size=(3), padding='valid', strides=3, name='max_pool_2')(augmented123)\n",
        "print('max second',max2.shape)\n",
        "max3 = AveragePooling1D(pool_size=(5), padding='valid', strides=5, name='max_pool_3')(augmented123)\n",
        "print('max third',max3.shape)\n",
        "max_concate = Concatenate(axis=1) ([max1,max2,max3])\n",
        "print('max_pool concate',ave_concate.shape)\n",
        "pool_con= Concatenate(axis=1) ([max_concate,ave_concate])\n",
        "print('pool concate',pool_con.shape)\n",
        "pool_flattend = Flatten()(pool_con)\n",
        "print('pool flattend',pool_flattend.shape)\n",
        "#####################################################################\n",
        "s0, s1 = tf.split(pool_flattend, num_or_size_splits=2, axis=1)\n",
        "print('split shape:',s0.shape)\n",
        "a1=  tf.stack([s0, s1], axis=1)\n",
        "print('concate shape:',a1.shape)\n",
        "####################################\n",
        "input_dec=Conv1D(500, (1), padding = \"same\", kernel_initializer=\"he_normal\",name='decrease_dimension_1')(a1)\n",
        "x1_branch=Conv1D(500, (3), padding = \"same\", kernel_initializer=\"he_normal\",name='conv2D_1_module_1')(a1)\n",
        "x1_branch=BatchNormalization()(x1_branch)\n",
        "x1_branch_out = Activation(\"softmax\", dtype=tf.float32, name=\"softmax_module_1\")(x1_branch)\n",
        "x1_out = tf.math.multiply(input_dec, x1_branch_out)\n",
        "####################################\n",
        "x2_branch=Conv1D(250, (1), padding = \"same\", kernel_initializer=\"he_normal\",name='conv2D_2_module_1')(x1_out)\n",
        "print(x2_branch.shape)\n",
        "x2_branch=BatchNormalization()(x2_branch)\n",
        "x2_branch=Activation('elu')(x2_branch)\n",
        "x2_branch=DepthwiseConv1D(250, (1),padding='same', depth_multiplier=2, kernel_initializer=\"he_normal\",name='conv2D_3_module_1')(x2_branch)\n",
        "print(x2_branch.shape)\n",
        "##########################\n",
        "x2_out = x2_branch\n",
        "z= tf.math.multiply(input_dec, x2_out)\n",
        "model_1 = Model(inputs_primary, outputs=z)"
      ],
      "metadata": {
        "colab": {
          "base_uri": "https://localhost:8080/"
        },
        "id": "33LwsmImiuHZ",
        "outputId": "35ce54f3-b6a3-4beb-d909-74e29c4954d5"
      },
      "execution_count": null,
      "outputs": [
        {
          "output_type": "stream",
          "name": "stdout",
          "text": [
            "(None, 224, 224, 3)\n",
            "feature_extractor out: (None, 1000)\n",
            "pool first (None, 500, 1)\n",
            "pool second (None, 333, 1)\n",
            "pool third (None, 200, 1)\n",
            "ave_pool concate (None, 1033, 1)\n",
            "max first (None, 500, 1)\n",
            "max second (None, 333, 1)\n",
            "max third (None, 200, 1)\n",
            "max_pool concate (None, 1033, 1)\n",
            "pool concate (None, 2066, 1)\n",
            "pool flattend (None, 2066)\n",
            "split shape: (None, 1033)\n",
            "concate shape: (None, 2, 1033)\n",
            "(None, 2, 250)\n",
            "(None, 2, 500)\n"
          ]
        }
      ]
    },
    {
      "cell_type": "markdown",
      "source": [
        "# Attention Module 2"
      ],
      "metadata": {
        "id": "c5S6rz0Aogt1"
      }
    },
    {
      "cell_type": "code",
      "source": [
        "inputs_primary = layers.Input(shape=(32,32, 3))\n",
        "##########\n",
        "inputs_cnn_rescaled=rescale_layer_cnn (inputs_primary)\n",
        "inputs_cnn_resized = rescale_resize_cnn (inputs_cnn_rescaled)\n",
        "print (inputs_cnn_resized.shape)\n",
        "mixer_35 = \"https://tfhub.dev/sayakpaul/vit_b8_classification/1\"\n",
        "feature_extractor_model5 = mixer_35\n",
        "feature_extractor_layer4 = hub.KerasLayer(feature_extractor_model5,input_shape=(224,224 ,3),trainable=False)\n",
        "x_resi2 = feature_extractor_layer4(inputs_cnn_resized)\n",
        "x_resi2=tf.dtypes.cast(x_resi2,tf.float32)\n",
        "model_helper_1 = Model(inputs=inputs_primary, outputs=x_resi2)"
      ],
      "metadata": {
        "colab": {
          "base_uri": "https://localhost:8080/"
        },
        "id": "ZvJNdNTvojZk",
        "outputId": "9a9690bf-f315-4111-f22d-c3e8f7eeb5dd"
      },
      "execution_count": null,
      "outputs": [
        {
          "output_type": "stream",
          "name": "stdout",
          "text": [
            "(None, 224, 224, 3)\n"
          ]
        }
      ]
    },
    {
      "cell_type": "markdown",
      "source": [
        "# Attention Module 3"
      ],
      "metadata": {
        "id": "DJy1pvBqovBA"
      }
    },
    {
      "cell_type": "code",
      "source": [
        "inputs_primary = layers.Input(shape=(32,32, 3))\n",
        "\n",
        "inputs_vit_rescaled=rescale_layer_vit (inputs_primary)\n",
        "inputs_vit_resized = rescale_resize_vit (inputs_vit_rescaled)\n",
        "print (inputs_vit_resized.shape)\n",
        "mixer_34 = \"https://tfhub.dev/sayakpaul/vit_b8_classification/1\"\n",
        "feature_extractor_model4 = mixer_34\n",
        "feature_extractor_layer3 = hub.KerasLayer(feature_extractor_model4,input_shape=(224,224 ,3),trainable=False)\n",
        "x_resi2 = feature_extractor_layer3(inputs_vit_resized)\n",
        "x_resi2=tf.dtypes.cast(x_resi2,tf.float32)\n",
        "model_helper_2 = Model(inputs=inputs_primary, outputs=x_resi2)"
      ],
      "metadata": {
        "colab": {
          "base_uri": "https://localhost:8080/"
        },
        "id": "UX5CEASio0dp",
        "outputId": "5a4473bf-c9ad-47de-81a7-a21cbdc304f1"
      },
      "execution_count": null,
      "outputs": [
        {
          "output_type": "stream",
          "name": "stdout",
          "text": [
            "(None, 224, 224, 3)\n"
          ]
        }
      ]
    },
    {
      "cell_type": "markdown",
      "source": [
        "# Main Model"
      ],
      "metadata": {
        "id": "p-JmQby_jm2a"
      }
    },
    {
      "cell_type": "code",
      "source": [
        "models = [model_1,model_vit,model_helper_1,model_helper_2]\n",
        "\n",
        "inputs_primary = layers.Input(shape=(32,32, 3))\n",
        "model_1 = [model(inputs_primary) for model in models[0:1]]\n",
        "model_vit = [model(inputs_primary) for model in models[1:2]]\n",
        "model_helper_1 = [model(inputs_primary) for model in models[2:3]]\n",
        "model_helper_2 = [model(inputs_primary) for model in models[3:4]]\n",
        "\n",
        "x3c = tf.squeeze(model_helper_1, axis=[0])\n",
        "x3c=tf.dtypes.cast(x3c,tf.float32)\n",
        "x3c = Flatten()(x3c)\n",
        "model_helper_1_out=tf.dtypes.cast(x3c,tf.float32)\n",
        "x3 = tf.squeeze(model_1, axis=[0])\n",
        "x3=tf.dtypes.cast(x3,tf.float32)\n",
        "x3 = Flatten()(x3)\n",
        "model_cnn_out=tf.dtypes.cast(x3,tf.float32)\n",
        "model_cnn_out_concatenate = Concatenate(axis=-1) ([model_cnn_out,model_helper_1_out])\n",
        "x2qx = Dense(64, activation='elu',name='dense2w')(model_cnn_out_concatenate)\n",
        "x3qx =BatchNormalization()(x2qx)\n",
        "x4qx = Dropout(0.2)(x3qx)\n",
        "x_1qx = Dense(32, activation='elu',name='dense1w')(x4qx)\n",
        "x_qx =BatchNormalization()(x_1qx)\n",
        "xq = Dropout(0.2)(x_qx)\n",
        "x_out = Dense(num_classes, dtype=tf.float32)(xq)\n",
        "x72wx = Activation(\"softmax\",name='model0')(x_out)\n",
        "##################################################################\n",
        "x3a = tf.squeeze(model_1, axis=[0])\n",
        "x3a=tf.dtypes.cast(x3a,tf.float32)\n",
        "x3a = Flatten()(x3a)\n",
        "model_cnn_outa=tf.dtypes.cast(x3a,tf.float32)\n",
        "model_cnn_out_concatenatea = Concatenate(axis=-1) ([model_cnn_out,model_helper_1_out])\n",
        "model_cnn_out_concatenatea = Flatten() (model_cnn_out_concatenatea)\n",
        "x2qxa = Dense(128, activation='elu',name='dense2w')(model_cnn_out_concatenatea)\n",
        "x3qxa =BatchNormalization()(x2qx)\n",
        "x4qxa = Dropout(0.2)(x3qx)\n",
        "x7_1qxa = Dense(64, activation='elu',name='dense1w')(x4qxa)\n",
        "x7_2qxa =BatchNormalization()(x7_1qxa)\n",
        "x7qxa = Dropout(0.2)(x7_2qxa)\n",
        "x71wxa = Dense(num_classes, dtype=tf.float32)(x7qxa)\n",
        "x72wxa = Activation(\"softmax\",name='model2')(x71wxa)\n",
        "######Model helper 2\n",
        "x3v = tf.squeeze(model_helper_2, axis=[0])\n",
        "x3v=tf.dtypes.cast(x3v,tf.float32)\n",
        "x3v = Flatten()(x3v)\n",
        "model_helper_2_out=tf.dtypes.cast(x3v,tf.float32)\n",
        "#################################\n",
        "x3v = tf.squeeze(model_vit, axis=[0])\n",
        "x3v=tf.dtypes.cast(x3v,tf.float32)\n",
        "x3v = Flatten()(x3v)\n",
        "model_vit_out=tf.dtypes.cast(x3,tf.float32)\n",
        "model_vit_out_concatenate = Concatenate(axis=-1) ([model_vit_out,model_helper_2_out])\n",
        "model_vit_out_concatenate = Flatten()(model_vit_out_concatenate)\n",
        "x2 = Dense(64, activation='elu',name='dense_vit11')(model_vit_out_concatenate)\n",
        "x3 =BatchNormalization()(x2)\n",
        "x4v = Dropout(0.2)(x3)\n",
        "x2v = Dense(32, activation='elu',name='dense_vit12')(x4v)\n",
        "x3v =BatchNormalization()(x2v)\n",
        "x4v = Dropout(0.2)(x3v)\n",
        "x_v81 = layers.Dense(num_classes)(x4v)\n",
        "x_v8 = Activation(\"softmax\",name='vit')(x_v81)\n",
        "#########################################\n",
        "avr= tf.keras.layers.Average(name='average')([x_v8,x72wx])\n",
        "model_final = Model(inputs=inputs_primary, outputs=[x_v8,x72wx,avr])"
      ],
      "metadata": {
        "id": "Ai9gyek1jpWU"
      },
      "execution_count": null,
      "outputs": []
    },
    {
      "cell_type": "markdown",
      "metadata": {
        "id": "nyNvEJ_dL0v2"
      },
      "source": [
        "# Callback function"
      ]
    },
    {
      "cell_type": "code",
      "execution_count": null,
      "metadata": {
        "colab": {
          "base_uri": "https://localhost:8080/"
        },
        "id": "hZukQsdxEXlb",
        "outputId": "3441116b-e47b-4ce8-e8fe-faec8fdb0dcb"
      },
      "outputs": [
        {
          "output_type": "stream",
          "name": "stdout",
          "text": [
            "Saving TensorBoard log files to: tensorflow_hub/ENSEMBLE Vit_Cnn_CIFAR10_Exp Apr20/20231209-000433\n"
          ]
        }
      ],
      "source": [
        "# Create tensorboard callback\n",
        "import datetime\n",
        "def create_tensorboard_callback(dir_name, experiment_name):\n",
        "  log_dir = dir_name + \"/\" + experiment_name + \"/\" + datetime.datetime.now().strftime(\"%Y%m%d-%H%M%S\")\n",
        "  tensorboard_callback = tf.keras.callbacks.TensorBoard(\n",
        "      log_dir=log_dir\n",
        "  )\n",
        "  print(f\"Saving TensorBoard log files to: {log_dir}\")\n",
        "  return tensorboard_callback\n",
        "#############################\n",
        "# Setup EarlyStopping callback to stop training if model's val_loss doesn't improve for 3 epochs\n",
        "early_stopping = tf.keras.callbacks.EarlyStopping(monitor=\"val_loss\",\n",
        "                                                  patience=3)\n",
        "# Creating learning rate reduction callback\n",
        "reduce_lr = tf.keras.callbacks.ReduceLROnPlateau(monitor=\"val_loss\",\n",
        "                                                 factor=0.2, # multiply the learning rate by 0.2 (reduce by 5x)\n",
        "                                                 patience=2,\n",
        "                                                 verbose=1, #\n",
        "                                                 min_lr=1e-7)\n",
        "\n",
        "def decay(epochs, steps=100):\n",
        "    initial_lrate = 0.0001\n",
        "    drop = 0.96\n",
        "    epochs_drop = 8\n",
        "    lrate = initial_lrate * math.pow(drop, math.floor((1+(2*epochs)/epochs_drop)))\n",
        "    return lrate\n",
        "################################\n",
        "save_dir = os.path.join(os.getcwd(), \"/save_model\")\n",
        "filepath = \"vit_cnn_20apr.{epoch:02d}-{val_model0_accuracy:.4f}.tf\"\n",
        "\n",
        "checkpoint = tf.keras.callbacks.ModelCheckpoint(os.path.join(save_dir, filepath),\n",
        "                             monitor=\"val_model0_accuracy\",\n",
        "                             save_best_only=True,\n",
        "                             mode=\"max\",\n",
        "                             verbose=0)\n",
        "##############################\n",
        "lr_sc = LearningRateScheduler(decay,verbose=1)\n",
        "mycallback = [early_stopping,lr_sc,reduce_lr,\n",
        "              create_tensorboard_callback(dir_name=\"tensorflow_hub\",\n",
        "              experiment_name=\"ENSEMBLE Vit_Cnn_CIFAR10_Exp Apr20\")]"
      ]
    },
    {
      "cell_type": "markdown",
      "source": [
        "# TRAIN"
      ],
      "metadata": {
        "id": "_gTra8G3u9JE"
      }
    },
    {
      "cell_type": "markdown",
      "source": [
        "\n",
        "## Donload weights from  [link text](https://drive.google.com/drive/folders/15sN8wzAYOH6XFQiAGzA2Zg13Ykb4QZad?usp=sharing)"
      ],
      "metadata": {
        "id": "0vO8nyEW7KFB"
      }
    },
    {
      "cell_type": "code",
      "source": [
        "model_final.load_weights(\"/content/drive/MyDrive/CIFAR10/save_models/cifar10_hybrid_vit&cnn_model_weights_98.55%.tf\")"
      ],
      "metadata": {
        "id": "JUk4DxWV6E4b"
      },
      "execution_count": null,
      "outputs": []
    },
    {
      "cell_type": "markdown",
      "source": [
        "## Compile & Train"
      ],
      "metadata": {
        "id": "yz8o51lx7ViI"
      }
    },
    {
      "cell_type": "code",
      "execution_count": null,
      "metadata": {
        "colab": {
          "base_uri": "https://localhost:8080/"
        },
        "id": "kxbbZVFPgxH4",
        "outputId": "cf8f2c1d-eee4-4ca5-bbc0-b19719913d7f"
      },
      "outputs": [
        {
          "output_type": "stream",
          "name": "stdout",
          "text": [
            "\n",
            "Epoch 1: LearningRateScheduler setting learning rate to 9.6e-05.\n",
            "Epoch 1/50\n",
            "625/625 [==============================] - 797s 1s/step - loss: 0.1241 - vit_loss: 0.0460 - model0_loss: 0.0447 - average_loss: 0.0395 - vit_accuracy: 0.9870 - model0_accuracy: 0.9888 - average_accuracy: 0.9893 - val_loss: 0.1626 - val_vit_loss: 0.0532 - val_model0_loss: 0.0581 - val_average_loss: 0.0528 - val_vit_accuracy: 0.9838 - val_model0_accuracy: 0.9836 - val_average_accuracy: 0.9834 - lr: 9.6000e-05\n",
            "\n",
            "Epoch 2: LearningRateScheduler setting learning rate to 9.6e-05.\n",
            "Epoch 2/50\n",
            "625/625 [==============================] - 785s 1s/step - loss: 0.1146 - vit_loss: 0.0422 - model0_loss: 0.0414 - average_loss: 0.0365 - vit_accuracy: 0.9883 - model0_accuracy: 0.9888 - average_accuracy: 0.9904 - val_loss: 0.1647 - val_vit_loss: 0.0543 - val_model0_loss: 0.0580 - val_average_loss: 0.0538 - val_vit_accuracy: 0.9838 - val_model0_accuracy: 0.9832 - val_average_accuracy: 0.9839 - lr: 9.6000e-05\n",
            "\n",
            "Epoch 3: LearningRateScheduler setting learning rate to 9.6e-05.\n",
            "Epoch 3/50\n",
            "625/625 [==============================] - ETA: 0s - loss: 0.1134 - vit_loss: 0.0423 - model0_loss: 0.0404 - average_loss: 0.0363 - vit_accuracy: 0.9882 - model0_accuracy: 0.9894 - average_accuracy: 0.9901\n",
            "Epoch 3: ReduceLROnPlateau reducing learning rate to 4.8000001697801054e-05.\n",
            "625/625 [==============================] - 785s 1s/step - loss: 0.1134 - vit_loss: 0.0423 - model0_loss: 0.0404 - average_loss: 0.0363 - vit_accuracy: 0.9882 - model0_accuracy: 0.9894 - average_accuracy: 0.9901 - val_loss: 0.1625 - val_vit_loss: 0.0532 - val_model0_loss: 0.0575 - val_average_loss: 0.0530 - val_vit_accuracy: 0.9843 - val_model0_accuracy: 0.9833 - val_average_accuracy: 0.9843 - lr: 9.6000e-05\n",
            "\n",
            "Epoch 4: LearningRateScheduler setting learning rate to 9.6e-05.\n",
            "Epoch 4/50\n",
            "625/625 [==============================] - 785s 1s/step - loss: 0.1098 - vit_loss: 0.0414 - model0_loss: 0.0387 - average_loss: 0.0352 - vit_accuracy: 0.9877 - model0_accuracy: 0.9897 - average_accuracy: 0.9906 - val_loss: 0.1626 - val_vit_loss: 0.0535 - val_model0_loss: 0.0575 - val_average_loss: 0.0531 - val_vit_accuracy: 0.9844 - val_model0_accuracy: 0.9841 - val_average_accuracy: 0.9840 - lr: 9.6000e-05\n",
            "\n",
            "Epoch 5: LearningRateScheduler setting learning rate to 9.216e-05.\n",
            "Epoch 5/50\n",
            "625/625 [==============================] - ETA: 0s - loss: 0.1086 - vit_loss: 0.0405 - model0_loss: 0.0383 - average_loss: 0.0349 - vit_accuracy: 0.9887 - model0_accuracy: 0.9900 - average_accuracy: 0.9907\n",
            "Epoch 5: ReduceLROnPlateau reducing learning rate to 4.608000017469749e-05.\n",
            "625/625 [==============================] - 785s 1s/step - loss: 0.1086 - vit_loss: 0.0405 - model0_loss: 0.0383 - average_loss: 0.0349 - vit_accuracy: 0.9887 - model0_accuracy: 0.9900 - average_accuracy: 0.9907 - val_loss: 0.1628 - val_vit_loss: 0.0536 - val_model0_loss: 0.0574 - val_average_loss: 0.0532 - val_vit_accuracy: 0.9841 - val_model0_accuracy: 0.9842 - val_average_accuracy: 0.9842 - lr: 9.2160e-05\n",
            "\n",
            "Epoch 6: LearningRateScheduler setting learning rate to 9.216e-05.\n",
            "Epoch 6/50\n",
            "625/625 [==============================] - 784s 1s/step - loss: 0.1033 - vit_loss: 0.0388 - model0_loss: 0.0362 - average_loss: 0.0332 - vit_accuracy: 0.9890 - model0_accuracy: 0.9899 - average_accuracy: 0.9910 - val_loss: 0.1669 - val_vit_loss: 0.0549 - val_model0_loss: 0.0586 - val_average_loss: 0.0546 - val_vit_accuracy: 0.9838 - val_model0_accuracy: 0.9838 - val_average_accuracy: 0.9835 - lr: 9.2160e-05\n",
            "\n",
            "Epoch 7: LearningRateScheduler setting learning rate to 9.216e-05.\n",
            "Epoch 7/50\n",
            "625/625 [==============================] - ETA: 0s - loss: 0.1036 - vit_loss: 0.0402 - model0_loss: 0.0361 - average_loss: 0.0333 - vit_accuracy: 0.9890 - model0_accuracy: 0.9905 - average_accuracy: 0.9909\n",
            "Epoch 7: ReduceLROnPlateau reducing learning rate to 4.608000017469749e-05.\n",
            "625/625 [==============================] - 785s 1s/step - loss: 0.1036 - vit_loss: 0.0402 - model0_loss: 0.0361 - average_loss: 0.0333 - vit_accuracy: 0.9890 - model0_accuracy: 0.9905 - average_accuracy: 0.9909 - val_loss: 0.1630 - val_vit_loss: 0.0534 - val_model0_loss: 0.0575 - val_average_loss: 0.0533 - val_vit_accuracy: 0.9834 - val_model0_accuracy: 0.9844 - val_average_accuracy: 0.9844 - lr: 9.2160e-05\n",
            "\n",
            "Epoch 8: LearningRateScheduler setting learning rate to 9.216e-05.\n",
            "Epoch 8/50\n",
            "625/625 [==============================] - 785s 1s/step - loss: 0.0994 - vit_loss: 0.0368 - model0_loss: 0.0353 - average_loss: 0.0319 - vit_accuracy: 0.9898 - model0_accuracy: 0.9903 - average_accuracy: 0.9916 - val_loss: 0.1633 - val_vit_loss: 0.0538 - val_model0_loss: 0.0573 - val_average_loss: 0.0534 - val_vit_accuracy: 0.9834 - val_model0_accuracy: 0.9835 - val_average_accuracy: 0.9841 - lr: 9.2160e-05\n",
            "\n",
            "Epoch 9: LearningRateScheduler setting learning rate to 8.847359999999999e-05.\n",
            "Epoch 9/50\n",
            "625/625 [==============================] - ETA: 0s - loss: 0.0981 - vit_loss: 0.0370 - model0_loss: 0.0342 - average_loss: 0.0316 - vit_accuracy: 0.9897 - model0_accuracy: 0.9905 - average_accuracy: 0.9915\n",
            "Epoch 9: ReduceLROnPlateau reducing learning rate to 4.423680002219044e-05.\n",
            "625/625 [==============================] - 785s 1s/step - loss: 0.0981 - vit_loss: 0.0370 - model0_loss: 0.0342 - average_loss: 0.0316 - vit_accuracy: 0.9897 - model0_accuracy: 0.9905 - average_accuracy: 0.9915 - val_loss: 0.1661 - val_vit_loss: 0.0543 - val_model0_loss: 0.0588 - val_average_loss: 0.0542 - val_vit_accuracy: 0.9836 - val_model0_accuracy: 0.9840 - val_average_accuracy: 0.9839 - lr: 8.8474e-05\n",
            "\n",
            "Epoch 10: LearningRateScheduler setting learning rate to 8.847359999999999e-05.\n",
            "Epoch 10/50\n",
            "625/625 [==============================] - 785s 1s/step - loss: 0.0973 - vit_loss: 0.0366 - model0_loss: 0.0344 - average_loss: 0.0312 - vit_accuracy: 0.9900 - model0_accuracy: 0.9909 - average_accuracy: 0.9916 - val_loss: 0.1650 - val_vit_loss: 0.0546 - val_model0_loss: 0.0578 - val_average_loss: 0.0540 - val_vit_accuracy: 0.9841 - val_model0_accuracy: 0.9840 - val_average_accuracy: 0.9844 - lr: 8.8474e-05\n",
            "\n",
            "Epoch 11: LearningRateScheduler setting learning rate to 8.847359999999999e-05.\n",
            "Epoch 11/50\n",
            "625/625 [==============================] - ETA: 0s - loss: 0.0964 - vit_loss: 0.0361 - model0_loss: 0.0344 - average_loss: 0.0308 - vit_accuracy: 0.9894 - model0_accuracy: 0.9908 - average_accuracy: 0.9918\n",
            "Epoch 11: ReduceLROnPlateau reducing learning rate to 4.423680002219044e-05.\n",
            "625/625 [==============================] - 785s 1s/step - loss: 0.0964 - vit_loss: 0.0361 - model0_loss: 0.0344 - average_loss: 0.0308 - vit_accuracy: 0.9894 - model0_accuracy: 0.9908 - average_accuracy: 0.9918 - val_loss: 0.1638 - val_vit_loss: 0.0540 - val_model0_loss: 0.0575 - val_average_loss: 0.0536 - val_vit_accuracy: 0.9840 - val_model0_accuracy: 0.9845 - val_average_accuracy: 0.9849 - lr: 8.8474e-05\n",
            "\n",
            "Epoch 12: LearningRateScheduler setting learning rate to 8.847359999999999e-05.\n",
            "Epoch 12/50\n",
            "625/625 [==============================] - 785s 1s/step - loss: 0.0900 - vit_loss: 0.0337 - model0_loss: 0.0318 - average_loss: 0.0289 - vit_accuracy: 0.9904 - model0_accuracy: 0.9917 - average_accuracy: 0.9924 - val_loss: 0.1655 - val_vit_loss: 0.0549 - val_model0_loss: 0.0578 - val_average_loss: 0.0542 - val_vit_accuracy: 0.9841 - val_model0_accuracy: 0.9841 - val_average_accuracy: 0.9850 - lr: 8.8474e-05\n",
            "\n",
            "Epoch 13: LearningRateScheduler setting learning rate to 8.493465599999999e-05.\n",
            "Epoch 13/50\n",
            "625/625 [==============================] - ETA: 0s - loss: 0.0915 - vit_loss: 0.0347 - model0_loss: 0.0320 - average_loss: 0.0294 - vit_accuracy: 0.9898 - model0_accuracy: 0.9909 - average_accuracy: 0.9920\n",
            "Epoch 13: ReduceLROnPlateau reducing learning rate to 4.2467327148187906e-05.\n",
            "625/625 [==============================] - 785s 1s/step - loss: 0.0915 - vit_loss: 0.0347 - model0_loss: 0.0320 - average_loss: 0.0294 - vit_accuracy: 0.9898 - model0_accuracy: 0.9909 - average_accuracy: 0.9920 - val_loss: 0.1653 - val_vit_loss: 0.0545 - val_model0_loss: 0.0580 - val_average_loss: 0.0541 - val_vit_accuracy: 0.9835 - val_model0_accuracy: 0.9840 - val_average_accuracy: 0.9843 - lr: 8.4935e-05\n",
            "\n",
            "Epoch 14: LearningRateScheduler setting learning rate to 8.493465599999999e-05.\n",
            "Epoch 14/50\n",
            "625/625 [==============================] - 785s 1s/step - loss: 0.0887 - vit_loss: 0.0334 - model0_loss: 0.0314 - average_loss: 0.0284 - vit_accuracy: 0.9909 - model0_accuracy: 0.9910 - average_accuracy: 0.9921 - val_loss: 0.1637 - val_vit_loss: 0.0539 - val_model0_loss: 0.0577 - val_average_loss: 0.0535 - val_vit_accuracy: 0.9846 - val_model0_accuracy: 0.9841 - val_average_accuracy: 0.9853 - lr: 8.4935e-05\n",
            "\n",
            "Epoch 15: LearningRateScheduler setting learning rate to 8.493465599999999e-05.\n",
            "Epoch 15/50\n",
            "625/625 [==============================] - ETA: 0s - loss: 0.0866 - vit_loss: 0.0325 - model0_loss: 0.0307 - average_loss: 0.0277 - vit_accuracy: 0.9909 - model0_accuracy: 0.9913 - average_accuracy: 0.9926\n",
            "Epoch 15: ReduceLROnPlateau reducing learning rate to 4.2467327148187906e-05.\n",
            "625/625 [==============================] - 785s 1s/step - loss: 0.0866 - vit_loss: 0.0325 - model0_loss: 0.0307 - average_loss: 0.0277 - vit_accuracy: 0.9909 - model0_accuracy: 0.9913 - average_accuracy: 0.9926 - val_loss: 0.1670 - val_vit_loss: 0.0554 - val_model0_loss: 0.0586 - val_average_loss: 0.0546 - val_vit_accuracy: 0.9837 - val_model0_accuracy: 0.9847 - val_average_accuracy: 0.9844 - lr: 8.4935e-05\n",
            "\n",
            "Epoch 16: LearningRateScheduler setting learning rate to 8.493465599999999e-05.\n",
            "Epoch 16/50\n",
            "625/625 [==============================] - 785s 1s/step - loss: 0.0856 - vit_loss: 0.0322 - model0_loss: 0.0306 - average_loss: 0.0273 - vit_accuracy: 0.9905 - model0_accuracy: 0.9916 - average_accuracy: 0.9924 - val_loss: 0.1653 - val_vit_loss: 0.0545 - val_model0_loss: 0.0582 - val_average_loss: 0.0540 - val_vit_accuracy: 0.9841 - val_model0_accuracy: 0.9846 - val_average_accuracy: 0.9844 - lr: 8.4935e-05\n",
            "\n",
            "Epoch 17: LearningRateScheduler setting learning rate to 8.153726975999998e-05.\n",
            "Epoch 17/50\n",
            "625/625 [==============================] - ETA: 0s - loss: 0.0828 - vit_loss: 0.0312 - model0_loss: 0.0292 - average_loss: 0.0265 - vit_accuracy: 0.9911 - model0_accuracy: 0.9916 - average_accuracy: 0.9930\n",
            "Epoch 17: ReduceLROnPlateau reducing learning rate to 4.076863478985615e-05.\n",
            "625/625 [==============================] - 785s 1s/step - loss: 0.0828 - vit_loss: 0.0312 - model0_loss: 0.0292 - average_loss: 0.0265 - vit_accuracy: 0.9911 - model0_accuracy: 0.9916 - average_accuracy: 0.9930 - val_loss: 0.1658 - val_vit_loss: 0.0546 - val_model0_loss: 0.0583 - val_average_loss: 0.0542 - val_vit_accuracy: 0.9842 - val_model0_accuracy: 0.9844 - val_average_accuracy: 0.9845 - lr: 8.1537e-05\n",
            "\n",
            "Epoch 18: LearningRateScheduler setting learning rate to 8.153726975999998e-05.\n",
            "Epoch 18/50\n",
            "625/625 [==============================] - 785s 1s/step - loss: 0.0787 - vit_loss: 0.0297 - model0_loss: 0.0276 - average_loss: 0.0253 - vit_accuracy: 0.9913 - model0_accuracy: 0.9925 - average_accuracy: 0.9935 - val_loss: 0.1673 - val_vit_loss: 0.0550 - val_model0_loss: 0.0589 - val_average_loss: 0.0547 - val_vit_accuracy: 0.9845 - val_model0_accuracy: 0.9847 - val_average_accuracy: 0.9843 - lr: 8.1537e-05\n",
            "\n",
            "Epoch 19: LearningRateScheduler setting learning rate to 8.153726975999998e-05.\n",
            "Epoch 19/50\n",
            "625/625 [==============================] - ETA: 0s - loss: 0.0802 - vit_loss: 0.0300 - model0_loss: 0.0287 - average_loss: 0.0256 - vit_accuracy: 0.9916 - model0_accuracy: 0.9920 - average_accuracy: 0.9931\n",
            "Epoch 19: ReduceLROnPlateau reducing learning rate to 4.076863478985615e-05.\n",
            "625/625 [==============================] - 785s 1s/step - loss: 0.0802 - vit_loss: 0.0300 - model0_loss: 0.0287 - average_loss: 0.0256 - vit_accuracy: 0.9916 - model0_accuracy: 0.9920 - average_accuracy: 0.9931 - val_loss: 0.1665 - val_vit_loss: 0.0552 - val_model0_loss: 0.0583 - val_average_loss: 0.0545 - val_vit_accuracy: 0.9840 - val_model0_accuracy: 0.9847 - val_average_accuracy: 0.9845 - lr: 8.1537e-05\n",
            "\n",
            "Epoch 20: LearningRateScheduler setting learning rate to 8.153726975999998e-05.\n",
            "Epoch 20/50\n",
            "625/625 [==============================] - 785s 1s/step - loss: 0.0773 - vit_loss: 0.0296 - model0_loss: 0.0269 - average_loss: 0.0249 - vit_accuracy: 0.9915 - model0_accuracy: 0.9927 - average_accuracy: 0.9937 - val_loss: 0.1690 - val_vit_loss: 0.0557 - val_model0_loss: 0.0594 - val_average_loss: 0.0553 - val_vit_accuracy: 0.9848 - val_model0_accuracy: 0.9851 - val_average_accuracy: 0.9850 - lr: 8.1537e-05\n",
            "\n",
            "Epoch 21: LearningRateScheduler setting learning rate to 7.827577896959998e-05.\n",
            "Epoch 21/50\n",
            "625/625 [==============================] - ETA: 0s - loss: 0.0775 - vit_loss: 0.0296 - model0_loss: 0.0266 - average_loss: 0.0251 - vit_accuracy: 0.9920 - model0_accuracy: 0.9932 - average_accuracy: 0.9938\n",
            "Epoch 21: ReduceLROnPlateau reducing learning rate to 3.913788896170445e-05.\n",
            "625/625 [==============================] - 785s 1s/step - loss: 0.0775 - vit_loss: 0.0296 - model0_loss: 0.0266 - average_loss: 0.0251 - vit_accuracy: 0.9920 - model0_accuracy: 0.9932 - average_accuracy: 0.9938 - val_loss: 0.1673 - val_vit_loss: 0.0558 - val_model0_loss: 0.0585 - val_average_loss: 0.0547 - val_vit_accuracy: 0.9834 - val_model0_accuracy: 0.9844 - val_average_accuracy: 0.9846 - lr: 7.8276e-05\n",
            "\n",
            "Epoch 22: LearningRateScheduler setting learning rate to 7.827577896959998e-05.\n",
            "Epoch 22/50\n",
            "625/625 [==============================] - 786s 1s/step - loss: 0.0748 - vit_loss: 0.0274 - model0_loss: 0.0270 - average_loss: 0.0239 - vit_accuracy: 0.9924 - model0_accuracy: 0.9927 - average_accuracy: 0.9936 - val_loss: 0.1704 - val_vit_loss: 0.0561 - val_model0_loss: 0.0601 - val_average_loss: 0.0556 - val_vit_accuracy: 0.9846 - val_model0_accuracy: 0.9844 - val_average_accuracy: 0.9849 - lr: 7.8276e-05\n",
            "\n",
            "Epoch 23: LearningRateScheduler setting learning rate to 7.827577896959998e-05.\n",
            "Epoch 23/50\n",
            "625/625 [==============================] - ETA: 0s - loss: 0.0731 - vit_loss: 0.0278 - model0_loss: 0.0252 - average_loss: 0.0236 - vit_accuracy: 0.9922 - model0_accuracy: 0.9928 - average_accuracy: 0.9940\n",
            "Epoch 23: ReduceLROnPlateau reducing learning rate to 3.913788896170445e-05.\n",
            "625/625 [==============================] - 786s 1s/step - loss: 0.0731 - vit_loss: 0.0278 - model0_loss: 0.0252 - average_loss: 0.0236 - vit_accuracy: 0.9922 - model0_accuracy: 0.9928 - average_accuracy: 0.9940 - val_loss: 0.1674 - val_vit_loss: 0.0551 - val_model0_loss: 0.0590 - val_average_loss: 0.0547 - val_vit_accuracy: 0.9847 - val_model0_accuracy: 0.9843 - val_average_accuracy: 0.9851 - lr: 7.8276e-05\n",
            "\n",
            "Epoch 24: LearningRateScheduler setting learning rate to 7.827577896959998e-05.\n",
            "Epoch 24/50\n",
            "625/625 [==============================] - 786s 1s/step - loss: 0.0731 - vit_loss: 0.0269 - model0_loss: 0.0260 - average_loss: 0.0234 - vit_accuracy: 0.9924 - model0_accuracy: 0.9927 - average_accuracy: 0.9937 - val_loss: 0.1698 - val_vit_loss: 0.0560 - val_model0_loss: 0.0599 - val_average_loss: 0.0554 - val_vit_accuracy: 0.9845 - val_model0_accuracy: 0.9839 - val_average_accuracy: 0.9845 - lr: 7.8276e-05\n",
            "\n",
            "Epoch 25: LearningRateScheduler setting learning rate to 7.514474781081598e-05.\n",
            "Epoch 25/50\n",
            "625/625 [==============================] - ETA: 0s - loss: 0.0719 - vit_loss: 0.0275 - model0_loss: 0.0249 - average_loss: 0.0231 - vit_accuracy: 0.9924 - model0_accuracy: 0.9934 - average_accuracy: 0.9942\n",
            "Epoch 25: ReduceLROnPlateau reducing learning rate to 3.75723720935639e-05.\n",
            "625/625 [==============================] - 786s 1s/step - loss: 0.0719 - vit_loss: 0.0275 - model0_loss: 0.0249 - average_loss: 0.0231 - vit_accuracy: 0.9924 - model0_accuracy: 0.9934 - average_accuracy: 0.9942 - val_loss: 0.1699 - val_vit_loss: 0.0563 - val_model0_loss: 0.0597 - val_average_loss: 0.0555 - val_vit_accuracy: 0.9847 - val_model0_accuracy: 0.9848 - val_average_accuracy: 0.9852 - lr: 7.5145e-05\n",
            "\n",
            "Epoch 26: LearningRateScheduler setting learning rate to 7.514474781081598e-05.\n",
            "Epoch 26/50\n",
            "625/625 [==============================] - 786s 1s/step - loss: 0.0711 - vit_loss: 0.0263 - model0_loss: 0.0249 - average_loss: 0.0229 - vit_accuracy: 0.9924 - model0_accuracy: 0.9931 - average_accuracy: 0.9942 - val_loss: 0.1687 - val_vit_loss: 0.0556 - val_model0_loss: 0.0596 - val_average_loss: 0.0551 - val_vit_accuracy: 0.9840 - val_model0_accuracy: 0.9842 - val_average_accuracy: 0.9848 - lr: 7.5145e-05\n",
            "\n",
            "Epoch 27: LearningRateScheduler setting learning rate to 7.514474781081598e-05.\n",
            "Epoch 27/50\n",
            "625/625 [==============================] - ETA: 0s - loss: 0.0668 - vit_loss: 0.0257 - model0_loss: 0.0233 - average_loss: 0.0215 - vit_accuracy: 0.9930 - model0_accuracy: 0.9936 - average_accuracy: 0.9947\n",
            "Epoch 27: ReduceLROnPlateau reducing learning rate to 3.75723720935639e-05.\n",
            "625/625 [==============================] - 786s 1s/step - loss: 0.0668 - vit_loss: 0.0257 - model0_loss: 0.0233 - average_loss: 0.0215 - vit_accuracy: 0.9930 - model0_accuracy: 0.9936 - average_accuracy: 0.9947 - val_loss: 0.1702 - val_vit_loss: 0.0560 - val_model0_loss: 0.0603 - val_average_loss: 0.0555 - val_vit_accuracy: 0.9846 - val_model0_accuracy: 0.9850 - val_average_accuracy: 0.9849 - lr: 7.5145e-05\n",
            "\n",
            "Epoch 28: LearningRateScheduler setting learning rate to 7.514474781081598e-05.\n",
            "Epoch 28/50\n",
            "625/625 [==============================] - 786s 1s/step - loss: 0.0660 - vit_loss: 0.0247 - model0_loss: 0.0232 - average_loss: 0.0212 - vit_accuracy: 0.9932 - model0_accuracy: 0.9940 - average_accuracy: 0.9951 - val_loss: 0.1739 - val_vit_loss: 0.0577 - val_model0_loss: 0.0611 - val_average_loss: 0.0568 - val_vit_accuracy: 0.9838 - val_model0_accuracy: 0.9848 - val_average_accuracy: 0.9842 - lr: 7.5145e-05\n",
            "\n",
            "Epoch 29: LearningRateScheduler setting learning rate to 7.213895789838334e-05.\n",
            "Epoch 29/50\n",
            "625/625 [==============================] - ETA: 0s - loss: 0.0673 - vit_loss: 0.0252 - model0_loss: 0.0234 - average_loss: 0.0217 - vit_accuracy: 0.9925 - model0_accuracy: 0.9935 - average_accuracy: 0.9947\n",
            "Epoch 29: ReduceLROnPlateau reducing learning rate to 3.606947939260863e-05.\n",
            "625/625 [==============================] - 786s 1s/step - loss: 0.0673 - vit_loss: 0.0252 - model0_loss: 0.0234 - average_loss: 0.0217 - vit_accuracy: 0.9925 - model0_accuracy: 0.9935 - average_accuracy: 0.9947 - val_loss: 0.1723 - val_vit_loss: 0.0571 - val_model0_loss: 0.0606 - val_average_loss: 0.0563 - val_vit_accuracy: 0.9842 - val_model0_accuracy: 0.9839 - val_average_accuracy: 0.9849 - lr: 7.2139e-05\n",
            "\n",
            "Epoch 30: LearningRateScheduler setting learning rate to 7.213895789838334e-05.\n",
            "Epoch 30/50\n",
            "625/625 [==============================] - 785s 1s/step - loss: 0.0654 - vit_loss: 0.0246 - model0_loss: 0.0228 - average_loss: 0.0210 - vit_accuracy: 0.9935 - model0_accuracy: 0.9938 - average_accuracy: 0.9947 - val_loss: 0.1749 - val_vit_loss: 0.0582 - val_model0_loss: 0.0613 - val_average_loss: 0.0572 - val_vit_accuracy: 0.9838 - val_model0_accuracy: 0.9848 - val_average_accuracy: 0.9854 - lr: 7.2139e-05\n",
            "\n",
            "Epoch 31: LearningRateScheduler setting learning rate to 7.213895789838334e-05.\n",
            "Epoch 31/50\n",
            "625/625 [==============================] - ETA: 0s - loss: 0.0629 - vit_loss: 0.0229 - model0_loss: 0.0225 - average_loss: 0.0202 - vit_accuracy: 0.9940 - model0_accuracy: 0.9942 - average_accuracy: 0.9954\n",
            "Epoch 31: ReduceLROnPlateau reducing learning rate to 3.606947939260863e-05.\n",
            "625/625 [==============================] - 785s 1s/step - loss: 0.0629 - vit_loss: 0.0229 - model0_loss: 0.0225 - average_loss: 0.0202 - vit_accuracy: 0.9940 - model0_accuracy: 0.9942 - average_accuracy: 0.9954 - val_loss: 0.1739 - val_vit_loss: 0.0579 - val_model0_loss: 0.0609 - val_average_loss: 0.0568 - val_vit_accuracy: 0.9837 - val_model0_accuracy: 0.9843 - val_average_accuracy: 0.9845 - lr: 7.2139e-05\n",
            "\n",
            "Epoch 32: LearningRateScheduler setting learning rate to 7.213895789838334e-05.\n",
            "Epoch 32/50\n",
            "625/625 [==============================] - 786s 1s/step - loss: 0.0622 - vit_loss: 0.0233 - model0_loss: 0.0218 - average_loss: 0.0200 - vit_accuracy: 0.9934 - model0_accuracy: 0.9942 - average_accuracy: 0.9951 - val_loss: 0.1752 - val_vit_loss: 0.0581 - val_model0_loss: 0.0617 - val_average_loss: 0.0572 - val_vit_accuracy: 0.9844 - val_model0_accuracy: 0.9848 - val_average_accuracy: 0.9854 - lr: 7.2139e-05\n",
            "\n",
            "Epoch 33: LearningRateScheduler setting learning rate to 6.9253399582448e-05.\n",
            "Epoch 33/50\n",
            "625/625 [==============================] - ETA: 0s - loss: 0.0600 - vit_loss: 0.0229 - model0_loss: 0.0210 - average_loss: 0.0193 - vit_accuracy: 0.9938 - model0_accuracy: 0.9941 - average_accuracy: 0.9954\n",
            "Epoch 33: ReduceLROnPlateau reducing learning rate to 3.462670065346174e-05.\n",
            "625/625 [==============================] - 786s 1s/step - loss: 0.0600 - vit_loss: 0.0229 - model0_loss: 0.0210 - average_loss: 0.0193 - vit_accuracy: 0.9938 - model0_accuracy: 0.9941 - average_accuracy: 0.9954 - val_loss: 0.1731 - val_vit_loss: 0.0578 - val_model0_loss: 0.0606 - val_average_loss: 0.0566 - val_vit_accuracy: 0.9843 - val_model0_accuracy: 0.9855 - val_average_accuracy: 0.9851 - lr: 6.9253e-05\n"
          ]
        }
      ],
      "source": [
        "optimizer_adamax =Adamax(learning_rate=0.001)\n",
        "lossWeights = {'model0':0.75,'vit':0.25,'average':2.0}\n",
        "loss = keras.losses.CategoricalCrossentropy()\n",
        "\n",
        "model_final.compile( optimizer=optimizer_adamax, metrics=[\"accuracy\"],loss={'model0':loss,'vit':loss,'average':loss},loss_weights=lossWeights)\n",
        "history = model_final.fit(train_data, epochs=50,validation_data=valid_data,batch_size=64,callbacks=[mycallback],workers=8)\n"
      ]
    }
  ],
  "metadata": {
    "accelerator": "GPU",
    "colab": {
      "collapsed_sections": [
        "Em_vCIvsWgol",
        "ra0K4ju7uU-P",
        "9iJKlP4OUxTP",
        "wMKcSVz1tItl",
        "8pQrnYlUtIto",
        "z9KveLojtItq",
        "ZduIbfCytItr",
        "FcOq3beitItv",
        "gaR5YSPftItw",
        "LIqpvjSCiHhn",
        "B79pvsRbirs0",
        "c5S6rz0Aogt1",
        "DJy1pvBqovBA",
        "p-JmQby_jm2a",
        "nyNvEJ_dL0v2",
        "uSUFup2gvCcT",
        "ZYhlM_Jro7Ne",
        "POAYJuSo3kSq",
        "4Ri7M2T1F962",
        "KcRHVhEBGLkn",
        "Dlglbt7zsoj8",
        "BMj_1QprDntK",
        "X-9rxtO4Dba0"
      ],
      "machine_shape": "hm",
      "provenance": [],
      "gpuClass": "premium"
    },
    "environment": {
      "name": "tf2-gpu.2-4.m61",
      "type": "gcloud",
      "uri": "gcr.io/deeplearning-platform-release/tf2-gpu.2-4:m61"
    },
    "gpuClass": "premium",
    "kernelspec": {
      "display_name": "Python 3",
      "language": "python",
      "name": "python3"
    },
    "language_info": {
      "codemirror_mode": {
        "name": "ipython",
        "version": 3
      },
      "file_extension": ".py",
      "mimetype": "text/x-python",
      "name": "python",
      "nbconvert_exporter": "python",
      "pygments_lexer": "ipython3",
      "version": "3.7.9"
    }
  },
  "nbformat": 4,
  "nbformat_minor": 0
}