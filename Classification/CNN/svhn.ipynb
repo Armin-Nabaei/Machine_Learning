{
  "cells": [
    {
      "cell_type": "markdown",
      "metadata": {
        "id": "UVKhlYNPWtPF"
      },
      "source": [
        "#Library"
      ]
    },
    {
      "cell_type": "code",
      "execution_count": null,
      "metadata": {
        "colab": {
          "base_uri": "https://localhost:8080/"
        },
        "id": "Njgw6pm8Cwg5",
        "outputId": "f0d1c05b-dacb-4566-f4ed-f44e268348a3"
      },
      "outputs": [
        {
          "name": "stdout",
          "output_type": "stream",
          "text": [
            "Drive already mounted at /content/drive; to attempt to forcibly remount, call drive.mount(\"/content/drive\", force_remount=True).\n"
          ]
        }
      ],
      "source": [
        "# Mount Google Drive to access the dataset stored in Drive\n",
        "from google.colab import drive\n",
        "drive.mount('/content/drive')\n",
        "\n",
        "# Import TensorFlow and enable eager execution for immediate execution of operations\n",
        "import tensorflow as tf\n",
        "tf.compat.v1.enable_eager_execution()\n",
        "\n",
        "# Import necessary libraries for data handling and manipulation\n",
        "import os\n",
        "import sys\n",
        "import random\n",
        "import warnings\n",
        "import pandas as pd\n",
        "import math\n",
        "import cv2\n",
        "import skimage\n",
        "from skimage import data, io\n",
        "import datetime\n",
        "from math import *\n",
        "from matplotlib import pyplot\n",
        "from tensorflow.keras import backend as K\n",
        "from tensorflow.keras.preprocessing.image import ImageDataGenerator\n",
        "from tensorflow.keras.models import Sequential, Model, load_model\n",
        "from tensorflow.keras.layers import (BatchNormalization, Conv2D, MaxPooling2D, GlobalMaxPooling2D, AveragePooling2D,\n",
        "                                     UpSampling2D, Conv2DTranspose, ELU, Activation, Flatten, Dropout, Dense,\n",
        "                                     ZeroPadding2D, Concatenate, Input)\n",
        "from tensorflow.keras.optimizers import RMSprop, SGD, Adam, Adamax\n",
        "from tensorflow.keras.callbacks import ModelCheckpoint, EarlyStopping, ReduceLROnPlateau, LearningRateScheduler\n",
        "from tensorflow.keras import regularizers\n",
        "import imgaug as ia\n",
        "from imgaug import augmenters as iaa\n",
        "import albumentations as A\n",
        "from sklearn.compose import ColumnTransformer\n",
        "from sklearn.preprocessing import Normalizer\n",
        "import tensorflow_addons as tfa\n",
        "import tensorflow_datasets as tfds\n",
        "from shutil import copyfile\n",
        "import seaborn as sn\n",
        "from tensorflow.keras.preprocessing import image\n",
        "from os.path import isfile, join\n",
        "import re\n",
        "from tensorflow.keras.preprocessing.image import img_to_array\n",
        "from scipy.io import loadmat\n",
        "from sklearn.model_selection import train_test_split\n",
        "from sklearn.preprocessing import LabelBinarizer\n",
        "from sklearn.metrics import classification_report, confusion_matrix\n",
        "import seaborn as sns\n",
        "from matplotlib import pyplot as plt"
      ]
    },
    {
      "cell_type": "code",
      "execution_count": null,
      "metadata": {
        "id": "qcrIXuuEsn4C"
      },
      "outputs": [],
      "source": [
        "# Import custom modules (My Proposed Functions), Download from GitHub and Import Here\n",
        "from ASoftMax import my_forward\n",
        "from AADAM import ArminAdam\n",
        "from ALoss import MyLoss\n",
        "from AClass_Weight import create_class_weight"
      ]
    },
    {
      "cell_type": "markdown",
      "metadata": {
        "id": "RyVkE6xomgPv"
      },
      "source": [
        "# LOAD DATA"
      ]
    },
    {
      "cell_type": "code",
      "execution_count": null,
      "metadata": {
        "id": "bwAIVMJThx9U"
      },
      "outputs": [],
      "source": [
        "np.random.seed(20)"
      ]
    },
    {
      "cell_type": "code",
      "execution_count": null,
      "metadata": {
        "id": "SZ8Su1lgh2ZY"
      },
      "outputs": [],
      "source": [
        "# Load data from .mat files using scipy's loadmat method\n",
        "\n",
        "train_raw = loadmat('train_32x32.mat')\n",
        "test_raw = loadmat('test_32x32.mat')"
      ]
    },
    {
      "cell_type": "code",
      "execution_count": null,
      "metadata": {
        "id": "-eocQDIeh_1O"
      },
      "outputs": [],
      "source": [
        "# Extract images and labels from the loaded data\n",
        "train_images = np.array(train_raw['X'])\n",
        "test_images = np.array(test_raw['X'])\n",
        "\n",
        "train_labels = train_raw['y']\n",
        "test_labels = test_raw['y']"
      ]
    },
    {
      "cell_type": "code",
      "execution_count": null,
      "metadata": {
        "colab": {
          "base_uri": "https://localhost:8080/"
        },
        "id": "Eea4kbOfiDse",
        "outputId": "40f103ce-68cf-4dae-d726-5d39b349d005"
      },
      "outputs": [
        {
          "name": "stdout",
          "output_type": "stream",
          "text": [
            "(73257, 32, 32, 3)\n",
            "(26032, 32, 32, 3)\n"
          ]
        }
      ],
      "source": [
        "# Preprocess data: Fix axes of images, convert data types, and one-hot encode labels\n",
        "train_images = np.moveaxis(train_images, -1, 0)\n",
        "test_images = np.moveaxis(test_images, -1, 0)\n",
        "train_images = train_images.astype('float64')\n",
        "test_images = test_images.astype('float64')\n",
        "train_labels = train_labels.astype('int64')\n",
        "test_labels = test_labels.astype('int64')\n",
        "lb = LabelBinarizer()\n",
        "train_labels = lb.fit_transform(train_labels)\n",
        "test_labels = lb.fit_transform(test_labels)"
      ]
    },
    {
      "cell_type": "code",
      "execution_count": null,
      "metadata": {
        "id": "cXR8-inZq8EL"
      },
      "outputs": [],
      "source": [
        "# Split data into training, validation, and testing sets\n",
        "\n",
        "x_train, x_val, y_train, y_val = train_test_split(train_images, train_labels, test_size=0.15, random_state=22)"
      ]
    },
    {
      "cell_type": "markdown",
      "metadata": {
        "id": "5AWf_spQpRWr"
      },
      "source": [
        "# IMAGE GENERATOR"
      ]
    },
    {
      "cell_type": "code",
      "execution_count": null,
      "metadata": {
        "id": "CsHOs7vllPdw"
      },
      "outputs": [],
      "source": [
        "num_classes = 10\n",
        "batch_size =64\n",
        "\n",
        "# Define data augmentation strategies for training and validation sets\n",
        "train_datagen = ImageDataGenerator(rescale=1./512, rotation_range=20, shear_range=0.2, zoom_range=0.2)\n",
        "validation_datagen = ImageDataGenerator(rescale=1./512)\n",
        "\n",
        "# Prepare data generators for training and validation\n",
        "train_generator = train_datagen.flow(x_train, y_train, batch_size=64, shuffle=True)\n",
        "validation_generator = validation_datagen.flow(x_val, y_val, batch_size=64, shuffle=True)"
      ]
    },
    {
      "cell_type": "markdown",
      "metadata": {
        "id": "A2cLhPi4P43I"
      },
      "source": [
        "# MODEL"
      ]
    },
    {
      "cell_type": "markdown",
      "metadata": {
        "id": "R9qyNZvYcERq"
      },
      "source": [
        "## Side Branch"
      ]
    },
    {
      "cell_type": "code",
      "execution_count": null,
      "metadata": {
        "id": "PVgWkeyyCri8"
      },
      "outputs": [],
      "source": [
        "l2=tf.keras.regularizers.l2(1e-3)\n",
        "kernel_init = tf.keras.initializers.he_normal()\n",
        "bias_init = tf.keras.initializers.Constant(value=0.1)"
      ]
    },
    {
      "cell_type": "code",
      "execution_count": null,
      "metadata": {
        "id": "USgEkHQEcOqR"
      },
      "outputs": [],
      "source": [
        " def auxilliary_module1(x,\n",
        "                     filters_3x3,\n",
        "                     filters_3x3_1,\n",
        "                     filters_3x3_2,\n",
        "                     filters_5x5,\n",
        "                     filters_5x5_1,\n",
        "                     filters_5x5_2,\n",
        "                     filters_pool_proj,\n",
        "                     name='aux1'):\n",
        "\n",
        "    conv_3x3 = Conv2D(filters_3x3, (1, 1), padding='same', activation='relu', kernel_initializer=\"he_normal\")(x)\n",
        "    conv_3x3_1 = Conv2D(filters_3x3_1, (3, 3), padding='same', activation='relu', kernel_initializer=\"he_normal\")(conv_3x3)\n",
        "    conv_3x3_2 = Conv2D(filters_3x3_2, (3, 3), padding='same', activation='relu', kernel_initializer=\"he_normal\",kernel_regularizer=l2)(conv_3x3)\n",
        "\n",
        "    conv_5x5 = Conv2D(filters_5x5, (1, 1), padding='same', activation='relu', kernel_initializer=kernel_init)(x)\n",
        "    conv_5x5_1= Conv2D(filters_5x5_1, (5, 5), padding='same', activation='relu', kernel_initializer=\"he_normal\")(conv_5x5)\n",
        "    conv_5x5_2 = Conv2D(filters_5x5_2, (5, 5), padding='same', activation='relu', kernel_initializer=\"he_normal\",kernel_regularizer=l2)(conv_5x5)\n",
        "\n",
        "    pool_proj = MaxPool2D((3, 3), strides=(1, 1), padding='same')(x)\n",
        "    pool_proj = Conv2D(filters_pool_proj, (1, 1), padding='same', activation='relu', kernel_initializer=\"he_normal\")(pool_proj)\n",
        "\n",
        "    output = concatenate([conv_3x3_1, conv_3x3_2, conv_5x5_1,conv_5x5_2, pool_proj], axis=3, name='aux1')\n",
        "\n",
        "    return output"
      ]
    },
    {
      "cell_type": "code",
      "execution_count": null,
      "metadata": {
        "id": "x2RDTVGFcgcZ"
      },
      "outputs": [],
      "source": [
        " def auxilliary_module2(x,\n",
        "                     filters_3x3,\n",
        "                     filters_3x3_1,\n",
        "                     filters_3x3_2,\n",
        "                     filters_5x5,\n",
        "                     filters_5x5_1,\n",
        "                     filters_5x5_2,\n",
        "                     filters_pool_proj,\n",
        "                     name='aux2'):\n",
        "\n",
        "    conv_3x3 = Conv2D(filters_3x3, (1, 1), padding='same', activation='relu', kernel_initializer=\"he_normal\")(x)\n",
        "    conv_3x3_1 = Conv2D(filters_3x3_1, (3, 3), padding='same', activation='relu', kernel_initializer=\"he_normal\")(conv_3x3)\n",
        "    conv_3x3_2 = Conv2D(filters_3x3_2, (3, 3), padding='same', activation='relu', kernel_initializer=\"he_normal\",kernel_regularizer=l2)(conv_3x3)\n",
        "\n",
        "    conv_5x5 = Conv2D(filters_5x5, (1, 1), padding='same', activation='relu', kernel_initializer=kernel_init)(x)\n",
        "    conv_5x5_1= Conv2D(filters_5x5_1, (5, 5), padding='same', activation='relu', kernel_initializer=\"he_normal\")(conv_5x5)\n",
        "    conv_5x5_2 = Conv2D(filters_5x5_2, (5, 5), padding='same', activation='relu', kernel_initializer=\"he_normal\",kernel_regularizer=l2)(conv_5x5)\n",
        "\n",
        "    pool_proj = MaxPool2D((3, 3), strides=(1, 1), padding='same')(x)\n",
        "    pool_proj = Conv2D(filters_pool_proj, (1, 1), padding='same', activation='relu', kernel_initializer=\"he_normal\")(pool_proj)\n",
        "\n",
        "    output = concatenate([conv_3x3_1, conv_3x3_2, conv_5x5_1,conv_5x5_2, pool_proj], axis=3, name='aux2')\n",
        "\n",
        "    return output"
      ]
    },
    {
      "cell_type": "markdown",
      "metadata": {
        "id": "JebpBM27cIub"
      },
      "source": [
        "## Main Branch"
      ]
    },
    {
      "cell_type": "code",
      "execution_count": null,
      "metadata": {
        "id": "7LO2mRE0MWRQ"
      },
      "outputs": [],
      "source": [
        "model = Sequential()\n",
        "input_layer = Input(shape=(32,32,3))\n",
        "\n",
        "#############################################\n",
        "input_half_1 = AveragePooling2D(pool_size=(2, 2), padding='valid')(input_layer)\n",
        "########################################\n",
        "x_0=Conv2D(32, (3, 3), padding = 'same', kernel_initializer=\"he_normal\")(input_layer)\n",
        "x=Activation('elu')(x_0)\n",
        "x=BatchNormalization(name='batch_10')(x)\n",
        "\n",
        "x=Conv2D(64, (1,1), padding = \"same\", kernel_initializer=\"he_normal\")(x)\n",
        "\n",
        "x=Conv2D(64, (3,3), padding = \"same\", kernel_initializer=\"he_normal\")(x)\n",
        "x=Activation('elu')(x)\n",
        "x=BatchNormalization()(x)\n",
        "x=Dropout(0.2)(x)\n",
        "\n",
        "x=Conv2D(64, (3,3), padding = \"same\", kernel_initializer=\"he_normal\")(x)\n",
        "x=Activation('elu')(x)\n",
        "x=BatchNormalization()(x)\n",
        "\n",
        "x0=AveragePooling2D(pool_size=(2, 2))(x)\n",
        "y1=AveragePooling2D(pool_size=(4, 4))(x)\n",
        "y1=Dropout(0.2)(y1)\n",
        "\n",
        "x1= concatenate([x0, input_half_1])\n",
        "##############################################\n",
        "i0=Conv2D(64, (1,1), padding = \"same\", kernel_initializer=\"he_normal\")(x1)\n",
        "\n",
        "i1 = inception_module1(i0,\n",
        "                     filters_3x3=128,\n",
        "                     filters_3x3_1=192,\n",
        "                     filters_3x3_2=192,\n",
        "                     filters_5x5=64,\n",
        "                     filters_5x5_1=96,\n",
        "                     filters_5x5_2=96,\n",
        "                     filters_pool_proj=64,\n",
        "                     name='inc1')\n",
        "\n",
        "i2 = inception_module2(i1,\n",
        "                     filters_3x3=128,\n",
        "                     filters_3x3_1=192,\n",
        "                     filters_3x3_2=192,\n",
        "                     filters_5x5=64,\n",
        "                     filters_5x5_1=96,\n",
        "                     filters_5x5_2=96,\n",
        "                     filters_pool_proj=64,\n",
        "                     name='inc2')\n",
        "\n",
        "i4 = AveragePooling2D(pool_size=(3, 3), padding='same')(i2)\n",
        "\n",
        "##############################################\n",
        "x1=Conv2D(128, (3, 3), padding = 'same', kernel_initializer=\"he_normal\")(x1)\n",
        "x1=Activation('elu')(x1)\n",
        "x1=BatchNormalization()(x1)\n",
        "\n",
        "x1=Conv2D(128, (1,1), padding = \"same\", kernel_initializer=\"he_normal\")(x1)\n",
        "\n",
        "\n",
        "x1=ZeroPadding2D((1, 1))(x1)\n",
        "x1=Conv2D(128, (3, 3), padding = 'same', kernel_initializer=\"he_normal\")(x1)\n",
        "x1=Activation('elu')(x1)\n",
        "x1=BatchNormalization(name='batch_12')(x1)\n",
        "\n",
        "x12=Conv2D(128, (3, 3), padding = 'valid', kernel_initializer=\"he_normal\")(x1)\n",
        "x1=Activation('elu')(x1)\n",
        "x23=BatchNormalization()(x1)\n",
        "x23=Dropout(0.2) (x23)\n",
        "x23= MaxPooling2D(pool_size=(3,3))(x23)\n",
        "\n",
        "x21= AveragePooling2D(pool_size=(2, 2))(x12)\n",
        "\n",
        "\n",
        "x2=concatenate([y1,x21])\n",
        "#############################\n",
        "\n",
        "x3=Conv2D(256, (3, 3), padding = 'same', kernel_initializer=\"he_normal\")(x2)\n",
        "x3=Activation('elu')(x3)\n",
        "x35=BatchNormalization()(x3)\n",
        "\n",
        "x34=Conv2D(256, (1,1), padding = \"same\", kernel_initializer=\"he_normal\")(x35)\n",
        "\n",
        "x36=Conv2D(256, (3, 3), padding = 'same', kernel_initializer=\"he_normal\")(x34)\n",
        "x36=Activation('elu')(x36)\n",
        "x3166=BatchNormalization()(x36)\n",
        "x3166=Dropout(0.2)(x3166)\n",
        "x316=ZeroPadding2D((2,2))(x3166)\n",
        "\n",
        "x33= MaxPooling2D(pool_size=(2,2))(x316)\n",
        "\n",
        "x3_1=AveragePooling2D(pool_size=(2, 2)) (x3166)\n",
        "\n",
        "#########################################\n",
        "\n",
        "x4=ZeroPadding2D((1, 1))(x3_1)\n",
        "x4=Conv2D(512, (3, 3), padding = 'same', kernel_initializer=\"he_normal\")(x4)\n",
        "x4=Activation('elu')(x4)\n",
        "x4=BatchNormalization()(x4)\n",
        "\n",
        "x6=Conv2D(512, (1,1), padding = \"same\", kernel_initializer=\"he_normal\")(x4)\n",
        "\n",
        "x6=Conv2D(512, (3, 3), padding = 'valid', kernel_initializer=\"he_normal\")(x6)\n",
        "x6=Activation('elu')(x6)\n",
        "x6=BatchNormalization()(x6)\n",
        "\n",
        "x7 =AveragePooling2D(pool_size=(2, 2), strides=None, padding='valid', data_format=None)(x6)\n",
        "#####################\n",
        "\n",
        "dc_1_0 = Conv2DTranspose(512, (5,5), activation='elu',strides=1,\n",
        "      padding = 'valid',kernel_initializer='he_normal')(x7)\n",
        "x7 =ZeroPadding2D((2,2))(x7)\n",
        "x7 = UpSampling2D((4,4))(x7)\n",
        "dc_1_0=concatenate([i4,dc_1_0,x23,x33])\n",
        "dc_1 = UpSampling2D((2,2))(dc_1_0)\n",
        "\n",
        "x7_0 = Flatten()(dc_1)\n",
        "\n",
        "x7_1 = Dense(128, activation='elu')(x7_0)\n",
        "x7_2 =BatchNormalization()(x7_1)\n",
        "x7_2 = Dropout(0.2)(x7_2)\n",
        "x7_4 = Dense(64, activation='elu')(x7_2)\n",
        "x7_5 =BatchNormalization()(x7_4)\n",
        "x7_5 = Dropout(0.1)(x7_5)\n",
        "x8_1 = Dense(num_classes,kernel_initializer=\"he_normal\")(x7_5)\n",
        "x8 =Activation(my_forward,dynamic=True)(x8_1)\n",
        "\n",
        "model = Model(input_layer, [x8])"
      ]
    },
    {
      "cell_type": "markdown",
      "metadata": {
        "id": "yP9OVh3wnTOW"
      },
      "source": [
        "# Hyperparameter Tuning Functions"
      ]
    },
    {
      "cell_type": "code",
      "execution_count": null,
      "metadata": {
        "id": "BYhkUJBipJjN"
      },
      "outputs": [],
      "source": [
        "import datetime\n",
        "weight_decay = 1e-6\n",
        "momentum = 0.9\n",
        "learning_rate = 0.001\n",
        "\n",
        "def create_tensorboard_callback(dir_name, experiment_name):\n",
        "  log_dir = dir_name + \"/\" + experiment_name + \"/\" + datetime.datetime.now().strftime(\"%Y%m%d-%H%M%S\")\n",
        "  tensorboard_callback = tf.keras.callbacks.TensorBoard(\n",
        "      log_dir=log_dir\n",
        "  )\n",
        "  print(f\"Saving TensorBoard log files to: {log_dir}\")\n",
        "  return tensorboard_callback\n",
        "\n",
        "\n",
        "def decay(epochs, steps=100):\n",
        "    drop = 0.95\n",
        "    epochs_drop = 8\n",
        "    lrate = initial_lrate * math.pow(drop, math.floor((1+(2*epochs)/epochs_drop)))\n",
        "    return lrate\n",
        "\n",
        "\n",
        "initial_lrate = 0.0001\n",
        "reduce_lr = ReduceLROnPlateau(monitor=\"val_loss\", factor=0.2,\n",
        "                              patience=4, min_lr=1e-6, verbose=0)\n",
        "\n",
        "checkpoint = ModelCheckpoint(\"/svhn.h5\",\n",
        "                             #save the best model while all epovhs of training\n",
        "                             monitor=\"val_accuracy\",\n",
        "                             mode=\"max\",\n",
        "                             save_best_only = True,\n",
        "                             verbose=1)\n",
        "\n",
        "earlystop = EarlyStopping(monitor = 'val_loss',\n",
        "                          min_delta = 1e-8,\n",
        "                          patience = 15,\n",
        "                          verbose = 1,\n",
        "                          restore_best_weights = True)\n",
        "\n",
        "lr_sc = LearningRateScheduler(decay,verbose=1)\n",
        "\n",
        "\n",
        "mycallback = [earlystop,checkpoint\n",
        "              ,reduce_lr\n",
        "              ,lr_sc\n",
        "              ,create_tensorboard_callback(dir_name=\"tensorflow_hub\",\n",
        "                experiment_name=\"SVHN_Model\")]"
      ]
    },
    {
      "cell_type": "markdown",
      "metadata": {
        "id": "8-gZwQUApZ8B"
      },
      "source": [
        "# TRAIN"
      ]
    },
    {
      "cell_type": "code",
      "execution_count": null,
      "metadata": {
        "id": "KbtBibl5yWnT"
      },
      "outputs": [],
      "source": [
        "# Load Pre-Trained Weights: Refer to the README.md for the shared link.\n",
        "model.load_weights(\"/svhn_armin.nabaei2_1.h5\")"
      ]
    },
    {
      "cell_type": "code",
      "execution_count": null,
      "metadata": {
        "colab": {
          "base_uri": "https://localhost:8080/"
        },
        "id": "INLFpz3zi7eu",
        "outputId": "b3cdba5b-b116-49fd-bbaa-5d512dc37ccd"
      },
      "outputs": [
        {
          "name": "stdout",
          "output_type": "stream",
          "text": [
            "Saving TensorBoard log files to: tensorflow_hub/SVHN_Model/20240220-191630\n"
          ]
        },
        {
          "name": "stderr",
          "output_type": "stream",
          "text": [
            "<ipython-input-30-e196fb9a000f>:64: UserWarning: `Model.fit_generator` is deprecated and will be removed in a future version. Please use `Model.fit`, which supports generators.\n",
            "  history = model.fit_generator(train_generator,\n"
          ]
        },
        {
          "name": "stdout",
          "output_type": "stream",
          "text": [
            "\n",
            "Epoch 1: LearningRateScheduler setting learning rate to 9.5e-05.\n",
            "Epoch 1/20\n",
            "1145/1145 [==============================] - ETA: 0s - loss: 1.5630 - accuracy: 0.9638\n",
            "Epoch 1: val_accuracy improved from -inf to 0.97695, saving model to /content/drive/MyDrive/svhn/svhn_armin.nabaei2_1.h5\n"
          ]
        },
        {
          "name": "stderr",
          "output_type": "stream",
          "text": [
            "/usr/local/lib/python3.10/dist-packages/keras/src/engine/training.py:3103: UserWarning: You are saving your model as an HDF5 file via `model.save()`. This file format is considered legacy. We recommend using instead the native Keras format, e.g. `model.save('my_model.keras')`.\n",
            "  saving_api.save_model(\n"
          ]
        },
        {
          "name": "stdout",
          "output_type": "stream",
          "text": [
            "\b\b\b\b\b\b\b\b\b\b\b\b\b\b\b\b\b\b\b\b\b\b\b\b\b\b\b\b\b\b\b\b\b\b\b\b\b\b\b\b\b\b\b\b\b\b\b\b\b\b\b\b\b\b\b\b\b\b\b\b\b\b\b\b\b\b\b\b\b\b\b\b\b\b\b\b\b\b\b\b\b\b\b\b\b\b\r1145/1145 [==============================] - 513s 441ms/step - loss: 1.5630 - accuracy: 0.9638 - val_loss: 1.5236 - val_accuracy: 0.9770 - lr: 9.5000e-05\n",
            "\n",
            "Epoch 2: LearningRateScheduler setting learning rate to 9.5e-05.\n",
            "Epoch 2/20\n",
            "1145/1145 [==============================] - ETA: 0s - loss: 1.4979 - accuracy: 0.9765\n",
            "Epoch 2: val_accuracy did not improve from 0.97695\n",
            "1145/1145 [==============================] - 491s 429ms/step - loss: 1.4979 - accuracy: 0.9765 - val_loss: 1.5216 - val_accuracy: 0.9748 - lr: 9.5000e-05\n",
            "\n",
            "Epoch 3: LearningRateScheduler setting learning rate to 9.5e-05.\n",
            "Epoch 3/20\n",
            "1145/1145 [==============================] - ETA: 0s - loss: 1.4636 - accuracy: 0.9839\n",
            "Epoch 3: val_accuracy did not improve from 0.97695\n",
            "1145/1145 [==============================] - 490s 428ms/step - loss: 1.4636 - accuracy: 0.9839 - val_loss: 1.5514 - val_accuracy: 0.9751 - lr: 9.5000e-05\n",
            "\n",
            "Epoch 4: LearningRateScheduler setting learning rate to 9.5e-05.\n",
            "Epoch 4/20\n",
            "1145/1145 [==============================] - ETA: 0s - loss: 1.4410 - accuracy: 0.9886\n",
            "Epoch 4: val_accuracy did not improve from 0.97695\n",
            "1145/1145 [==============================] - 494s 431ms/step - loss: 1.4410 - accuracy: 0.9886 - val_loss: 1.5540 - val_accuracy: 0.9745 - lr: 9.5000e-05\n",
            "\n",
            "Epoch 5: LearningRateScheduler setting learning rate to 9.025e-05.\n",
            "Epoch 5/20\n",
            "1145/1145 [==============================] - ETA: 0s - loss: 1.4261 - accuracy: 0.9922\n",
            "Epoch 5: val_accuracy did not improve from 0.97695\n",
            "1145/1145 [==============================] - 493s 431ms/step - loss: 1.4261 - accuracy: 0.9922 - val_loss: 1.5539 - val_accuracy: 0.9749 - lr: 9.0250e-05\n",
            "\n",
            "Epoch 6: LearningRateScheduler setting learning rate to 9.025e-05.\n",
            "Epoch 6/20\n",
            "1145/1145 [==============================] - ETA: 0s - loss: 1.4167 - accuracy: 0.9938\n",
            "Epoch 6: val_accuracy did not improve from 0.97695\n",
            "1145/1145 [==============================] - 492s 430ms/step - loss: 1.4167 - accuracy: 0.9938 - val_loss: 1.5593 - val_accuracy: 0.9745 - lr: 1.8050e-05\n",
            "\n",
            "Epoch 7: LearningRateScheduler setting learning rate to 9.025e-05.\n",
            "Epoch 7/20\n",
            "1145/1145 [==============================] - ETA: 0s - loss: 1.4108 - accuracy: 0.9952\n",
            "Epoch 7: val_accuracy did not improve from 0.97695\n",
            "1145/1145 [==============================] - 493s 430ms/step - loss: 1.4108 - accuracy: 0.9952 - val_loss: 1.5759 - val_accuracy: 0.9736 - lr: 9.0250e-05\n",
            "\n",
            "Epoch 8: LearningRateScheduler setting learning rate to 9.025e-05.\n",
            "Epoch 8/20\n",
            " 348/1145 [========>.....................] - ETA: 5:22 - loss: 1.4046 - accuracy: 0.9969"
          ]
        }
      ],
      "source": [
        "model.compile(#loss='categorical_crossentropy',\n",
        "                loss= MyLoss,\n",
        "                optimizer = ArminAdam,\n",
        "                #optimizer=Adam(learning_rate=0.001),\n",
        "                metrics=['accuracy'])\n",
        "\n",
        "\n",
        "nb_train_samples = 73257\n",
        "nb_validation_samples = 26032\n",
        "\n",
        "\n",
        "# fit the model\n",
        "history = model.fit_generator(train_generator,\n",
        "                              epochs=20,\n",
        "                              validation_data= validation_generator,\n",
        "                              callbacks = mycallback,\n",
        "                              verbose=1)"
      ]
    },
    {
      "cell_type": "markdown",
      "metadata": {
        "id": "h5pk2OE34LYc"
      },
      "source": [
        "\n",
        "# Evaluation"
      ]
    },
    {
      "cell_type": "code",
      "execution_count": null,
      "metadata": {
        "colab": {
          "base_uri": "https://localhost:8080/"
        },
        "id": "nbaLSYRTpb_5",
        "outputId": "a46b90ec-da12-4694-d8e6-62749ec0d984"
      },
      "outputs": [
        {
          "name": "stdout",
          "output_type": "stream",
          "text": [
            "407/407 [==============================] - 26s 65ms/step - loss: 0.1158 - accuracy: 0.9765\n",
            "test loss, test acc: {'loss': 0.1157761663198471, 'accuracy': 0.9764520525932312}\n"
          ]
        }
      ],
      "source": [
        "# Evaluate model on test data\n",
        "results = model.evaluate(validation_generator,verbose=0, return_dict=True)\n",
        "print(\"test loss, test acc:\", results)\n"
      ]
    },
    {
      "cell_type": "markdown",
      "metadata": {
        "id": "eD32lf76Ziqb"
      },
      "source": [
        "# Ploting our Loss and Accuracy Charts"
      ]
    },
    {
      "cell_type": "code",
      "execution_count": null,
      "metadata": {
        "colab": {
          "base_uri": "https://localhost:8080/",
          "height": 449
        },
        "id": "XuAgSmqFZlxr",
        "outputId": "9c4e7a7c-f2d1-4f16-ce1d-42df8fd7bbcb"
      },
      "outputs": [
        {
          "data": {
            "image/png": "[encoded data removed]",
            "text/plain": [
              "<Figure size 640x480 with 1 Axes>"
            ]
          },
          "metadata": {},
          "output_type": "display_data"
        }
      ],
      "source": [
        "# Plotting our loss charts\n",
        "import matplotlib.pyplot as plt\n",
        "\n",
        "history_dict = history.history\n",
        "\n",
        "loss_values = history_dict['loss']\n",
        "val_loss_values = history_dict['val_loss']\n",
        "epochs = range(1, len(loss_values) + 1)\n",
        "\n",
        "line1 = plt.plot(epochs, val_loss_values, label='Test Loss')\n",
        "line2 = plt.plot(epochs, loss_values, label='Training Loss')\n",
        "plt.setp(line1, linewidth=2.0, marker = '+', markersize=10.0)\n",
        "plt.setp(line2, linewidth=2.0, marker = '4', markersize=10.0)\n",
        "plt.xlabel('Epochs')\n",
        "plt.ylabel('Loss')\n",
        "plt.grid(True)\n",
        "plt.legend()\n",
        "plt.show()"
      ]
    },
    {
      "cell_type": "code",
      "execution_count": null,
      "metadata": {
        "colab": {
          "base_uri": "https://localhost:8080/",
          "height": 449
        },
        "id": "MIdo0hrEZlLZ",
        "outputId": "7062a540-1ffd-4787-d3a9-a4a9a982053a"
      },
      "outputs": [
        {
          "data": {
            "image/png": "[encoded data removed]",
            "text/plain": [
              "<Figure size 640x480 with 1 Axes>"
            ]
          },
          "metadata": {},
          "output_type": "display_data"
        }
      ],
      "source": [
        "# Plotting our accuracy charts\n",
        "import matplotlib.pyplot as plt\n",
        "\n",
        "history_dict = history.history\n",
        "\n",
        "acc_values = history_dict['accuracy']\n",
        "val_acc_values = history_dict['val_accuracy']\n",
        "epochs = range(1, len(loss_values) + 1)\n",
        "\n",
        "line1 = plt.plot(epochs, val_acc_values, color='r',label='Test Accuracy')\n",
        "line2 = plt.plot(epochs, acc_values,color='g', label='Training Accuracy')\n",
        "plt.setp(line1, linewidth=2.0, marker = '+', markersize=10.0)\n",
        "plt.setp(line2, linewidth=2.0, marker = '4', markersize=10.0)\n",
        "plt.xlabel('Epochs')\n",
        "plt.ylabel('Accuracy')\n",
        "plt.grid(True)\n",
        "plt.legend()\n",
        "plt.show()"
      ]
    },
    {
      "cell_type": "markdown",
      "metadata": {
        "id": "vhxI3jd-ivHI"
      },
      "source": [
        "# Confusion Matrix"
      ]
    },
    {
      "cell_type": "code",
      "execution_count": null,
      "metadata": {
        "colab": {
          "base_uri": "https://localhost:8080/",
          "height": 1000
        },
        "id": "qjrAFCsQi0Dj",
        "outputId": "c3c9ff42-f8be-4cdb-9b3c-20008b8cfc5c"
      },
      "outputs": [
        {
          "name": "stdout",
          "output_type": "stream",
          "text": [
            "              precision    recall  f1-score   support\n",
            "\n",
            "           0       0.98      0.97      0.97      5099\n",
            "           1       0.98      0.98      0.98      4149\n",
            "           2       0.97      0.96      0.97      2882\n",
            "           3       0.97      0.98      0.98      2523\n",
            "           4       0.98      0.97      0.97      2384\n",
            "           5       0.96      0.97      0.97      1977\n",
            "           6       0.96      0.97      0.97      2019\n",
            "           7       0.96      0.97      0.97      1660\n",
            "           8       0.95      0.97      0.96      1595\n",
            "           9       0.96      0.97      0.97      1744\n",
            "\n",
            "    accuracy                           0.97     26032\n",
            "   macro avg       0.97      0.97      0.97     26032\n",
            "weighted avg       0.97      0.97      0.97     26032\n",
            "\n"
          ]
        },
        {
          "data": {
            "image/png": "[encoded data removed]",
            "text/plain": [
              "<Figure size 1000x1000 with 2 Axes>"
            ]
          },
          "metadata": {},
          "output_type": "display_data"
        }
      ],
      "source": [
        "import matplotlib.pyplot as plt\n",
        "import sklearn\n",
        "from sklearn.metrics import classification_report, confusion_matrix\n",
        "import numpy as np\n",
        "import seaborn as sn\n",
        "import pandas as pd\n",
        "from sklearn.metrics import confusion_matrix\n",
        "import seaborn as sns\n",
        "\n",
        "\n",
        "class_names = ['0', '1', '2', '3', '4', '5', '6', '7', '8', '9']\n",
        "validation_generator = validation_datagen.flow(\n",
        "        x_test, y_test,\n",
        "        batch_size=batch_size,\n",
        "        shuffle=False)\n",
        "############################################\n",
        "predictions  = model.predict(validation_generator, batch_size=64, verbose=0)\n",
        "################################################\n",
        "y_preds = [np.argmax(i) for i in predictions]\n",
        "test_y = [np.argmax(i) for i in y_test]\n",
        "#The following 7 lines are all that is required to plot the confusion matrix.\n",
        "#predictions_for_cm = predictions.argmax(1)\n",
        "\n",
        "#################################\n",
        "\n",
        "cnf_matrix = confusion_matrix(test_y,y_preds)\n",
        "plt.figure(figsize=(10,10))\n",
        "#sns.heatmap(cnf_matrix, annot=True,  xticklabels=class_names, yticklabels = class_names,center=0, fmt=\"d\",vmin=0, vmax=1)\n",
        "#Create normalized Confusion Matrix\n",
        "cm_normalized = cnf_matrix.astype('float') / cnf_matrix.sum(axis=1)[:, np.newaxis]\n",
        "sns.heatmap(cm_normalized, annot=True,  linewidths = 0.01)\n",
        "print(classification_report(test_y,y_preds))"
      ]
    }
  ],
  "metadata": {
    "accelerator": "GPU",
    "colab": {
      "collapsed_sections": [
        "r6NgmaME_1rK",
        "RyVkE6xomgPv",
        "5AWf_spQpRWr",
        "0S0CEpCwvnSn",
        "iD-zp0QPi7es",
        "7h4qc03kfBR9",
        "gmsClUIJLb6C",
        "eD32lf76Ziqb"
      ],
      "gpuType": "T4",
      "machine_shape": "hm",
      "provenance": []
    },
    "kernelspec": {
      "display_name": "Python 3",
      "name": "python3"
    },
    "language_info": {
      "name": "python"
    }
  },
  "nbformat": 4,
  "nbformat_minor": 0
}
